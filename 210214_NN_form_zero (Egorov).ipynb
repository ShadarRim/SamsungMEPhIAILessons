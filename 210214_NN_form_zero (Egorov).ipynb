{
  "nbformat": 4,
  "nbformat_minor": 0,
  "metadata": {
    "colab": {
      "name": "210214 Нейросеть с нуля.ipynb",
      "provenance": [],
      "collapsed_sections": []
    },
    "kernelspec": {
      "name": "python3",
      "display_name": "Python 3"
    }
  },
  "cells": [
    {
      "cell_type": "code",
      "metadata": {
        "id": "LqoODgiHRJmC"
      },
      "source": [
        "import numpy as np\n",
        "import matplotlib.pyplot as plt"
      ],
      "execution_count": 1,
      "outputs": []
    },
    {
      "cell_type": "markdown",
      "metadata": {
        "id": "3A4DGbVTUK9Z"
      },
      "source": [
        "# Что такое искусственный нейрон?\n",
        "\n",
        "Икусственный нейрон - это всего лишь комбинация математических операций. Вектор чисел (входные данные) умножатеся на вектор коэффициентов (имено они как раз и \"обучаются\"); их произведения суммируются и поступают на вход функции активации, которая трансформируется в результат.\n",
        "\n",
        "![alt text](https://drive.google.com/uc?id=1yFPLGhmGgBQ-pxEtWqw_3YemSwlFU-XT)\n",
        "\n",
        "Обобщенная формула искусственного, получается, выглядит следующим образом:\n",
        "$$y = f(\\sum_{i=0}^n x_i*w_i + b_i)$$\n",
        "\n",
        "В качестве функции активации может выстпать любая функция. До недавнего широкого распространения свёрточных нейронных сетей наиболее часто использовалась сигмоида. Сейчас - так называемая RELU-функция. Мы на данном вебинаре реализуем в первую очередь сигмоиду (она показана на картинке). Но код легко будет заменить на любой необходимый.\n",
        "\n",
        "![Сигмоида](https://python-scripts.com/wp-content/uploads/2019/10/neural-networks-10.jpg)\n",
        "\n",
        "Формула функции сигмоиды: $$y = \\frac{1}{(1+e^{-x})}$$"
      ]
    },
    {
      "cell_type": "markdown",
      "metadata": {
        "id": "zMKzQhtAt3Gh"
      },
      "source": [
        "# Создаём свой нейрон"
      ]
    },
    {
      "cell_type": "code",
      "metadata": {
        "id": "oP5V9n5nR5fy"
      },
      "source": [
        "# определеним функцию (в языке программирования) для вычислени значения функции (математика) с использованием формулы сигмоиды\n",
        "\n",
        "def sigmoid(x):\n",
        "    return 1 / (1 + np.exp(-x))"
      ],
      "execution_count": 2,
      "outputs": []
    },
    {
      "cell_type": "code",
      "metadata": {
        "id": "z4nqYpv3Rnbw"
      },
      "source": [
        "# создаём класс для нейрона\n",
        "\n",
        "class Neuron:\n",
        "\n",
        "# в конструктор передаём значения весов и смещения\n",
        "    def __init__(self, weights, bias):\n",
        "        self.weights = weights\n",
        "        self.bias = bias\n",
        "\n",
        "#создаём метод класса для описания процедуры прямого прохождения сигнала\n",
        "    def feedforward(self, inputs):\n",
        "        #np.dot обеспечивает перемножение векторов\n",
        "        result = np.dot(self.weights, inputs) + self.bias\n",
        "        return sigmoid(result)"
      ],
      "execution_count": 3,
      "outputs": []
    },
    {
      "cell_type": "code",
      "metadata": {
        "id": "UgybrygsRzR8",
        "colab": {
          "base_uri": "https://localhost:8080/"
        },
        "outputId": "5bcf349e-91ea-4dc0-d149-508766cdc85e"
      },
      "source": [
        "# посмотрим простой пример w1 = 0, w2 = 1, b = 1\n",
        "\n",
        "weights = np.array([1, 1])  \n",
        "bias = 1 \n",
        "\n",
        "#создаём нейрон, активируем конструктор\n",
        "n = Neuron(weights, bias)\n",
        " \n",
        "#заданим входные данные Х - x1 = 1, x2 = 1\n",
        " \n",
        "x = np.array([1, 1]) \n",
        "print(n.feedforward(x))\n",
        "print((1/(1+np.exp(-3))))"
      ],
      "execution_count": 7,
      "outputs": [
        {
          "output_type": "stream",
          "text": [
            "0.9525741268224334\n",
            "0.9525741268224334\n"
          ],
          "name": "stdout"
        }
      ]
    },
    {
      "cell_type": "markdown",
      "metadata": {
        "id": "uHlUQ4cAtohr"
      },
      "source": [
        "# Что такой нейронная сеть?\n",
        "\n",
        "Нейронная сеть - группа связанных между собой нейронов. Классические сети - полносязные. Бывают и другие. Есть три типа слоёв: \n",
        "\n",
        "*   Входной - принимает на вход сигналы\n",
        "*   Скрытые - \"рабочие\" слои, преобразуют входные данные в выходные\n",
        "*   Выходной - позволяет считать результат\n",
        "\n",
        "Количество нейроннов в каждом слое зависит от желания \"автора\" той или иной сети. \n",
        "\n",
        "Мы будем делать очень простую сетку - она на вход будет принимать две сигнала и сразу передавать результат обработки на выход.\n",
        "\n",
        "![alt text](https://drive.google.com/uc?id=1ooVWuapuohvaAvvOa_MGfKRdDy4NA8Ta)\n",
        "\n"
      ]
    },
    {
      "cell_type": "markdown",
      "metadata": {
        "id": "dmt2vbn7w9ln"
      },
      "source": [
        "# Создаём свою нейросеть"
      ]
    },
    {
      "cell_type": "code",
      "metadata": {
        "id": "zI7yPR2FSJCD"
      },
      "source": [
        "class NeuralNetwork:\n",
        "\n",
        "# создаём констурктор дя класса нейросети\n",
        "# пока что все нейронны имеют одинаковые параметры\n",
        "    def __init__(self):\n",
        "        weights = np.array([0, 1])\n",
        "        bias = 0\n",
        " \n",
        "        # Класс Neuron из предыдущего раздела\n",
        "        self.n1 = Neuron(weights, bias)\n",
        "        self.n2 = Neuron(weights, bias)\n",
        "        self.o1 = Neuron(weights, bias)\n",
        " \n",
        "    def feedforward(self, x):\n",
        "        #считаем результат для первого нейрона\n",
        "        out_n1 = self.n1.feedforward(x)\n",
        "        #считаем результат для второго нейрона\n",
        "        out_n2 = self.n2.feedforward(x)\n",
        " \n",
        "        # Входы для о являются выводами h1 и h2\n",
        "        out_o = self.o1.feedforward(np.array([out_n1, out_n2]))\n",
        " \n",
        "        return out_o"
      ],
      "execution_count": 8,
      "outputs": []
    },
    {
      "cell_type": "code",
      "metadata": {
        "id": "Mu_nVZgGTKj3",
        "colab": {
          "base_uri": "https://localhost:8080/"
        },
        "outputId": "060865c1-878b-4c70-a7fc-4aa207dcfb9a"
      },
      "source": [
        "network = NeuralNetwork()\n",
        "x = np.array([2, 3])\n",
        "print(network.feedforward(x))  # 0.7216325609518421\n",
        "print((1/(1+np.exp(-3)))) # n1 и n2\n",
        "print((1/(1+np.exp(-0.952574)))) # o"
      ],
      "execution_count": 11,
      "outputs": [
        {
          "output_type": "stream",
          "text": [
            "0.7216325609518421\n",
            "0.9525741268224334\n",
            "0.7216325354758769\n"
          ],
          "name": "stdout"
        }
      ]
    },
    {
      "cell_type": "markdown",
      "metadata": {
        "id": "ZLTVDbpXL-Mq"
      },
      "source": [
        "# Создать мало - нужно тренировать. Считаем точность\n",
        "\n",
        "Создать нейронную сеть не досаточно. Необходимо подобрать такие значения коэффициентов и смещения, которые ползволят добиться наиболее точных результатов. \n",
        "\n",
        "Для начала разберём, как посчитать точность результатов. \n",
        "\n",
        "Предположим, что есть текущие результаты, предсказанные нейронной сетью $y_{pred}$ и истинные значения $y_{true}$. Известный способ подсчитать ошибку - сумма квадратов отклонений. \n",
        "\n",
        "$$MSE = (y_{true}-y_{pred})^{2} / n $$\n",
        "\n",
        "Для понимания можно посомтреть график.\n",
        "\n",
        "![alt text](https://drive.google.com/uc?id=1y6Rbh9Pn7q8J78dy0wnjN5uaCeDfWs0q)\n",
        "\n",
        "Основная задача при обучении - минимизировать эту сумму.\n"
      ]
    },
    {
      "cell_type": "code",
      "metadata": {
        "id": "E0DETl_aTPkG"
      },
      "source": [
        "def mse_loss(y_true, y_pred):\n",
        "    # y_true и y_pred являются массивами numpy с одинаковой длиной\n",
        "    return ((y_true - y_pred) ** 2).mean()"
      ],
      "execution_count": 12,
      "outputs": []
    },
    {
      "cell_type": "code",
      "metadata": {
        "id": "inTWdpanTTx-",
        "colab": {
          "base_uri": "https://localhost:8080/"
        },
        "outputId": "226c0346-d842-4d23-a18c-84941a0b6578"
      },
      "source": [
        "# для примера\n",
        "\n",
        "y_true = np.array([1, 0, 0, 1])\n",
        "y_pred = np.array([0, 0, 0, 0])\n",
        " \n",
        "print(mse_loss(y_true, y_pred))  # 0.5"
      ],
      "execution_count": 13,
      "outputs": [
        {
          "output_type": "stream",
          "text": [
            "0.5\n"
          ],
          "name": "stdout"
        }
      ]
    },
    {
      "cell_type": "markdown",
      "metadata": {
        "id": "2WnMfzSISogz"
      },
      "source": [
        "# Создать мало - нужно тренировать. Как тренировать?\n",
        "\n",
        "Схема обучения - простая. Нам необходимы взять исходные данные с известным результатом. Подаём на вход исходные данные, смотрим результат, меняем значения коэффициентов нейроннов, и так далее. \n",
        "\n",
        "### Здесь далее будет \"сложная\" математика. К сожалению без неё ни как. \n",
        "\n",
        "Итак, предположим, что вся наша нейронная сеть - это функция от коэффициентов и сммещения (3 нейрона)\n",
        "\n",
        "$ L(w_{всенейроны},b_{всенейроны}) = L(w_1, w_2, w_3, w_4, w_5, w_6, b_1, b_2, b_3)$\n",
        "\n",
        "Производные считаем через частные произодные для любого из коэффициентов, например для $ w_1 $\n",
        "\n",
        "$ \\partial L/\\partial w_1 = \\partial L/\\partial y_{pred} * \\partial y_{pred}/\\partial w_1 $\n",
        "\n",
        "$ \\partial L/\\partial y_{pred} = -2(y_{true} - y_{pred})$\n",
        "\n",
        "Значение $y_{true}$ мы в каждом конкретном случае знаем.\n",
        "\n",
        "$ \\partial y_{pred}/\\partial w_1 = \\partial y_{pred}/\\partial n_{1} * \\partial n_{1}/\\partial w_1 $\n",
        "\n",
        "$ \\partial y_{pred}/\\partial n_{1} = w_5 f'(w_5*n_1 + w_6*n_2+b_3) $\n",
        "\n",
        "$ \\partial n_{1}/\\partial w_1 = x_1 f'(w_1*x_1 + w_2*x_2+b_1) $\n",
        "\n",
        "Осталось только для удобства рассчитать производную от известной нам функции - сигмоиды. Поверьте мне на слово)\n",
        "\n",
        "$ f'(x) = (1-f(x))*f(x)$\n",
        "\n",
        "Сейчас мы посчитали ошибку **методом обратного распространения ошибки**.\n",
        "\n",
        "Разбавим картикной для совсем более явного пояснения:\n",
        "\n",
        "![alt text](https://ok-t.ru/studopedia/baza7/1364490912182.files/image115.gif)\n",
        "\n",
        "Осталось только определить, как считаем изменненные значения коэффициентов и смещений:\n",
        "\n",
        "$ w_1 = w_1 - k * \\partial L /\\partial w_1 $\n",
        "\n",
        "$ k $ - задаётся человеком и определяет скорость **градиенного спуска**. Его смысл в том, что изменяем коэффициент в сторону убывания производной.\n"
      ]
    },
    {
      "cell_type": "code",
      "metadata": {
        "id": "DPVW-HsZTt2A"
      },
      "source": [
        "def sigmoid(x):\n",
        "    return 1 / (1 + np.exp(-x))\n",
        " \n",
        "def deriv_sigmoid(x):\n",
        "    fx = sigmoid(x)\n",
        "    return fx * (1 - fx)\n",
        " \n",
        "class NeuralNetwork:\n",
        "   \n",
        "    def __init__(self):\n",
        "        # Вес задаём случайно для начала\n",
        "        self.w1 = np.random.normal()\n",
        "        self.w2 = np.random.normal()\n",
        "        self.w3 = np.random.normal()\n",
        "        self.w4 = np.random.normal()\n",
        "        self.w5 = np.random.normal()\n",
        "        self.w6 = np.random.normal()\n",
        " \n",
        "        # Смещения задаём случайно для начала\n",
        "        self.b1 = np.random.normal()\n",
        "        self.b2 = np.random.normal()\n",
        "        self.b3 = np.random.normal()\n",
        " \n",
        "    def feedforward(self, x):\n",
        "        # прямой ход\n",
        "        n1 = sigmoid(self.w1 * x[0] + self.w2 * x[1] + self.b1)\n",
        "        n2 = sigmoid(self.w3 * x[0] + self.w4 * x[1] + self.b2)\n",
        "        o1 = sigmoid(self.w5 * n1 + self.w6 * n2 + self.b3)\n",
        "        return o1\n",
        " \n",
        "    def train(self, data, all_y_trues):\n",
        "\n",
        "        learn_rate = 200 # коэффициент k\n",
        "        epochs = 1000 # количество циклов во всём наборе данных\n",
        "\n",
        "        loss_row = []\n",
        " \n",
        "        for epoch in range(epochs):\n",
        "            for x, y_true in zip(data, all_y_trues):\n",
        "                # Прямой ход с сохранением дополнительных значений\n",
        "                sum_n1 = self.w1 * x[0] + self.w2 * x[1] + self.b1\n",
        "                n1 = sigmoid(sum_n1)\n",
        " \n",
        "                sum_n2 = self.w3 * x[0] + self.w4 * x[1] + self.b2\n",
        "                n2 = sigmoid(sum_n2)\n",
        " \n",
        "                sum_o1 = self.w5 * n1 + self.w6 * n2 + self.b3\n",
        "                o1 = sigmoid(sum_o1)\n",
        "                y_pred = o1\n",
        " \n",
        "                # --- Подсчет частных производных\n",
        "                # --- Наименование: d_L_d_w1 представляет \"частично L / частично w1\"\n",
        "                d_L_d_ypred = -2 * (y_true - y_pred)\n",
        " \n",
        "                # Нейрон o1\n",
        "                d_ypred_d_w5 = n1 * deriv_sigmoid(sum_o1)\n",
        "                d_ypred_d_w6 = n2 * deriv_sigmoid(sum_o1)\n",
        "                d_ypred_d_b3 = deriv_sigmoid(sum_o1)\n",
        " \n",
        "                d_ypred_d_n1 = self.w5 * deriv_sigmoid(sum_o1)\n",
        "                d_ypred_d_n2 = self.w6 * deriv_sigmoid(sum_o1)\n",
        " \n",
        "                # Нейрон n1\n",
        "                d_h1_d_w1 = x[0] * deriv_sigmoid(sum_n1)\n",
        "                d_h1_d_w2 = x[1] * deriv_sigmoid(sum_n1)\n",
        "                d_h1_d_b1 = deriv_sigmoid(sum_n1)\n",
        " \n",
        "                # Нейрон n2\n",
        "                d_h2_d_w3 = x[0] * deriv_sigmoid(sum_n2)\n",
        "                d_h2_d_w4 = x[1] * deriv_sigmoid(sum_n2)\n",
        "                d_h2_d_b2 = deriv_sigmoid(sum_n2)\n",
        " \n",
        "                # --- Обновляем вес и смещения\n",
        "                # Нейрон n1\n",
        "                self.w1 -= learn_rate * d_L_d_ypred * d_ypred_d_n1 * d_h1_d_w1\n",
        "                self.w2 -= learn_rate * d_L_d_ypred * d_ypred_d_n1 * d_h1_d_w2\n",
        "                self.b1 -= learn_rate * d_L_d_ypred * d_ypred_d_n1 * d_h1_d_b1\n",
        " \n",
        "                # Нейрон n2\n",
        "                self.w3 -= learn_rate * d_L_d_ypred * d_ypred_d_n2 * d_h2_d_w3\n",
        "                self.w4 -= learn_rate * d_L_d_ypred * d_ypred_d_n2 * d_h2_d_w4\n",
        "                self.b2 -= learn_rate * d_L_d_ypred * d_ypred_d_n2 * d_h2_d_b2\n",
        " \n",
        "                # Нейрон o1\n",
        "                self.w5 -= learn_rate * d_L_d_ypred * d_ypred_d_w5\n",
        "                self.w6 -= learn_rate * d_L_d_ypred * d_ypred_d_w6\n",
        "                self.b3 -= learn_rate * d_L_d_ypred * d_ypred_d_b3\n",
        " \n",
        "            # --- Подсчитываем общую потерю в конце каждой фазы\n",
        "            if epoch % 10 == 0:\n",
        "                y_preds = np.apply_along_axis(self.feedforward, 1, data)\n",
        "                loss = mse_loss(all_y_trues, y_preds)\n",
        "                loss_row.append(loss)\n",
        "                #print(\"Epoch %d loss: %.3f\" % (epoch, loss))\n",
        "        return loss_row\n",
        " "
      ],
      "execution_count": 36,
      "outputs": []
    },
    {
      "cell_type": "markdown",
      "metadata": {
        "id": "emvtGF3whLil"
      },
      "source": [
        "# Тестируем нейронную сеть\n",
        "\n",
        "Определяем пол по росту и весу"
      ]
    },
    {
      "cell_type": "code",
      "metadata": {
        "id": "91aC-rmOT1JM",
        "colab": {
          "base_uri": "https://localhost:8080/",
          "height": 494
        },
        "outputId": "9148a428-3f25-4dc4-9ee0-4ccbb86b05e7"
      },
      "source": [
        "# Определение набора данных\n",
        "data = np.array([\n",
        "    [57, 165],     # Алиса\n",
        "    [78, 183],     # Боб\n",
        "    [92, 190],     # Иван\n",
        "    [52, 172],     # Марья\n",
        "])\n",
        "\n",
        "\n",
        "mean_weight = (92+78+57+52)/4\n",
        "\n",
        "mean_height = (165+183+190+172)/4\n",
        "\n",
        "data = np.array([\n",
        "    [57-int(mean_weight), 165-int(mean_height)],     # Алиса\n",
        "    [78-int(mean_weight), 183-int(mean_height)],     # Боб\n",
        "    [92-int(mean_weight), 190-int(mean_height)],     # Иван\n",
        "    [52-int(mean_weight), 172-int(mean_height)],     # Марья\n",
        "])\n",
        "\n",
        "\n",
        "#print(data)\n",
        " \n",
        "all_y_trues = np.array([\n",
        "    1, # Алиса\n",
        "    0, # Боб\n",
        "    0, # Иван\n",
        "    1, # Марья\n",
        "])\n",
        " \n",
        "# Тренируем нашу нейронную сеть!\n",
        "network = NeuralNetwork()\n",
        "loss = network.train(data, all_y_trues)\n",
        "\n",
        "plt.figure(figsize = (8, 8))\n",
        "plt.plot(loss)\n",
        "plt.show()"
      ],
      "execution_count": 37,
      "outputs": [
        {
          "output_type": "display_data",
          "data": {
            "image/png": "[encoded data removed]",
            "text/plain": [
              "<Figure size 576x576 with 1 Axes>"
            ]
          },
          "metadata": {
            "tags": [],
            "needs_background": "light"
          }
        }
      ]
    },
    {
      "cell_type": "code",
      "metadata": {
        "id": "g5si5QiHT48K",
        "colab": {
          "base_uri": "https://localhost:8080/"
        },
        "outputId": "ae3393ef-5b03-4e2c-e9d2-25999dc7c23f"
      },
      "source": [
        "w_name = np.array([55, 160]) \n",
        "\n",
        "w_name[0] = w_name[0] - mean_weight\n",
        "w_name[1] = w_name[1] - mean_height\n",
        "\n",
        "m_name = np.array([72, 190])  \n",
        "\n",
        "m_name[0] = m_name[0] - mean_weight\n",
        "m_name[1] = m_name[1] - mean_height\n",
        "\n",
        "print(f\"Женщина: {network.feedforward(w_name)}\") \n",
        "print(f\"Мужчина: {network.feedforward(m_name)}\")  "
      ],
      "execution_count": 38,
      "outputs": [
        {
          "output_type": "stream",
          "text": [
            "Женщина: 0.9999999997120104\n",
            "Мужчина: 0.9999999999485714\n"
          ],
          "name": "stdout"
        }
      ]
    }
  ]
}