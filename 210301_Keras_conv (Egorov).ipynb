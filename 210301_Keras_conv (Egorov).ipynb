{
  "nbformat": 4,
  "nbformat_minor": 0,
  "metadata": {
    "kernelspec": {
      "name": "python3",
      "display_name": "Python 3"
    },
    "language_info": {
      "codemirror_mode": {
        "name": "ipython",
        "version": 3
      },
      "file_extension": ".py",
      "mimetype": "text/x-python",
      "name": "python",
      "nbconvert_exporter": "python",
      "pygments_lexer": "ipython3",
      "version": "3.7.3"
    },
    "colab": {
      "name": "210301 Keras_conv (Egorov).ipynb",
      "provenance": [],
      "collapsed_sections": []
    },
    "accelerator": "GPU"
  },
  "cells": [
    {
      "cell_type": "code",
      "metadata": {
        "id": "OmJ8o0_tMnkp"
      },
      "source": [
        "from tensorflow.keras.models import Sequential\r\n",
        "from tensorflow.keras import models, layers\r\n",
        "import tensorflow.keras as keras\r\n",
        "from tensorflow.keras.datasets import fashion_mnist\r\n",
        "from tensorflow.keras.utils import to_categorical"
      ],
      "execution_count": 1,
      "outputs": []
    },
    {
      "cell_type": "code",
      "metadata": {
        "id": "PdX4riMptTXy",
        "colab": {
          "base_uri": "https://localhost:8080/"
        },
        "outputId": "48bf1bb7-4c65-4e5d-fa8e-1bea6141be26"
      },
      "source": [
        "# загрузка тренировочных и тестовых данных\r\n",
        "(x_train, y_train), (x_test, y_test) = fashion_mnist.load_data()\r\n",
        "\r\n",
        "# конвертация чисел из uint8 в float32\r\n",
        "x_train = x_train.astype('float32')\r\n",
        "x_test = x_test.astype('float32')\r\n",
        "\r\n",
        "# нормализация данных [0, 1]\r\n",
        "x_train /= 255 \r\n",
        "x_test /= 255 \r\n",
        "\r\n",
        "# трансформация лейблов в one-hot encoding\r\n",
        "\r\n",
        "print(y_train[1])\r\n",
        "y_train = to_categorical(y_train, 10)\r\n",
        "print(y_train[1]) \r\n",
        "y_test = to_categorical(y_test, 10) \r\n",
        "\r\n",
        "# изменение размерности массива в 4D массив\r\n",
        "x_train = x_train.reshape(x_train.shape[0], 28,28,1)\r\n",
        "x_test = x_test.reshape(x_test.shape[0], 28,28,1)"
      ],
      "execution_count": 5,
      "outputs": [
        {
          "output_type": "stream",
          "text": [
            "0\n",
            "[1. 0. 0. 0. 0. 0. 0. 0. 0. 0.]\n"
          ],
          "name": "stdout"
        }
      ]
    },
    {
      "cell_type": "code",
      "metadata": {
        "id": "q_1hNBrl2enw",
        "colab": {
          "base_uri": "https://localhost:8080/"
        },
        "outputId": "9dd0d72c-9f7d-4d0d-da5f-08acf96bdd7c"
      },
      "source": [
        "from tensorflow.keras.models import Model \n",
        "# инициализация  модели\n",
        "input1= layers.Input(shape=(28,28,1))\n",
        "# первый сверточный слой\n",
        "x1 = layers.Conv2D(6, kernel_size=(3, 3), strides=(1, 1), activation='tanh',  padding=\"same\")(input1)\n",
        "\n",
        "# второй пуллинговый слой\n",
        "x2 = layers.AveragePooling2D(pool_size=(2, 2), strides=(2, 2), padding='valid')(x1)\n",
        "\n",
        "# третий сверточный слой\n",
        "x3 = layers.Conv2D(16, kernel_size=(3, 3), strides=(1, 1), activation='tanh', padding='same')(x2)\n",
        "\n",
        "# четвертый пуллинговый слой\n",
        "x4 = layers.AveragePooling2D(pool_size=(2, 2), strides=(2, 2), padding='valid')(x3)\n",
        "\n",
        "# пятый  слой\n",
        "x5 = layers.Conv2D(120, kernel_size=(3, 3), strides=(1, 1), activation='tanh', padding='same')(x4)\n",
        "\n",
        "# четвертый пуллинговый слой\n",
        "x6 = layers.AveragePooling2D(pool_size=(2, 2), strides=(2, 2), padding='valid')(x5)\n",
        "\n",
        "# пятый  слой\n",
        "x7 = layers.Conv2D(120, kernel_size=(3, 3), strides=(1, 1), activation='tanh', padding='same')(x6)\n",
        "\n",
        "\n",
        "\n",
        "# сглаживание CNN выхода чтобы можно было его присоединить к полносвязному слою\n",
        "x12 = layers.Flatten()(x7)\n",
        "\n",
        "# шестой полносвязный слой\n",
        "x13 = layers.Dense(84, activation='tanh')(x12)\n",
        "\n",
        "# выходной слой с функцией активации softmax\n",
        "out_x = layers.Dense(10, activation='softmax')(x13)\n",
        "\n",
        "\n",
        "# Соберем полную модель сети от входа к выходу \n",
        "model1 = Model(inputs = input1, outputs = out_x) \n",
        "# сделаем несколько промежуточных выходов (через них посмотрим , что происходит в сети) \n",
        "model3 = Model(inputs = input1, outputs = x3)\n",
        "model5 = Model(inputs = input1, outputs = x5)\n",
        "# компилияция модели\n",
        "model1.compile(loss=keras.losses.categorical_crossentropy, optimizer='SGD', metrics=[\"accuracy\"])\n",
        "\n",
        "# Обучаем модель\n",
        "hist = model1.fit(x=x_train,y=y_train, epochs=5, batch_size=128, validation_data=(x_test, y_test), verbose=1)\n",
        "\n",
        "test_score = model1.evaluate(x_test, y_test)\n",
        "print(\"Test loss {:.4f}, accuracy {:.2f}%\".format(test_score[0], test_score[1] * 100))"
      ],
      "execution_count": 10,
      "outputs": [
        {
          "output_type": "stream",
          "text": [
            "Epoch 1/5\n",
            "469/469 [==============================] - 5s 9ms/step - loss: 1.7942 - accuracy: 0.4084 - val_loss: 0.9387 - val_accuracy: 0.6825\n",
            "Epoch 2/5\n",
            "469/469 [==============================] - 4s 8ms/step - loss: 0.8778 - accuracy: 0.6974 - val_loss: 0.7775 - val_accuracy: 0.7225\n",
            "Epoch 3/5\n",
            "469/469 [==============================] - 4s 8ms/step - loss: 0.7409 - accuracy: 0.7323 - val_loss: 0.7233 - val_accuracy: 0.7366\n",
            "Epoch 4/5\n",
            "469/469 [==============================] - 4s 8ms/step - loss: 0.6951 - accuracy: 0.7464 - val_loss: 0.6951 - val_accuracy: 0.7436\n",
            "Epoch 5/5\n",
            "469/469 [==============================] - 4s 8ms/step - loss: 0.6611 - accuracy: 0.7557 - val_loss: 0.6710 - val_accuracy: 0.7520\n",
            "313/313 [==============================] - 1s 4ms/step - loss: 0.6710 - accuracy: 0.7520\n",
            "Test loss 0.6710, accuracy 75.20%\n"
          ],
          "name": "stdout"
        }
      ]
    },
    {
      "cell_type": "code",
      "metadata": {
        "colab": {
          "base_uri": "https://localhost:8080/"
        },
        "id": "-xmTywr1f4Kt",
        "outputId": "50efef81-d2ce-4f08-8e20-92ae6c7fcc10"
      },
      "source": [
        "model1.summary()"
      ],
      "execution_count": 11,
      "outputs": [
        {
          "output_type": "stream",
          "text": [
            "Model: \"model_3\"\n",
            "_________________________________________________________________\n",
            "Layer (type)                 Output Shape              Param #   \n",
            "=================================================================\n",
            "input_4 (InputLayer)         [(None, 28, 28, 1)]       0         \n",
            "_________________________________________________________________\n",
            "conv2d_8 (Conv2D)            (None, 28, 28, 6)         60        \n",
            "_________________________________________________________________\n",
            "average_pooling2d_5 (Average (None, 14, 14, 6)         0         \n",
            "_________________________________________________________________\n",
            "conv2d_9 (Conv2D)            (None, 14, 14, 16)        880       \n",
            "_________________________________________________________________\n",
            "average_pooling2d_6 (Average (None, 7, 7, 16)          0         \n",
            "_________________________________________________________________\n",
            "conv2d_10 (Conv2D)           (None, 7, 7, 120)         17400     \n",
            "_________________________________________________________________\n",
            "average_pooling2d_7 (Average (None, 3, 3, 120)         0         \n",
            "_________________________________________________________________\n",
            "conv2d_11 (Conv2D)           (None, 3, 3, 120)         129720    \n",
            "_________________________________________________________________\n",
            "flatten_1 (Flatten)          (None, 1080)              0         \n",
            "_________________________________________________________________\n",
            "dense_2 (Dense)              (None, 84)                90804     \n",
            "_________________________________________________________________\n",
            "dense_3 (Dense)              (None, 10)                850       \n",
            "=================================================================\n",
            "Total params: 239,714\n",
            "Trainable params: 239,714\n",
            "Non-trainable params: 0\n",
            "_________________________________________________________________\n"
          ],
          "name": "stdout"
        }
      ]
    }
  ]
}