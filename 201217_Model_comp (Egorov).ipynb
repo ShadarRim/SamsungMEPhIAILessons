{
 "cells": [
  {
   "cell_type": "markdown",
   "metadata": {},
   "source": [
    "## <center>Курсовой проект<a class=\"anchor\" id=\"course_project\"></a><center>"
   ]
  },
  {
   "cell_type": "markdown",
   "metadata": {},
   "source": [
    "### Обзор данных<a class=\"anchor\" id=\"course_project_review\"></a>"
   ]
  },
  {
   "cell_type": "markdown",
   "metadata": {},
   "source": [
    "**Описание датасета**\n",
    "\n",
    "* **Home Ownership** - домовладение\n",
    "* **Annual Income** - годовой доход\n",
    "* **Years in current job** - количество лет на текущем месте работы\n",
    "* **Tax Liens** - налоговые обременения\n",
    "* **Number of Open Accounts** - количество открытых счетов\n",
    "* **Years of Credit History** - количество лет кредитной истории\n",
    "* **Maximum Open Credit** - наибольший открытый кредит\n",
    "* **Number of Credit Problems** - количество проблем с кредитом\n",
    "* **Months since last delinquent** - количество месяцев с последней просрочки платежа\n",
    "* **Bankruptcies** - банкротства\n",
    "* **Purpose** - цель кредита\n",
    "* **Term** - срок кредита\n",
    "* **Current Loan Amount** - текущая сумма кредита\n",
    "* **Current Credit Balance** - текущий кредитный баланс\n",
    "* **Monthly Debt** - ежемесячный долг\n",
    "* **Credit Default** - факт невыполнения кредитных обязательств (0 - погашен вовремя, 1 - просрочка)"
   ]
  },
  {
   "cell_type": "markdown",
   "metadata": {},
   "source": [
    "**Используемые библиотеки**"
   ]
  },
  {
   "cell_type": "code",
   "execution_count": null,
   "metadata": {},
   "outputs": [],
   "source": [
    "!pip install catboost"
   ]
  },
  {
   "cell_type": "code",
   "execution_count": null,
   "metadata": {},
   "outputs": [],
   "source": [
    "import seaborn as sns\n",
    "\n",
    "import matplotlib.pyplot as plt\n",
    "import numpy as np\n",
    "import pandas as pd\n",
    "\n",
    "import pickle\n",
    "\n",
    "from scipy.stats.mstats import winsorize\n",
    "\n",
    "from sklearn.model_selection import train_test_split\n",
    "from sklearn.metrics import classification_report, f1_score, precision_score, recall_score\n",
    "from sklearn.linear_model import LogisticRegression\n",
    "from sklearn.neighbors import KNeighborsClassifier\n",
    "from sklearn.preprocessing import StandardScaler\n",
    "\n",
    "import xgboost as xgb, lightgbm as lgbm, catboost as catb\n",
    "\n",
    "from catboost import Pool,cv"
   ]
  },
  {
   "cell_type": "markdown",
   "metadata": {},
   "source": [
    "**Используемые функции**"
   ]
  },
  {
   "cell_type": "code",
   "execution_count": null,
   "metadata": {},
   "outputs": [],
   "source": [
    "def get_classification_report(y_train_true, y_train_pred, y_test_true, y_test_pred):\n",
    "    print('TRAIN\\n\\n' + classification_report(y_train_true, y_train_pred))\n",
    "    print('TEST\\n\\n' + classification_report(y_test_true, y_test_pred))\n",
    "    print('CONFUSION MATRIX\\n')\n",
    "    print(pd.crosstab(y_test_true, y_test_pred))"
   ]
  },
  {
   "cell_type": "code",
   "execution_count": null,
   "metadata": {},
   "outputs": [],
   "source": [
    "def balance_df_by_target(df, target_name):\n",
    "\n",
    "    target_counts = df[target_name].value_counts()\n",
    "\n",
    "    major_class_name = target_counts.argmax()\n",
    "    minor_class_name = target_counts.argmin()\n",
    "\n",
    "    disbalance_coeff = int(target_counts[major_class_name] / target_counts[minor_class_name]) - 1\n",
    "\n",
    "    for i in range(disbalance_coeff):\n",
    "        sample = df[df[target_name] == minor_class_name].sample(target_counts[minor_class_name])\n",
    "        df = df.append(sample, ignore_index=True)\n",
    "\n",
    "    return df.sample(frac=1) "
   ]
  },
  {
   "cell_type": "markdown",
   "metadata": {},
   "source": [
    "**Пути к директориям и файлам**"
   ]
  },
  {
   "cell_type": "code",
   "execution_count": null,
   "metadata": {},
   "outputs": [],
   "source": [
    "TRAIN_DATASET_PATH = 'course_project_train.csv'\n",
    "MODEL_FILE_PATH = 'model.pkl'"
   ]
  },
  {
   "cell_type": "markdown",
   "metadata": {},
   "source": [
    "**Загрузка данных**"
   ]
  },
  {
   "cell_type": "code",
   "execution_count": null,
   "metadata": {},
   "outputs": [],
   "source": [
    "df_train = pd.read_csv(TRAIN_DATASET_PATH)\n",
    "df_train.head()"
   ]
  },
  {
   "cell_type": "code",
   "execution_count": null,
   "metadata": {},
   "outputs": [],
   "source": [
    "df_train.shape"
   ]
  },
  {
   "cell_type": "code",
   "execution_count": null,
   "metadata": {},
   "outputs": [],
   "source": [
    "df_train.columns"
   ]
  },
  {
   "cell_type": "code",
   "execution_count": null,
   "metadata": {},
   "outputs": [],
   "source": [
    "base_features = ['Home Ownership', 'Annual Income', 'Years in current job', 'Tax Liens',\n",
    "       'Number of Open Accounts', 'Years of Credit History',\n",
    "       'Maximum Open Credit', 'Number of Credit Problems',\n",
    "       'Months since last delinquent', 'Bankruptcies', 'Purpose', 'Term',\n",
    "       'Current Loan Amount', 'Current Credit Balance', 'Monthly Debt',\n",
    "       'Credit Score']\n",
    "X = df_train[base_features]\n",
    "X.shape"
   ]
  },
  {
   "cell_type": "code",
   "execution_count": null,
   "metadata": {},
   "outputs": [],
   "source": [
    "target_name = 'Credit Default'\n",
    "y = df_train[target_name]\n",
    "y.shape"
   ]
  },
  {
   "cell_type": "markdown",
   "metadata": {},
   "source": [
    "**Готовим класс для обработки выбросов**"
   ]
  },
  {
   "cell_type": "code",
   "execution_count": null,
   "metadata": {},
   "outputs": [],
   "source": [
    "class Model:\n",
    "    def __init__(self):\n",
    "        self.medians = None\n",
    "        self.scaler = None\n",
    "        \n",
    "    def fit(self, X):\n",
    "        #на тестовых данных будут использоваться медианы из тренировочной выборки\n",
    "        if self.medians is None:\n",
    "            self.medians = {}\n",
    "            for colname in X.columns:\n",
    "                self.medians[colname] = X[colname].mode()[0]\n",
    "        print(self.medians)\n",
    "        \n",
    "    def scale(self, X):\n",
    "        \n",
    "        X_norm = X.copy()\n",
    "        num_f= ['Annual Income', 'Tax Liens',\n",
    "           'Number of Open Accounts', 'Years of Credit History',\n",
    "           'Maximum Open Credit', 'Number of Credit Problems', 'Bankruptcies',\n",
    "            'Current Loan Amount', 'Current Credit Balance',\n",
    "           'Monthly Debt', 'Credit Score']\n",
    "        \n",
    "        if self.scaler is None: \n",
    "            scaler = StandardScaler()\n",
    "\n",
    "            X_norm[num_f] = scaler.fit_transform(X_norm[num_f])\n",
    "            \n",
    "            self.scaler = scaler\n",
    "        else:\n",
    "            X_norm[num_f] = self.scaler.transform(X_norm[num_f])\n",
    "            \n",
    "        return X_norm    \n",
    "    \n",
    "    def nan_correction(self, X):\n",
    "        \n",
    "        X = X.copy()\n",
    "        \n",
    "        #избавляемся от ненужного признака\n",
    "        \n",
    "        if 'Months since last delinquent' in X.columns:\n",
    "            X = X.drop(columns=['Months since last delinquent'])\n",
    "        \n",
    "        #устранияем пропуски через медиану\n",
    "        if self.medians is not None:\n",
    "            for colname in X.columns:\n",
    "                X[f'{colname}_nan'] = X[colname].isna() * 1\n",
    "                X.loc[X[f'{colname}_nan']==1, colname] = self.medians[colname]\n",
    "                if X[f'{colname}_nan'].sum() == 0:\n",
    "                    X.drop(f'{colname}_nan', axis=1, inplace=True)\n",
    "        \n",
    "        return X\n",
    "    \n",
    "    def outliners_fix(self, X):\n",
    "        \n",
    "        X = X.copy()\n",
    "        \n",
    "        X['Maximum Open Credit'] = winsorize(X['Maximum Open Credit'], limits = 0.15)\n",
    "        \n",
    "        return X\n",
    "    \n",
    "    def new_features(self, X):\n",
    "        \n",
    "        X = X.copy()\n",
    "        \n",
    "        # X.select_dtypes(include='object').columns[1:]\n",
    "        \n",
    "        for cat_colname in ['Term']:\n",
    "            X = pd.concat([X, pd.get_dummies(X[cat_colname], prefix=cat_colname)], axis=1)\n",
    "            \n",
    "        return X"
   ]
  },
  {
   "cell_type": "code",
   "execution_count": null,
   "metadata": {},
   "outputs": [],
   "source": [
    "m = Model()"
   ]
  },
  {
   "cell_type": "code",
   "execution_count": null,
   "metadata": {},
   "outputs": [],
   "source": [
    "m.fit(X)"
   ]
  },
  {
   "cell_type": "code",
   "execution_count": null,
   "metadata": {},
   "outputs": [],
   "source": [
    "res = m.nan_correction(X)"
   ]
  },
  {
   "cell_type": "code",
   "execution_count": null,
   "metadata": {},
   "outputs": [],
   "source": [
    "res = m.outliners_fix(res)"
   ]
  },
  {
   "cell_type": "code",
   "execution_count": null,
   "metadata": {},
   "outputs": [],
   "source": [
    "res = m.scale(res)"
   ]
  },
  {
   "cell_type": "code",
   "execution_count": null,
   "metadata": {},
   "outputs": [],
   "source": [
    "res.columns"
   ]
  },
  {
   "cell_type": "code",
   "execution_count": null,
   "metadata": {},
   "outputs": [],
   "source": [
    "number_features = ['Annual Income', 'Annual Income_nan', 'Tax Liens',\n",
    "       'Number of Open Accounts', 'Years of Credit History',\n",
    "       'Maximum Open Credit', 'Number of Credit Problems', 'Bankruptcies',\n",
    "        'Current Loan Amount', 'Current Credit Balance',\n",
    "       'Monthly Debt', 'Credit Score',\n",
    "       'Years in current job_nan', 'Bankruptcies_nan', 'Credit Score_nan']\n"
   ]
  },
  {
   "cell_type": "code",
   "execution_count": null,
   "metadata": {},
   "outputs": [],
   "source": [
    "additional_features = ['Term_Long Term', 'Term_Short Term']"
   ]
  },
  {
   "cell_type": "code",
   "execution_count": null,
   "metadata": {},
   "outputs": [],
   "source": [
    "cat_features = []\n",
    "for cat_colname in X.select_dtypes(include='object').columns:\n",
    "    cat_features.append(cat_colname)\n",
    "    \n",
    "cat_features"
   ]
  },
  {
   "cell_type": "code",
   "execution_count": null,
   "metadata": {},
   "outputs": [],
   "source": [
    "for colname in cat_features:\n",
    "    res[colname] = pd.Categorical(res[colname])\n",
    "    \n",
    "res[cat_features].dtypes"
   ]
  },
  {
   "cell_type": "markdown",
   "metadata": {},
   "source": [
    "**Сравним различные модели**"
   ]
  },
  {
   "cell_type": "code",
   "execution_count": null,
   "metadata": {},
   "outputs": [],
   "source": [
    "X_train, X_test, y_train, y_test = train_test_split(res, y, shuffle=True, test_size=0.30)"
   ]
  },
  {
   "cell_type": "markdown",
   "metadata": {},
   "source": [
    "Балансировка"
   ]
  },
  {
   "cell_type": "code",
   "execution_count": null,
   "metadata": {},
   "outputs": [],
   "source": [
    "df_for_balancing = pd.concat([X_train, y_train], axis=1)"
   ]
  },
  {
   "cell_type": "code",
   "execution_count": null,
   "metadata": {},
   "outputs": [],
   "source": [
    "print(df_for_balancing[target_name].value_counts())"
   ]
  },
  {
   "cell_type": "code",
   "execution_count": null,
   "metadata": {},
   "outputs": [],
   "source": [
    "df_for_balancing = pd.concat([X_train, y_train], axis=1)\n",
    "df_balanced = balance_df_by_target(df_for_balancing, target_name)\n",
    "    \n",
    "print(df_balanced[target_name].value_counts())\n",
    "\n",
    "X_train = df_balanced.drop(columns=target_name)\n",
    "y_train = df_balanced[target_name]"
   ]
  },
  {
   "cell_type": "code",
   "execution_count": null,
   "metadata": {},
   "outputs": [],
   "source": [
    "train = pd.concat([X_train, y_train], axis=1)"
   ]
  },
  {
   "cell_type": "code",
   "execution_count": null,
   "metadata": {},
   "outputs": [],
   "source": [
    "train.to_csv(\"./current_train.csv\", index=False, encoding='utf-8')"
   ]
  },
  {
   "cell_type": "code",
   "execution_count": null,
   "metadata": {},
   "outputs": [],
   "source": [
    "model_lr = LogisticRegression()\n",
    "model_lr.fit(X_train[number_features], y_train)\n",
    "\n",
    "y_train_pred = model_lr.predict(X_train[number_features])\n",
    "y_test_pred = model_lr.predict(X_test[number_features])\n",
    "\n",
    "print(y_train_pred.shape, y_test_pred.shape, y_test.shape, y_train.shape)\n",
    "\n",
    "get_classification_report(y_train, y_train_pred, y_test, y_test_pred)"
   ]
  },
  {
   "cell_type": "code",
   "execution_count": null,
   "metadata": {},
   "outputs": [],
   "source": [
    "model_knn = KNeighborsClassifier()\n",
    "model_knn.fit(X_train[number_features], y_train)\n",
    "\n",
    "y_train_pred = model_knn.predict(X_train[number_features])\n",
    "y_test_pred = model_knn.predict(X_test[number_features])\n",
    "\n",
    "get_classification_report(y_train, y_train_pred, y_test, y_test_pred)"
   ]
  },
  {
   "cell_type": "code",
   "execution_count": null,
   "metadata": {},
   "outputs": [],
   "source": [
    "model_xgb = xgb.XGBClassifier(random_state=21)\n",
    "model_xgb.fit(X_train[number_features], y_train)\n",
    "\n",
    "y_train_pred = model_xgb.predict(X_train[number_features])\n",
    "y_test_pred = model_xgb.predict(X_test[number_features])\n",
    "\n",
    "get_classification_report(y_train, y_train_pred, y_test, y_test_pred)"
   ]
  },
  {
   "cell_type": "code",
   "execution_count": null,
   "metadata": {},
   "outputs": [],
   "source": [
    "model_lgbm = lgbm.LGBMClassifier(random_state=21)\n",
    "model_lgbm.fit(X_train[number_features], y_train)\n",
    "\n",
    "y_train_pred = model_lgbm.predict(X_train[number_features ])\n",
    "y_test_pred = model_lgbm.predict(X_test[number_features])\n",
    "\n",
    "get_classification_report(y_train, y_train_pred, y_test, y_test_pred)"
   ]
  },
  {
   "cell_type": "code",
   "execution_count": null,
   "metadata": {},
   "outputs": [],
   "source": [
    "model_catb = catb.CatBoostClassifier(silent=True, random_state=21, cat_features=cat_features)\n",
    "model_catb.fit(X_train[number_features + cat_features], y_train)\n",
    "\n",
    "y_train_pred = model_catb.predict(X_train[number_features + cat_features])\n",
    "y_test_pred = model_catb.predict(X_test[number_features + cat_features])\n",
    "\n",
    "get_classification_report(y_train, y_train_pred, y_test, y_test_pred)"
   ]
  },
  {
   "cell_type": "code",
   "execution_count": null,
   "metadata": {},
   "outputs": [],
   "source": [
    "c_dataset = Pool(data=pd.concat([X_train, X_test], ignore_index=True),\n",
    "                  label=pd.concat([y_train, y_test], ignore_index=True),\n",
    "                  cat_features=cat_features)\n",
    "\n",
    "\n",
    "params = {\"iterations\": 220,\n",
    "          \n",
    "          \"max_depth\":3,\n",
    "          \"eval_metric\":\"F1\",\n",
    "          \"l2_leaf_reg\":10.0,\n",
    "          \"loss_function\": \"Logloss\",\n",
    "          \"colsample_bylevel\":0.5,\n",
    "          \"verbose\": False}\n",
    "scores = cv(c_dataset,\n",
    "            params,\n",
    "            fold_count=3, \n",
    "            plot=\"True\")"
   ]
  },
  {
   "cell_type": "code",
   "execution_count": null,
   "metadata": {},
   "outputs": [],
   "source": []
  }
 ],
 "metadata": {
  "kernelspec": {
   "display_name": "Python 3",
   "language": "python",
   "name": "python3"
  },
  "language_info": {
   "codemirror_mode": {
    "name": "ipython",
    "version": 3
   },
   "file_extension": ".py",
   "mimetype": "text/x-python",
   "name": "python",
   "nbconvert_exporter": "python",
   "pygments_lexer": "ipython3",
   "version": "3.7.4"
  }
 },
 "nbformat": 4,
 "nbformat_minor": 2
}
