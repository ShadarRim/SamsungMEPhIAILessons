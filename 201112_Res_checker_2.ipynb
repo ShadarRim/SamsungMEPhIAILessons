{
 "cells": [
  {
   "cell_type": "code",
   "execution_count": 1,
   "metadata": {},
   "outputs": [],
   "source": [
    "import pandas as pd \n",
    "import numpy as np\n",
    "import os\n",
    "from sklearn.metrics import mean_squared_error as mse, r2_score as r2"
   ]
  },
  {
   "cell_type": "code",
   "execution_count": 2,
   "metadata": {},
   "outputs": [],
   "source": [
    "df_res = pd.read_csv('../Real_Test_chr_data_res.csv')\n",
    "true_values = df_res['donr']"
   ]
  },
  {
   "cell_type": "code",
   "execution_count": 3,
   "metadata": {},
   "outputs": [
    {
     "ename": "FileNotFoundError",
     "evalue": "[WinError 3] Системе не удается найти указанный путь: './201210_Stud_res'",
     "output_type": "error",
     "traceback": [
      "\u001b[1;31m---------------------------------------------------------------------------\u001b[0m",
      "\u001b[1;31mFileNotFoundError\u001b[0m                         Traceback (most recent call last)",
      "\u001b[1;32m<ipython-input-3-b32cdd9c7c1c>\u001b[0m in \u001b[0;36m<module>\u001b[1;34m\u001b[0m\n\u001b[1;32m----> 1\u001b[1;33m \u001b[0mos\u001b[0m\u001b[1;33m.\u001b[0m\u001b[0mlistdir\u001b[0m\u001b[1;33m(\u001b[0m\u001b[1;34m\"./201210_Stud_res\"\u001b[0m\u001b[1;33m)\u001b[0m\u001b[1;33m\u001b[0m\u001b[1;33m\u001b[0m\u001b[0m\n\u001b[0m",
      "\u001b[1;31mFileNotFoundError\u001b[0m: [WinError 3] Системе не удается найти указанный путь: './201210_Stud_res'"
     ]
    }
   ],
   "source": [
    "os.listdir(\"./201210_Stud_res\")"
   ]
  },
  {
   "cell_type": "code",
   "execution_count": 9,
   "metadata": {},
   "outputs": [],
   "source": [
    "res_list = []\n",
    "cur_dict = {}\n",
    "\n",
    "for elem in os.listdir(\"./201110_Stud_res\"):\n",
    "    df_test = pd.read_csv(f'./201110_Stud_res/{elem}')\n",
    "    pred_values = df_test['median_house_value']\n",
    "    cur_dict['Att'] = elem\n",
    "    cur_dict['Res'] = round(r2(true_values, pred_values), 5)\n",
    "    res_list.append(cur_dict.copy())\n",
    "    cur_duct = {}"
   ]
  },
  {
   "cell_type": "code",
   "execution_count": 10,
   "metadata": {
    "scrolled": true
   },
   "outputs": [
    {
     "data": {
      "text/html": [
       "<div>\n",
       "<style scoped>\n",
       "    .dataframe tbody tr th:only-of-type {\n",
       "        vertical-align: middle;\n",
       "    }\n",
       "\n",
       "    .dataframe tbody tr th {\n",
       "        vertical-align: top;\n",
       "    }\n",
       "\n",
       "    .dataframe thead th {\n",
       "        text-align: right;\n",
       "    }\n",
       "</style>\n",
       "<table border=\"1\" class=\"dataframe\">\n",
       "  <thead>\n",
       "    <tr style=\"text-align: right;\">\n",
       "      <th></th>\n",
       "      <th>Att</th>\n",
       "      <th>Res</th>\n",
       "    </tr>\n",
       "  </thead>\n",
       "  <tbody>\n",
       "    <tr>\n",
       "      <td>14</td>\n",
       "      <td>201128_Reznik_4.csv</td>\n",
       "      <td>0.86011</td>\n",
       "    </tr>\n",
       "    <tr>\n",
       "      <td>15</td>\n",
       "      <td>201203_Danchenkov_2.csv</td>\n",
       "      <td>0.85770</td>\n",
       "    </tr>\n",
       "    <tr>\n",
       "      <td>10</td>\n",
       "      <td>201119_Danchenkov_1.csv</td>\n",
       "      <td>0.85730</td>\n",
       "    </tr>\n",
       "    <tr>\n",
       "      <td>0</td>\n",
       "      <td>201018_Egorov_1.csv</td>\n",
       "      <td>0.85384</td>\n",
       "    </tr>\n",
       "    <tr>\n",
       "      <td>5</td>\n",
       "      <td>201118_Kugushev_1.csv</td>\n",
       "      <td>0.85126</td>\n",
       "    </tr>\n",
       "    <tr>\n",
       "      <td>2</td>\n",
       "      <td>201117_Shophoev_1.csv</td>\n",
       "      <td>0.84800</td>\n",
       "    </tr>\n",
       "    <tr>\n",
       "      <td>7</td>\n",
       "      <td>201118_Reznik_2.csv</td>\n",
       "      <td>0.84755</td>\n",
       "    </tr>\n",
       "    <tr>\n",
       "      <td>9</td>\n",
       "      <td>201118_Snatkina_1.csv</td>\n",
       "      <td>0.84687</td>\n",
       "    </tr>\n",
       "    <tr>\n",
       "      <td>1</td>\n",
       "      <td>201115_Reznik_1.csv</td>\n",
       "      <td>0.84674</td>\n",
       "    </tr>\n",
       "    <tr>\n",
       "      <td>6</td>\n",
       "      <td>201118_Kuzevanov_1.csv</td>\n",
       "      <td>0.84642</td>\n",
       "    </tr>\n",
       "    <tr>\n",
       "      <td>3</td>\n",
       "      <td>201118 Gafurov_1.csv</td>\n",
       "      <td>0.84635</td>\n",
       "    </tr>\n",
       "    <tr>\n",
       "      <td>4</td>\n",
       "      <td>201118_Efremova_1.csv</td>\n",
       "      <td>0.84563</td>\n",
       "    </tr>\n",
       "    <tr>\n",
       "      <td>16</td>\n",
       "      <td>201203_Lukash_3.csv</td>\n",
       "      <td>0.84499</td>\n",
       "    </tr>\n",
       "    <tr>\n",
       "      <td>11</td>\n",
       "      <td>201120_Reznik_3.csv</td>\n",
       "      <td>0.84410</td>\n",
       "    </tr>\n",
       "    <tr>\n",
       "      <td>8</td>\n",
       "      <td>201118_SMIRNOV_1.csv</td>\n",
       "      <td>0.81181</td>\n",
       "    </tr>\n",
       "    <tr>\n",
       "      <td>12</td>\n",
       "      <td>201126_Lukash_1.csv</td>\n",
       "      <td>-0.83857</td>\n",
       "    </tr>\n",
       "    <tr>\n",
       "      <td>13</td>\n",
       "      <td>201126_Lukash_2.csv</td>\n",
       "      <td>-0.85141</td>\n",
       "    </tr>\n",
       "  </tbody>\n",
       "</table>\n",
       "</div>"
      ],
      "text/plain": [
       "                        Att      Res\n",
       "14      201128_Reznik_4.csv  0.86011\n",
       "15  201203_Danchenkov_2.csv  0.85770\n",
       "10  201119_Danchenkov_1.csv  0.85730\n",
       "0       201018_Egorov_1.csv  0.85384\n",
       "5     201118_Kugushev_1.csv  0.85126\n",
       "2     201117_Shophoev_1.csv  0.84800\n",
       "7       201118_Reznik_2.csv  0.84755\n",
       "9     201118_Snatkina_1.csv  0.84687\n",
       "1       201115_Reznik_1.csv  0.84674\n",
       "6    201118_Kuzevanov_1.csv  0.84642\n",
       "3      201118 Gafurov_1.csv  0.84635\n",
       "4     201118_Efremova_1.csv  0.84563\n",
       "16      201203_Lukash_3.csv  0.84499\n",
       "11      201120_Reznik_3.csv  0.84410\n",
       "8      201118_SMIRNOV_1.csv  0.81181\n",
       "12      201126_Lukash_1.csv -0.83857\n",
       "13      201126_Lukash_2.csv -0.85141"
      ]
     },
     "execution_count": 10,
     "metadata": {},
     "output_type": "execute_result"
    }
   ],
   "source": [
    "pd.DataFrame(res_list).sort_values('Res', ascending=False)"
   ]
  },
  {
   "cell_type": "code",
   "execution_count": null,
   "metadata": {},
   "outputs": [],
   "source": []
  }
 ],
 "metadata": {
  "kernelspec": {
   "display_name": "Python 3",
   "language": "python",
   "name": "python3"
  },
  "language_info": {
   "codemirror_mode": {
    "name": "ipython",
    "version": 3
   },
   "file_extension": ".py",
   "mimetype": "text/x-python",
   "name": "python",
   "nbconvert_exporter": "python",
   "pygments_lexer": "ipython3",
   "version": "3.7.4"
  }
 },
 "nbformat": 4,
 "nbformat_minor": 2
}
