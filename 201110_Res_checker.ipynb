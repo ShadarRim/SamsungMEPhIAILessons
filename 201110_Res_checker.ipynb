{
 "cells": [
  {
   "cell_type": "code",
   "execution_count": 25,
   "metadata": {},
   "outputs": [],
   "source": [
    "import pandas as pd \n",
    "import numpy as np\n",
    "import os\n",
    "from sklearn.metrics import mean_squared_error as mse, r2_score as r2"
   ]
  },
  {
   "cell_type": "code",
   "execution_count": 26,
   "metadata": {},
   "outputs": [],
   "source": [
    "df_res = pd.read_csv('../housing_res.csv')\n",
    "true_values = df_res['median_house_value']"
   ]
  },
  {
   "cell_type": "code",
   "execution_count": 27,
   "metadata": {},
   "outputs": [
    {
     "data": {
      "text/plain": [
       "['201018_Egorov_1.csv',\n",
       " '201115_Reznik_1.csv',\n",
       " '201117_Shophoev_1.csv',\n",
       " '201118 Gafurov_1.csv',\n",
       " '201118_Efremova_1.csv',\n",
       " '201118_Kugushev_1.csv',\n",
       " '201118_Kuzevanov_1.csv',\n",
       " '201118_Reznik_2.csv',\n",
       " '201118_SMIRNOV_1.csv',\n",
       " '201118_Snatkina_1.csv',\n",
       " '201119_Danchenkov_1.csv',\n",
       " '201120_Reznik_3.csv']"
      ]
     },
     "execution_count": 27,
     "metadata": {},
     "output_type": "execute_result"
    }
   ],
   "source": [
    "os.listdir(\"./201110_Stud_res\")"
   ]
  },
  {
   "cell_type": "code",
   "execution_count": 28,
   "metadata": {},
   "outputs": [],
   "source": [
    "res_list = []\n",
    "cur_dict = {}\n",
    "\n",
    "for elem in os.listdir(\"./201110_Stud_res\"):\n",
    "    df_test = pd.read_csv(f'./201110_Stud_res/{elem}')\n",
    "    pred_values = df_test['median_house_value']\n",
    "    cur_dict['Att'] = elem\n",
    "    cur_dict['Res'] = round(r2(true_values, pred_values), 5)\n",
    "    res_list.append(cur_dict.copy())\n",
    "    cur_duct = {}"
   ]
  },
  {
   "cell_type": "code",
   "execution_count": 29,
   "metadata": {
    "scrolled": true
   },
   "outputs": [
    {
     "data": {
      "text/html": [
       "<div>\n",
       "<style scoped>\n",
       "    .dataframe tbody tr th:only-of-type {\n",
       "        vertical-align: middle;\n",
       "    }\n",
       "\n",
       "    .dataframe tbody tr th {\n",
       "        vertical-align: top;\n",
       "    }\n",
       "\n",
       "    .dataframe thead th {\n",
       "        text-align: right;\n",
       "    }\n",
       "</style>\n",
       "<table border=\"1\" class=\"dataframe\">\n",
       "  <thead>\n",
       "    <tr style=\"text-align: right;\">\n",
       "      <th></th>\n",
       "      <th>Att</th>\n",
       "      <th>Res</th>\n",
       "    </tr>\n",
       "  </thead>\n",
       "  <tbody>\n",
       "    <tr>\n",
       "      <td>10</td>\n",
       "      <td>201119_Danchenkov_1.csv</td>\n",
       "      <td>0.85730</td>\n",
       "    </tr>\n",
       "    <tr>\n",
       "      <td>0</td>\n",
       "      <td>201018_Egorov_1.csv</td>\n",
       "      <td>0.85384</td>\n",
       "    </tr>\n",
       "    <tr>\n",
       "      <td>5</td>\n",
       "      <td>201118_Kugushev_1.csv</td>\n",
       "      <td>0.85126</td>\n",
       "    </tr>\n",
       "    <tr>\n",
       "      <td>2</td>\n",
       "      <td>201117_Shophoev_1.csv</td>\n",
       "      <td>0.84800</td>\n",
       "    </tr>\n",
       "    <tr>\n",
       "      <td>7</td>\n",
       "      <td>201118_Reznik_2.csv</td>\n",
       "      <td>0.84755</td>\n",
       "    </tr>\n",
       "    <tr>\n",
       "      <td>9</td>\n",
       "      <td>201118_Snatkina_1.csv</td>\n",
       "      <td>0.84687</td>\n",
       "    </tr>\n",
       "    <tr>\n",
       "      <td>1</td>\n",
       "      <td>201115_Reznik_1.csv</td>\n",
       "      <td>0.84674</td>\n",
       "    </tr>\n",
       "    <tr>\n",
       "      <td>6</td>\n",
       "      <td>201118_Kuzevanov_1.csv</td>\n",
       "      <td>0.84642</td>\n",
       "    </tr>\n",
       "    <tr>\n",
       "      <td>3</td>\n",
       "      <td>201118 Gafurov_1.csv</td>\n",
       "      <td>0.84635</td>\n",
       "    </tr>\n",
       "    <tr>\n",
       "      <td>4</td>\n",
       "      <td>201118_Efremova_1.csv</td>\n",
       "      <td>0.84563</td>\n",
       "    </tr>\n",
       "    <tr>\n",
       "      <td>11</td>\n",
       "      <td>201120_Reznik_3.csv</td>\n",
       "      <td>0.84410</td>\n",
       "    </tr>\n",
       "    <tr>\n",
       "      <td>8</td>\n",
       "      <td>201118_SMIRNOV_1.csv</td>\n",
       "      <td>0.81181</td>\n",
       "    </tr>\n",
       "  </tbody>\n",
       "</table>\n",
       "</div>"
      ],
      "text/plain": [
       "                        Att      Res\n",
       "10  201119_Danchenkov_1.csv  0.85730\n",
       "0       201018_Egorov_1.csv  0.85384\n",
       "5     201118_Kugushev_1.csv  0.85126\n",
       "2     201117_Shophoev_1.csv  0.84800\n",
       "7       201118_Reznik_2.csv  0.84755\n",
       "9     201118_Snatkina_1.csv  0.84687\n",
       "1       201115_Reznik_1.csv  0.84674\n",
       "6    201118_Kuzevanov_1.csv  0.84642\n",
       "3      201118 Gafurov_1.csv  0.84635\n",
       "4     201118_Efremova_1.csv  0.84563\n",
       "11      201120_Reznik_3.csv  0.84410\n",
       "8      201118_SMIRNOV_1.csv  0.81181"
      ]
     },
     "execution_count": 29,
     "metadata": {},
     "output_type": "execute_result"
    }
   ],
   "source": [
    "pd.DataFrame(res_list).sort_values('Res', ascending=False)"
   ]
  },
  {
   "cell_type": "code",
   "execution_count": null,
   "metadata": {},
   "outputs": [],
   "source": []
  }
 ],
 "metadata": {
  "kernelspec": {
   "display_name": "Python 3",
   "language": "python",
   "name": "python3"
  },
  "language_info": {
   "codemirror_mode": {
    "name": "ipython",
    "version": 3
   },
   "file_extension": ".py",
   "mimetype": "text/x-python",
   "name": "python",
   "nbconvert_exporter": "python",
   "pygments_lexer": "ipython3",
   "version": "3.7.4"
  }
 },
 "nbformat": 4,
 "nbformat_minor": 2
}
