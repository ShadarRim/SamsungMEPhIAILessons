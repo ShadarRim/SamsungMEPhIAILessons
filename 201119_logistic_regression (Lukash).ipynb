{
 "cells": [
  {
   "cell_type": "code",
   "execution_count": 1,
   "metadata": {},
   "outputs": [],
   "source": [
    "import matplotlib.pyplot as plt\n",
    "import numpy as np\n",
    "import random\n",
    "import math"
   ]
  },
  {
   "cell_type": "markdown",
   "metadata": {},
   "source": [
    "**Логистическая регрессия**"
   ]
  },
  {
   "cell_type": "markdown",
   "metadata": {},
   "source": [
    "Признаковое пространство может быть разделено гиперплоскостью на два полупространства, в каждом из которых прогнозируется одно из двух значений целевого класса."
   ]
  },
  {
   "cell_type": "code",
   "execution_count": 2,
   "metadata": {},
   "outputs": [
    {
     "data": {
      "image/png": "[encoded data removed]",
      "text/plain": [
       "<Figure size 432x288 with 1 Axes>"
      ]
     },
     "metadata": {
      "needs_background": "light"
     },
     "output_type": "display_data"
    }
   ],
   "source": [
    "x = [random.random() * 10 for _ in range(50)]\n",
    "y = [random.random() * 10 for _ in range(50)]\n",
    "y = np.random.normal\n",
    "plt.scatter(x, y, marker='o')\n",
    "plt.xlabel('ages', fontsize=12)\n",
    "plt.ylabel('salary', fontsize=12)\n",
    "plt.plot([2, 8], [0, 10], color = 'red')\n",
    "plt.show()"
   ]
  },
  {
   "cell_type": "markdown",
   "metadata": {},
   "source": [
    "Логистическая регрессия - метод машинного обучения, использующий логистическую функцию потерь для оптимизации\n",
    "$$log-loss = \\sum_{i=1}^n log(1+exp^{-y_i<\\vec{w_i}^T,\\vec{x_i}>})\\longrightarrow min$$\n",
    "Логистическая регрессия - бинарная задача классификации, то есть определения отношения объекта к тому или иному классу\n",
    "Имеем входные данные $\\vec{x}=(1, x_1, x_2, ... , x_n)$ и набор весов $\\vec{w}=(w_0, w_1, ... , w_n)$. Они образуют линейную комбинацию $<\\vec{w}^T, \\vec{x}>\\in R$. Задача стоит в том, чтобы на выходе получить вероятность $P_+\\in [0, 1]$ отнесения к классу \"+\". Для этого можем рассмотреть шансы $odds=\\frac{P_+}{P_-}$ — отношение вероятностей того, произойдет ли событие или не произойдет. Очевидно, что вероятность и отношение шансов содержат одинаковую информацию. Но в то время как $P_+\\in[0,1]$, отношение находится в пределах от $0$ до $\\infty$. Если вычислим логарифм отношений, то замети что $log-odds=log\\frac{P_+}{P_-}\\in R$. Его и будем прогназировать.\n",
    "$$log-odds=log\\frac{P_+}{P_-}=<\\vec{w}^T, \\vec{x}> \\in R$$\n",
    "Зная, что $P_+=1-P_-$, выразим чему равно $P_+$:\n",
    "$$P_+=\\frac{1}{1+exp^{-<\\vec{w}^T,\\vec{x}>}}=\\sigma(<\\vec{w}^T,\\vec{x_i}>)$$\n",
    "Полученная функция называется сигмоидой."
   ]
  },
  {
   "cell_type": "code",
   "execution_count": 3,
   "metadata": {},
   "outputs": [],
   "source": [
    "def logistic(z):\n",
    "    # функция сигмоиды\n",
    "    return 1 / (1 + np.exp(-z))"
   ]
  },
  {
   "cell_type": "code",
   "execution_count": 6,
   "metadata": {},
   "outputs": [
    {
     "data": {
      "image/png": "[encoded data removed]",
      "text/plain": [
       "<Figure size 360x216 with 1 Axes>"
      ]
     },
     "metadata": {
      "needs_background": "light"
     },
     "output_type": "display_data"
    }
   ],
   "source": [
    "# строим график сигмоиды\n",
    "z = np.linspace(-8, 8, 100)\n",
    "fig = plt.figure(figsize=(5,3))\n",
    "plt.plot(z, logistic(z))\n",
    "plt.xlabel('z', fontsize=12)\n",
    "plt.ylabel('$\\sigma(z)$', fontsize=12)\n",
    "plt.title('logistic function')\n",
    "plt.grid()\n",
    "plt.show()"
   ]
  },
  {
   "cell_type": "markdown",
   "metadata": {},
   "source": [
    "Итак, логистическая регрессия прогнозирует вероятность отнесения примера к классу \"+\" (при условии, что мы знаем его признаки и веса модели) как сигмоид-преобразование линейной комбинации вектора весов модели и вектора признаков примера:\n",
    "$$P(y_i=1|\\vec{x_i},\\vec{w})=\\sigma(<\\vec{w}^T,\\vec{x_i}>)$$"
   ]
  },
  {
   "cell_type": "markdown",
   "metadata": {},
   "source": [
    "**Логистическая функция потерь**"
   ]
  },
  {
   "cell_type": "markdown",
   "metadata": {},
   "source": [
    "Если алгоритм $b(x)\\in [0,1]$ действительно выдает вероятности, то они должны согласовываться с выборкой. С точки зрения алгоритма вероятность того, что в выборке встретится объект $x_i$ с классом $y_i$, равна $b(x_i)^{y_i}(1-b(x_i))^{1-y_i}$. Исходя из этого можно записать правдоподобие выборки (т.е. вероятность получить такую выборку с точки зрения алгоритма):\n",
    "$$P(\\vec{y} | X)=\\prod_{i=1}^lb(x_i)^{y_i}(1-b(x_i))^{1-y_i}$$\n",
    "Данное правдоподобие можно использовать как функционал для обучения алгоритма - с той лишь оговоркой, что удобнее оптимизировать его логафирм:\n",
    "$$$$"
   ]
  },
  {
   "cell_type": "markdown",
   "metadata": {},
   "source": [
    "Логическая регрессия моделирует вероятность отнесения объекта к классу \"+\" как\n",
    "$$P(y_i=1|\\vec{x_i},\\vec{w})=\\sigma(<\\vec{w}^T,\\vec{x_i}>)$$\n",
    "Тогда для класса \"-\" аналогичная вероятность:\n",
    "$$P(y_i=-1|\\vec{x_i},\\vec{w})=1-\\sigma(<\\vec{w}^T,\\vec{x_i}>)=\\sigma(<-\\vec{w}^T,\\vec{x_i}>)$$\n",
    "Оба этих выражения можно объеденить в одно\n",
    "$$P(y=y_i|\\vec{x_i},\\vec{w})=\\sigma(y_i<\\vec{w}^T,\\vec{x_i}>)$$\n",
    "Распишем правдоподобие выборки, а именно, вероятность наблюдать данный вектор $\\vec{y}$ у выборки $X$\n",
    "$$P(\\vec{y}|X,\\vec{w})=\\prod_{i=1}^lP(y=y_i|\\vec{x_i},\\vec{w})$$\n",
    "где l - длина выборки $X$ (число строк)\n",
    "Возьмем логарифм данного выражения (сумму намного проще оптимизировать, чем произведение):\n",
    "$$logP(\\vec{y}|X,\\vec{w})=log\\prod_{i=1}^lP(y=y_i|\\vec{x_i},\\vec{w})=\\sum_{i=1}^llog\\sigma(<y_i\\vec{w}^T,\\vec{x_i}>)=\\sum_{i=1}^llog\\frac{1}{1+exp^{-y_i<\\vec{w}^T,\\vec{x_i}>}}=-\\sum_{i=1}^llog(1+exp^{-y_i<\\vec{w}^T,\\vec{x_i}>})$$\n",
    "Задача сводится к минимизации выражения:\n",
    "$$log-loss = \\sum_{i=1}^n log(1+exp^{-y_i<\\vec{w_i}^T,\\vec{x_i}>})$$"
   ]
  }
 ],
 "metadata": {
  "kernelspec": {
   "display_name": "Python 3",
   "language": "python",
   "name": "python3"
  },
  "language_info": {
   "codemirror_mode": {
    "name": "ipython",
    "version": 3
   },
   "file_extension": ".py",
   "mimetype": "text/x-python",
   "name": "python",
   "nbconvert_exporter": "python",
   "pygments_lexer": "ipython3",
   "version": "3.7.4"
  }
 },
 "nbformat": 4,
 "nbformat_minor": 4
}
