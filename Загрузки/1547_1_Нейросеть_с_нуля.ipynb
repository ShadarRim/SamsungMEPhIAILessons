{
  "nbformat": 4,
  "nbformat_minor": 0,
  "metadata": {
    "colab": {
      "name": "1547_1 Нейросеть с нуля.ipynb",
      "provenance": [],
      "collapsed_sections": []
    },
    "kernelspec": {
      "name": "python3",
      "display_name": "Python 3"
    }
  },
  "cells": [
    {
      "cell_type": "code",
      "metadata": {
        "id": "LqoODgiHRJmC",
        "colab_type": "code",
        "colab": {}
      },
      "source": [
        "import numpy as np\n",
        "import matplotlib.pyplot as plt"
      ],
      "execution_count": 0,
      "outputs": []
    },
    {
      "cell_type": "code",
      "metadata": {
        "id": "3Reyo6Yvn6NB",
        "colab_type": "code",
        "colab": {
          "base_uri": "https://localhost:8080/",
          "height": 501
        },
        "outputId": "f66a1c6c-69be-40d3-fd10-3bd90e0a9323"
      },
      "source": [
        "x = np.arange(0, 5, 0.1)\n",
        "print(x)\n",
        "y = np.sin(x)\n",
        "print(y)\n",
        "plt.plot(x,y)"
      ],
      "execution_count": 6,
      "outputs": [
        {
          "output_type": "stream",
          "text": [
            "[0.  0.1 0.2 0.3 0.4 0.5 0.6 0.7 0.8 0.9 1.  1.1 1.2 1.3 1.4 1.5 1.6 1.7\n",
            " 1.8 1.9 2.  2.1 2.2 2.3 2.4 2.5 2.6 2.7 2.8 2.9 3.  3.1 3.2 3.3 3.4 3.5\n",
            " 3.6 3.7 3.8 3.9 4.  4.1 4.2 4.3 4.4 4.5 4.6 4.7 4.8 4.9]\n",
            "[ 0.          0.09983342  0.19866933  0.29552021  0.38941834  0.47942554\n",
            "  0.56464247  0.64421769  0.71735609  0.78332691  0.84147098  0.89120736\n",
            "  0.93203909  0.96355819  0.98544973  0.99749499  0.9995736   0.99166481\n",
            "  0.97384763  0.94630009  0.90929743  0.86320937  0.8084964   0.74570521\n",
            "  0.67546318  0.59847214  0.51550137  0.42737988  0.33498815  0.23924933\n",
            "  0.14112001  0.04158066 -0.05837414 -0.15774569 -0.2555411  -0.35078323\n",
            " -0.44252044 -0.52983614 -0.61185789 -0.68776616 -0.7568025  -0.81827711\n",
            " -0.87157577 -0.91616594 -0.95160207 -0.97753012 -0.993691   -0.99992326\n",
            " -0.99616461 -0.98245261]\n"
          ],
          "name": "stdout"
        },
        {
          "output_type": "execute_result",
          "data": {
            "text/plain": [
              "[<matplotlib.lines.Line2D at 0x7f4fd63ab898>]"
            ]
          },
          "metadata": {
            "tags": []
          },
          "execution_count": 6
        },
        {
          "output_type": "display_data",
          "data": {
            "image/png": "[encoded data removed]",
            "text/plain": [
              "<Figure size 432x288 with 1 Axes>"
            ]
          },
          "metadata": {
            "tags": [],
            "needs_background": "light"
          }
        }
      ]
    },
    {
      "cell_type": "markdown",
      "metadata": {
        "id": "3A4DGbVTUK9Z",
        "colab_type": "text"
      },
      "source": [
        "# Что такое искусственный нейрон?\n",
        "\n",
        "Икусственный нейрон - это всего лишь комбинация математических операций. Вектор чисел (входные данные) умножатеся на вектор коэффициентов (имено они как раз и \"обучаются\"); их произведения суммируются и поступают на вход функции активации, которая трансформируется в результат.\n",
        "\n",
        "![alt text](https://drive.google.com/uc?id=1yFPLGhmGgBQ-pxEtWqw_3YemSwlFU-XT)\n",
        "\n",
        "Обобщенная формула искусственного, получается, выглядит следующим образом:\n",
        "$$y = f(\\sum_{i=0}^n x_i*w_i + b)$$\n",
        "\n",
        "В качестве функции активации может выстпать любая функция. До недавнего широкого распространения свёрточных нейронных сетей наиболее часто использовалась сигмоида. Сейчас - так называемая RELU-функция. Мы на данном вебинаре реализуем в первую очередь сигмоиду (она показана на картинке). Но код легко будет заменить на любой необходимый.\n",
        "\n",
        "![Сигмоида](https://python-scripts.com/wp-content/uploads/2019/10/neural-networks-10.jpg)\n",
        "\n",
        "Формула функции сигмоиды: $$y = \\frac{1}{(1+e^{-x})}$$"
      ]
    },
    {
      "cell_type": "markdown",
      "metadata": {
        "id": "zMKzQhtAt3Gh",
        "colab_type": "text"
      },
      "source": [
        "# Создаём свой нейрон"
      ]
    },
    {
      "cell_type": "code",
      "metadata": {
        "id": "oP5V9n5nR5fy",
        "colab_type": "code",
        "colab": {}
      },
      "source": [
        "# определеним функцию (в языке программирования) для вычислени значения функции (математика) с использованием формулы сигмоиды\n",
        "\n",
        "def sigmoid(x):\n",
        "  return 1 / (1 + np.exp(-x))"
      ],
      "execution_count": 0,
      "outputs": []
    },
    {
      "cell_type": "code",
      "metadata": {
        "id": "MRQmhH1tsG0S",
        "colab_type": "code",
        "colab": {
          "base_uri": "https://localhost:8080/",
          "height": 35
        },
        "outputId": "0face089-4568-46fc-9f22-b4b408973b2d"
      },
      "source": [
        "sigmoid(3)"
      ],
      "execution_count": 23,
      "outputs": [
        {
          "output_type": "execute_result",
          "data": {
            "text/plain": [
              "0.9525741268224334"
            ]
          },
          "metadata": {
            "tags": []
          },
          "execution_count": 23
        }
      ]
    },
    {
      "cell_type": "code",
      "metadata": {
        "id": "a68xE0pKsuP4",
        "colab_type": "code",
        "colab": {
          "base_uri": "https://localhost:8080/",
          "height": 35
        },
        "outputId": "2e23d345-4c92-4d19-be06-800fbf9704c2"
      },
      "source": [
        "a = \"string\"\n",
        "print(type(a))"
      ],
      "execution_count": 18,
      "outputs": [
        {
          "output_type": "stream",
          "text": [
            "<class 'str'>\n"
          ],
          "name": "stdout"
        }
      ]
    },
    {
      "cell_type": "code",
      "metadata": {
        "id": "z4nqYpv3Rnbw",
        "colab_type": "code",
        "colab": {}
      },
      "source": [
        "# создаём класс для нейрона\n",
        "\n",
        "class Neuron:\n",
        "  weigths = []\n",
        "  bias = 0\n",
        "\n",
        "  def __init__(self, our_weights, our_bias):\n",
        "    self.weigths = our_weights\n",
        "    self.bias = our_bias\n",
        "\n",
        "  def feedforward_neuron(self, inputs):\n",
        "    #np array\n",
        "    result = np.dot(self.weigths, inputs) + self.bias\n",
        "    return sigmoid(result)\n"
      ],
      "execution_count": 0,
      "outputs": []
    },
    {
      "cell_type": "code",
      "metadata": {
        "id": "UgybrygsRzR8",
        "colab_type": "code",
        "outputId": "1f4b4677-5ef8-42fb-8a7f-05c83775a3fa",
        "colab": {
          "base_uri": "https://localhost:8080/",
          "height": 54
        }
      },
      "source": [
        "# посмотрим простой пример w1 = 0, w2 = 1, b = 1\n",
        "'''\n",
        "входные данные 1, 1\n",
        "1*0 + 1*1 + 1 = 2\n",
        "сигмоид(2) = 0.88\n",
        "'''\n",
        "\n",
        "weigths1 = np.array([0,1])\n",
        "bias1 = 1\n",
        "\n",
        "n = Neuron(weigths1, bias1)\n",
        "\n",
        "x = np.array([1, 1])\n",
        "print(n.feedforward_neuron(x))\n",
        "\n",
        "'''\n",
        "1*1 + 2*1 + 0 = 3\n",
        "'''\n",
        "\n",
        "weigths2 = np.array([1,2])\n",
        "bias2 = 0\n",
        "\n",
        "n1 = Neuron(weigths2, bias2)\n",
        "print(n1.feedforward_neuron(x))\n"
      ],
      "execution_count": 35,
      "outputs": [
        {
          "output_type": "stream",
          "text": [
            "1.0\n",
            "1.0\n"
          ],
          "name": "stdout"
        }
      ]
    },
    {
      "cell_type": "markdown",
      "metadata": {
        "id": "uHlUQ4cAtohr",
        "colab_type": "text"
      },
      "source": [
        "# Что такой нейронная сеть?\n",
        "\n",
        "Нейронная сеть - группа связанных между собой нейронов. Классические сети - полносязные. Бывают и другие. Есть три типа слоёв: \n",
        "\n",
        "*   Входной - принимает на вход сигналы\n",
        "*   Скрытые - \"рабочие\" слои, преобразуют входные данные в выходные\n",
        "*   Выходной - позволяет считать результат\n",
        "\n",
        "Количество нейроннов в каждом слое зависит от желания \"автора\" той или иной сети. \n",
        "\n",
        "Мы будем делать очень простую сетку - она на вход будет принимать две сигнала и сразу передавать результат обработки на выход.\n",
        "\n",
        "![alt text](https://drive.google.com/uc?id=1ooVWuapuohvaAvvOa_MGfKRdDy4NA8Ta)\n",
        "\n"
      ]
    },
    {
      "cell_type": "markdown",
      "metadata": {
        "id": "dmt2vbn7w9ln",
        "colab_type": "text"
      },
      "source": [
        "# Создаём свою нейросеть"
      ]
    },
    {
      "cell_type": "code",
      "metadata": {
        "id": "zI7yPR2FSJCD",
        "colab_type": "code",
        "colab": {}
      },
      "source": [
        "class NeuralNetwork:\n",
        "  n1 = None\n",
        "  n2 = None\n",
        "  o = None\n",
        "\n",
        "  def __init__(self):\n",
        "    weights = np.array([0,1])\n",
        "    bias = 0\n",
        "\n",
        "    self.n1 = Neuron(weights, bias)\n",
        "    self.n2 = Neuron(weights, bias)\n",
        "    self.o = Neuron(weights, bias)\n",
        "  \n",
        "  def feedforward_net(self, x):\n",
        "    print('Передали')\n",
        "    out_n1 = self.n1.feedforward_neuron(x)\n",
        "    print(out_n1)\n",
        "    out_n2 = self.n2.feedforward_neuron(x)\n",
        "    print(out_n2)\n",
        "\n",
        "    out_o = self.o.feedforward_neuron(np.array([out_n1, out_n2]))\n",
        "\n",
        "    return out_o"
      ],
      "execution_count": 0,
      "outputs": []
    },
    {
      "cell_type": "code",
      "metadata": {
        "id": "Mu_nVZgGTKj3",
        "colab_type": "code",
        "outputId": "b99d5691-3bb3-4ac7-dc72-362c8c4e4096",
        "colab": {
          "base_uri": "https://localhost:8080/",
          "height": 181
        }
      },
      "source": [
        "net = NeuralNetwork()\n",
        "x = np.array([2,3])\n",
        "print('Передадим данные')\n",
        "print(net.feedforward_net(x))\n",
        "\n",
        "\n",
        "'''\n",
        "n1 = 0*2 + 3*1 + 0\n",
        "n2 - аналогично\n",
        "\n",
        "o = 0*0.95 + 1*0.95 + 0 = 0.95\n",
        "'''"
      ],
      "execution_count": 50,
      "outputs": [
        {
          "output_type": "stream",
          "text": [
            "Передадим данные\n",
            "Передали\n",
            "Теперь будет считаться нейрон\n",
            "0.9525741268224334\n",
            "Теперь будет считаться нейрон\n",
            "0.9525741268224334\n",
            "Теперь будет считаться нейрон\n",
            "0.7216325609518421\n"
          ],
          "name": "stdout"
        },
        {
          "output_type": "execute_result",
          "data": {
            "text/plain": [
              "'\\nn1 = 0*2 + 3*1 + 0\\nn2 - аналогично\\n\\no = 0*0.95 + 1*0.95 + 0 = 0.95\\n'"
            ]
          },
          "metadata": {
            "tags": []
          },
          "execution_count": 50
        }
      ]
    },
    {
      "cell_type": "markdown",
      "metadata": {
        "id": "ZLTVDbpXL-Mq",
        "colab_type": "text"
      },
      "source": [
        "# Создать мало - нужно тренировать. Считаем точность\n",
        "\n",
        "Создать нейронную сеть не досаточно. Необходимо подобрать такие значения коэффициентов и смещения, которые ползволят добиться наиболее точных результатов. \n",
        "\n",
        "Для начала разберём, как посчитать точность результатов. \n",
        "\n",
        "Предположим, что есть текущие результаты, предсказанные нейронной сетью $y_{pred}$ и истинные значения $y_{true}$. Известный способ подсчитать ошибку - сумма квадратов отклонений. \n",
        "\n",
        "$$MSE = (\\sum_{i=0}^n (y_{true}-y_{pred})^{2}) / n $$\n",
        "\n",
        "Для понимания можно посомтреть график.\n",
        "\n",
        "![alt text](https://drive.google.com/uc?id=1y6Rbh9Pn7q8J78dy0wnjN5uaCeDfWs0q)\n",
        "\n",
        "Основная задача при обучении - минимизировать эту сумму.\n"
      ]
    },
    {
      "cell_type": "code",
      "metadata": {
        "id": "E0DETl_aTPkG",
        "colab_type": "code",
        "colab": {}
      },
      "source": [
        "def mse_loss(y_true, y_pred):\n",
        "    # y_true и y_pred являются массивами numpy с одинаковой длиной\n",
        "    return ((y_true - y_pred) ** 2).mean()"
      ],
      "execution_count": 0,
      "outputs": []
    },
    {
      "cell_type": "code",
      "metadata": {
        "id": "BGs1S2Z47Eb4",
        "colab_type": "code",
        "colab": {}
      },
      "source": [
        "def mse_loss_2(y_true, y_pred):\n",
        "  sum = 0\n",
        "  for i in range(0, len(y_true)):\n",
        "    sum = sum + (y_true[i]-y_pred[i])**2\n",
        "  return sum/len(y_true)"
      ],
      "execution_count": 0,
      "outputs": []
    },
    {
      "cell_type": "code",
      "metadata": {
        "id": "inTWdpanTTx-",
        "colab_type": "code",
        "outputId": "a0825ff9-af97-4317-dd88-e17fa21709c8",
        "colab": {
          "base_uri": "https://localhost:8080/",
          "height": 54
        }
      },
      "source": [
        "# для примера\n",
        "\n",
        "y_true = np.array([1, 0, 0, 1])\n",
        "y_pred = np.array([0, 0, 0, 0])\n",
        " \n",
        "print(mse_loss(y_true, y_pred))  # 0.5\n",
        "print(mse_loss_2(y_true, y_pred))"
      ],
      "execution_count": 64,
      "outputs": [
        {
          "output_type": "stream",
          "text": [
            "0.5\n",
            "0.5\n"
          ],
          "name": "stdout"
        }
      ]
    },
    {
      "cell_type": "markdown",
      "metadata": {
        "id": "2WnMfzSISogz",
        "colab_type": "text"
      },
      "source": [
        "# Создать мало - нужно тренировать. Как тренировать?\n",
        "\n",
        "Схема обучения - простая. Нам необходимы взять исходные данные с известным результатом. Подаём на вход исходные данные, смотрим результат, меняем значения коэффициентов нейроннов, и так далее. \n",
        "\n",
        "### Здесь далее будет \"сложная\" математика. К сожалению без неё ни как. \n",
        "\n",
        "Итак, предположим, что вся наша нейронная сеть - это функция от коэффициентов и сммещения (3 нейрона)\n",
        "\n",
        "$ L(w_{всенейроны},b_{всенейроны}) = L(w_1, w_2, w_3, w_4, w_5, w_6, b_1, b_2, b_3)$\n",
        "\n",
        "Производные считаем через частные произодные для любого из коэффициентов, например для $ w_1 $\n",
        "\n",
        "$ \\partial L/\\partial w_1 = \\partial L/\\partial y_{pred} * \\partial y_{pred}/\\partial w_1 $\n",
        "\n",
        "$ \\partial L/\\partial y_{pred} = -2(y_{true} - y_{pred})$\n",
        "\n",
        "Значение $y_{true}$ мы в каждом конкретном случае знаем.\n",
        "\n",
        "$ \\partial y_{pred}/\\partial w_1 = \\partial y_{pred}/\\partial n_{1} * \\partial n_{1}/\\partial w_1 $\n",
        "\n",
        "$ \\partial y_{pred}/\\partial n_{1} = w_5 f'(w_5*n_1 + w_6*n_2+b_3) $\n",
        "\n",
        "$ \\partial n_{1}/\\partial w_1 = x_1 f'(w_1*x_1 + w_2*x_2+b_1) $\n",
        "\n",
        "Осталось только для удобства рассчитать производную от известной нам функции - сигмоиды. Поверьте мне на слово)\n",
        "\n",
        "$ f'(x) = (1-f(x))*f(x)$\n",
        "\n",
        "Сейчас мы посчитали ошибку **методом обратного распространения ошибки**.\n",
        "\n",
        "Разбавим картикной для совсем более явного пояснения:\n",
        "\n",
        "![alt text](https://ok-t.ru/studopedia/baza7/1364490912182.files/image115.gif)\n",
        "\n",
        "Осталось только определить, как считаем изменненные значения коэффициентов и смещений:\n",
        "\n",
        "$ w_1 = w_1 - k * \\partial L /\\partial w_1 $\n",
        "\n",
        "$ k $ - задаётся человеком и определяет скорость **градиенного спуска**. Его смысл в том, что изменяем коэффициент в сторону убывания производной.\n"
      ]
    },
    {
      "cell_type": "code",
      "metadata": {
        "id": "DPVW-HsZTt2A",
        "colab_type": "code",
        "colab": {}
      },
      "source": [
        "def sigmoid(x):\n",
        "  return 1/ (1 + np.exp(-x))\n",
        "\n",
        "def deriv_sigmoid(x):\n",
        "  fx = sigmoid(x)\n",
        "  return fx * (1 - fx)\n",
        "\n",
        "class NeuralNetwork:\n",
        "  w1 = 0\n",
        "  w2 = 0\n",
        "  w3 = 0\n",
        "  w4 = 0\n",
        "  w5 = 0\n",
        "  w6 = 0\n",
        "  b1 = 0\n",
        "  b2 = 0\n",
        "  b3 = 0\n",
        "\n",
        "  n1 = None\n",
        "  n2 = None\n",
        "  o = None\n",
        "  \n",
        "  def __init__(self):\n",
        "    self.w1 = np.random.normal()\n",
        "    self.w2 = np.random.normal()\n",
        "    self.w3 = np.random.normal()\n",
        "    self.w4 = np.random.normal()\n",
        "    self.w5 = np.random.normal()\n",
        "    self.w6 = np.random.normal()\n",
        "\n",
        "    self.b1 = np.random.normal()\n",
        "    self.b2 = np.random.normal()\n",
        "    self.b3 = np.random.normal()\n",
        "\n",
        "  def feedforward(self, x):\n",
        "    n1 = sigmoid(self.w1 * x[0] + self.w2 * x[1] + self.b1)\n",
        "    n2 = sigmoid(self.w3 * x[0] + self.w4 * x[1] + self.b2)\n",
        "    o = sigmoid(self.w5 * n1 + self.w6 * n2 + self.b3)\n",
        "    return o\n",
        "\n",
        "  def train(self, data, all_y_trues, learn_rate, epochs):\n",
        "\n",
        "    loss_row = []\n",
        "\n",
        "    for _ in range(epochs):\n",
        "      for x, y_true in zip(data, all_y_trues):\n",
        "        # прямой проход\n",
        "        sum_n1 = self.w1 * x[0] + self.w2 * x[1] + self.b1\n",
        "        n1 = sigmoid(sum_n1)\n",
        "\n",
        "        sum_n2 = self.w3 * x[0] + self.w4 * x[1] + self.b2\n",
        "        n2 = sigmoid(sum_n2)\n",
        "\n",
        "        sum_o = self.w5 * n1 + self.w6 * n2 + self.b3\n",
        "        o = sigmoid(sum_o)\n",
        "        y_pred = o\n",
        "\n",
        "        # обратный проход\n",
        "\n",
        "        d_L_d_ypred = -2 * (y_true-y_pred)\n",
        "\n",
        "        d_ypred_d_w5 = n1 * deriv_sigmoid(sum_o)\n",
        "        d_ypred_d_w6 = n2 * deriv_sigmoid(sum_o)\n",
        "        d_ypred_d_b3 = deriv_sigmoid(sum_o)\n",
        "\n",
        "        d_ypred_d_n1 = self.w5 * deriv_sigmoid(sum_o)\n",
        "        d_ypred_d_n2 = self.w6 * deriv_sigmoid(sum_o)\n",
        "\n",
        "        # Нейрон n1\n",
        "        d_n1_d_w1 = x[0] * deriv_sigmoid(sum_n1)\n",
        "        d_n1_d_w2 = x[1] * deriv_sigmoid(sum_n1)\n",
        "        d_n1_d_b1 = deriv_sigmoid(sum_n1)\n",
        "\n",
        "        # Нейрон n2\n",
        "        d_n2_d_w3 = x[0] * deriv_sigmoid(sum_n2)\n",
        "        d_n2_d_w4 = x[1] * deriv_sigmoid(sum_n2)\n",
        "        d_n2_d_b2 = deriv_sigmoid(sum_n2)\n",
        "\n",
        "        # изменение значений\n",
        "\n",
        "          # Нейрон n1\n",
        "        self.w1 -= learn_rate * d_L_d_ypred * d_ypred_d_n1 * d_n1_d_w1\n",
        "        self.w2 -= learn_rate * d_L_d_ypred * d_ypred_d_n1 * d_n1_d_w2\n",
        "        self.b1 -= learn_rate * d_L_d_ypred * d_ypred_d_n1 * d_n1_d_b1\n",
        "\n",
        "        # Нейрон n2\n",
        "        self.w3 -= learn_rate * d_L_d_ypred * d_ypred_d_n2 * d_n2_d_w3\n",
        "        self.w4 -= learn_rate * d_L_d_ypred * d_ypred_d_n2 * d_n2_d_w4\n",
        "        self.b2 -= learn_rate * d_L_d_ypred * d_ypred_d_n2 * d_n2_d_b2\n",
        "\n",
        "        # Нейрон o\n",
        "        self.w5 -= learn_rate * d_L_d_ypred * d_ypred_d_w5\n",
        "        self.w6 -= learn_rate * d_L_d_ypred * d_ypred_d_w6\n",
        "        self.b3 -= learn_rate * d_L_d_ypred * d_ypred_d_b3\n",
        "      \n",
        "      y_preds = np.apply_along_axis(self.feedforward, 1, data)\n",
        "      loss = mse_loss(all_y_trues, y_preds)\n",
        "      loss_row.append(loss)\n",
        "    \n",
        "    return loss_row\n"
      ],
      "execution_count": 0,
      "outputs": []
    },
    {
      "cell_type": "markdown",
      "metadata": {
        "id": "emvtGF3whLil",
        "colab_type": "text"
      },
      "source": [
        "# Тестируем нейронную сеть\n",
        "\n",
        "Определяем пол по росту и весу"
      ]
    },
    {
      "cell_type": "code",
      "metadata": {
        "id": "91aC-rmOT1JM",
        "colab_type": "code",
        "outputId": "bc2fd838-617d-4d75-9e91-035e11c0633a",
        "colab": {
          "base_uri": "https://localhost:8080/",
          "height": 483
        }
      },
      "source": [
        "data = np.array([\n",
        "    [57, 165],     # Алиса\n",
        "    [78, 183],     # Боб\n",
        "    [92, 190],     # Иван\n",
        "    [52, 172],     # Марья\n",
        "])\n",
        "\n",
        "mean_weight = (92+78+57+52)/4\n",
        "\n",
        "mean_height = (165+183+190+172)/4\n",
        "\n",
        "\n",
        "data = np.array([\n",
        "    [57-int(mean_weight), 165-int(mean_height)],     # Алиса\n",
        "    [78-int(mean_weight), 183-int(mean_height)],     # Боб\n",
        "    [92-int(mean_weight), 190-int(mean_height)],     # Иван\n",
        "    [52-int(mean_weight), 172-int(mean_height)],     # Марья\n",
        "])\n",
        "\n",
        "\n",
        "#print(data)\n",
        " \n",
        "all_y_trues = np.array([\n",
        "    1, # Алиса\n",
        "    0, # Боб\n",
        "    0, # Иван\n",
        "    1, # Марья\n",
        "])\n",
        " \n",
        "# Тренируем нашу нейронную сеть!\n",
        "network = NeuralNetwork()\n",
        "learn_rate = 0.5 #k\n",
        "epochs = 100\n",
        "loss = network.train(data, all_y_trues, learn_rate, epochs)\n",
        "\n",
        "plt.figure(figsize = (8, 8))\n",
        "plt.plot(loss)\n",
        "plt.show()"
      ],
      "execution_count": 105,
      "outputs": [
        {
          "output_type": "display_data",
          "data": {
            "image/png": "[encoded data removed]",
            "text/plain": [
              "<Figure size 576x576 with 1 Axes>"
            ]
          },
          "metadata": {
            "tags": [],
            "needs_background": "light"
          }
        }
      ]
    },
    {
      "cell_type": "code",
      "metadata": {
        "id": "g5si5QiHT48K",
        "colab_type": "code",
        "outputId": "219c17ef-d6cc-45bd-843c-d64ac499274a",
        "colab": {
          "base_uri": "https://localhost:8080/",
          "height": 54
        }
      },
      "source": [
        "w_name = np.array([55, 160]) \n",
        "\n",
        "w_name[0] = w_name[0] - mean_weight\n",
        "w_name[1] = w_name[1] - mean_height\n",
        "\n",
        "m_name = np.array([72, 190])  \n",
        "\n",
        "m_name[0] = m_name[0] - mean_weight\n",
        "m_name[1] = m_name[1] - mean_height\n",
        "\n",
        "print(f\"Женщина: {network.feedforward(w_name)}\") \n",
        "print(f\"Мужчина: {network.feedforward(m_name)}\")  "
      ],
      "execution_count": 106,
      "outputs": [
        {
          "output_type": "stream",
          "text": [
            "Женщина: 0.9460139378469328\n",
            "Мужчина: 0.4048084073726822\n"
          ],
          "name": "stdout"
        }
      ]
    },
    {
      "cell_type": "code",
      "metadata": {
        "id": "7NyUcoPbT5rz",
        "colab_type": "code",
        "colab": {}
      },
      "source": [
        ""
      ],
      "execution_count": 0,
      "outputs": []
    },
    {
      "cell_type": "markdown",
      "metadata": {
        "id": "P5SdGiOgFM-i",
        "colab_type": "text"
      },
      "source": [
        ""
      ]
    }
  ]
}