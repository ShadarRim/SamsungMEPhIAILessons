{
 "cells": [
  {
   "cell_type": "code",
   "execution_count": 11,
   "metadata": {},
   "outputs": [
    {
     "name": "stdout",
     "output_type": "stream",
     "text": [
      "1\n",
      "0\n",
      "0.0\n"
     ]
    }
   ],
   "source": [
    "from math import sqrt\n",
    "x = float(input())\n",
    "y = float(input())\n",
    "if 0.0<=x<=1.0:\n",
    "    if y<0.0:\n",
    "        d=-y\n",
    "    else:\n",
    "        d=y\n",
    "elif x>1.0:\n",
    "    d=sqrt((x-1)**2+y**2)\n",
    "else:\n",
    "    d=sqrt(x**2+y**2)\n",
    "print(d)"
   ]
  }
 ],
 "metadata": {
  "kernelspec": {
   "display_name": "Python 3",
   "language": "python",
   "name": "python3"
  },
  "language_info": {
   "codemirror_mode": {
    "name": "ipython",
    "version": 3
   },
   "file_extension": ".py",
   "mimetype": "text/x-python",
   "name": "python",
   "nbconvert_exporter": "python",
   "pygments_lexer": "ipython3",
   "version": "3.7.4"
  }
 },
 "nbformat": 4,
 "nbformat_minor": 4
}
