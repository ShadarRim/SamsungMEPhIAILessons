{
  "nbformat": 4,
  "nbformat_minor": 0,
  "metadata": {
    "colab": {
      "name": "07-HW-Практика_перенос_обучения.ipynb",
      "provenance": [],
      "collapsed_sections": [
        "99LAkQNVZV5Y"
      ]
    },
    "kernelspec": {
      "display_name": "Python 3",
      "language": "python",
      "name": "python3"
    },
    "widgets": {
      "application/vnd.jupyter.widget-state+json": {
        "8ce4ceee512e4547ac0c89f2d0a254ca": {
          "model_module": "@jupyter-widgets/controls",
          "model_name": "HBoxModel",
          "state": {
            "_view_name": "HBoxView",
            "_dom_classes": [],
            "_model_name": "HBoxModel",
            "_view_module": "@jupyter-widgets/controls",
            "_model_module_version": "1.5.0",
            "_view_count": null,
            "_view_module_version": "1.5.0",
            "box_style": "",
            "layout": "IPY_MODEL_8ef9cf8277fa49ce99ae8825caa0482b",
            "_model_module": "@jupyter-widgets/controls",
            "children": [
              "IPY_MODEL_da9e8021fa8643089ec964bc291e359d",
              "IPY_MODEL_9106bce9e3f747feb8b85224af0b7be1"
            ]
          }
        },
        "8ef9cf8277fa49ce99ae8825caa0482b": {
          "model_module": "@jupyter-widgets/base",
          "model_name": "LayoutModel",
          "state": {
            "_view_name": "LayoutView",
            "grid_template_rows": null,
            "right": null,
            "justify_content": null,
            "_view_module": "@jupyter-widgets/base",
            "overflow": null,
            "_model_module_version": "1.2.0",
            "_view_count": null,
            "flex_flow": null,
            "width": null,
            "min_width": null,
            "border": null,
            "align_items": null,
            "bottom": null,
            "_model_module": "@jupyter-widgets/base",
            "top": null,
            "grid_column": null,
            "overflow_y": null,
            "overflow_x": null,
            "grid_auto_flow": null,
            "grid_area": null,
            "grid_template_columns": null,
            "flex": null,
            "_model_name": "LayoutModel",
            "justify_items": null,
            "grid_row": null,
            "max_height": null,
            "align_content": null,
            "visibility": null,
            "align_self": null,
            "height": null,
            "min_height": null,
            "padding": null,
            "grid_auto_rows": null,
            "grid_gap": null,
            "max_width": null,
            "order": null,
            "_view_module_version": "1.2.0",
            "grid_template_areas": null,
            "object_position": null,
            "object_fit": null,
            "grid_auto_columns": null,
            "margin": null,
            "display": null,
            "left": null
          }
        },
        "da9e8021fa8643089ec964bc291e359d": {
          "model_module": "@jupyter-widgets/controls",
          "model_name": "FloatProgressModel",
          "state": {
            "_view_name": "ProgressView",
            "style": "IPY_MODEL_273b6e3873d2477f8bc3bdcf5040400b",
            "_dom_classes": [],
            "description": "100%",
            "_model_name": "FloatProgressModel",
            "bar_style": "success",
            "max": 52147035,
            "_view_module": "@jupyter-widgets/controls",
            "_model_module_version": "1.5.0",
            "value": 52147035,
            "_view_count": null,
            "_view_module_version": "1.5.0",
            "orientation": "horizontal",
            "min": 0,
            "description_tooltip": null,
            "_model_module": "@jupyter-widgets/controls",
            "layout": "IPY_MODEL_0a35f790057c4b1fa66e8b9f78374568"
          }
        },
        "9106bce9e3f747feb8b85224af0b7be1": {
          "model_module": "@jupyter-widgets/controls",
          "model_name": "HTMLModel",
          "state": {
            "_view_name": "HTMLView",
            "style": "IPY_MODEL_6a3a5dfaaaf0459f9aa232439be4e930",
            "_dom_classes": [],
            "description": "",
            "_model_name": "HTMLModel",
            "placeholder": "​",
            "_view_module": "@jupyter-widgets/controls",
            "_model_module_version": "1.5.0",
            "value": " 49.7M/49.7M [01:08&lt;00:00, 767kB/s]",
            "_view_count": null,
            "_view_module_version": "1.5.0",
            "description_tooltip": null,
            "_model_module": "@jupyter-widgets/controls",
            "layout": "IPY_MODEL_fa2db257a70642118442b8ccfb850226"
          }
        },
        "273b6e3873d2477f8bc3bdcf5040400b": {
          "model_module": "@jupyter-widgets/controls",
          "model_name": "ProgressStyleModel",
          "state": {
            "_view_name": "StyleView",
            "_model_name": "ProgressStyleModel",
            "description_width": "initial",
            "_view_module": "@jupyter-widgets/base",
            "_model_module_version": "1.5.0",
            "_view_count": null,
            "_view_module_version": "1.2.0",
            "bar_color": null,
            "_model_module": "@jupyter-widgets/controls"
          }
        },
        "0a35f790057c4b1fa66e8b9f78374568": {
          "model_module": "@jupyter-widgets/base",
          "model_name": "LayoutModel",
          "state": {
            "_view_name": "LayoutView",
            "grid_template_rows": null,
            "right": null,
            "justify_content": null,
            "_view_module": "@jupyter-widgets/base",
            "overflow": null,
            "_model_module_version": "1.2.0",
            "_view_count": null,
            "flex_flow": null,
            "width": null,
            "min_width": null,
            "border": null,
            "align_items": null,
            "bottom": null,
            "_model_module": "@jupyter-widgets/base",
            "top": null,
            "grid_column": null,
            "overflow_y": null,
            "overflow_x": null,
            "grid_auto_flow": null,
            "grid_area": null,
            "grid_template_columns": null,
            "flex": null,
            "_model_name": "LayoutModel",
            "justify_items": null,
            "grid_row": null,
            "max_height": null,
            "align_content": null,
            "visibility": null,
            "align_self": null,
            "height": null,
            "min_height": null,
            "padding": null,
            "grid_auto_rows": null,
            "grid_gap": null,
            "max_width": null,
            "order": null,
            "_view_module_version": "1.2.0",
            "grid_template_areas": null,
            "object_position": null,
            "object_fit": null,
            "grid_auto_columns": null,
            "margin": null,
            "display": null,
            "left": null
          }
        },
        "6a3a5dfaaaf0459f9aa232439be4e930": {
          "model_module": "@jupyter-widgets/controls",
          "model_name": "DescriptionStyleModel",
          "state": {
            "_view_name": "StyleView",
            "_model_name": "DescriptionStyleModel",
            "description_width": "",
            "_view_module": "@jupyter-widgets/base",
            "_model_module_version": "1.5.0",
            "_view_count": null,
            "_view_module_version": "1.2.0",
            "_model_module": "@jupyter-widgets/controls"
          }
        },
        "fa2db257a70642118442b8ccfb850226": {
          "model_module": "@jupyter-widgets/base",
          "model_name": "LayoutModel",
          "state": {
            "_view_name": "LayoutView",
            "grid_template_rows": null,
            "right": null,
            "justify_content": null,
            "_view_module": "@jupyter-widgets/base",
            "overflow": null,
            "_model_module_version": "1.2.0",
            "_view_count": null,
            "flex_flow": null,
            "width": null,
            "min_width": null,
            "border": null,
            "align_items": null,
            "bottom": null,
            "_model_module": "@jupyter-widgets/base",
            "top": null,
            "grid_column": null,
            "overflow_y": null,
            "overflow_x": null,
            "grid_auto_flow": null,
            "grid_area": null,
            "grid_template_columns": null,
            "flex": null,
            "_model_name": "LayoutModel",
            "justify_items": null,
            "grid_row": null,
            "max_height": null,
            "align_content": null,
            "visibility": null,
            "align_self": null,
            "height": null,
            "min_height": null,
            "padding": null,
            "grid_auto_rows": null,
            "grid_gap": null,
            "max_width": null,
            "order": null,
            "_view_module_version": "1.2.0",
            "grid_template_areas": null,
            "object_position": null,
            "object_fit": null,
            "grid_auto_columns": null,
            "margin": null,
            "display": null,
            "left": null
          }
        }
      }
    }
  },
  "cells": [
    {
      "cell_type": "markdown",
      "metadata": {
        "colab_type": "text",
        "id": "XgbimpoMZV5F"
      },
      "source": [
        "<h2 style=\"text-align: center;\"><b>Практическое задание: Архитектуры и Transfer Learning</b></h3>"
      ]
    },
    {
      "cell_type": "markdown",
      "metadata": {
        "colab_type": "text",
        "id": "AUH-Q7FuZV5I"
      },
      "source": [
        "В данном ноутбуке мы поближе познакомимся с архитектурами *AlexNet*, *VGG* и *Inception (GoogleNet)*, и для каждой из этих моделей используем технику **Transfer Learning**.  \n",
        "\n",
        "\\> **В конце ноутбука Вам предстоит выполнить задание. Суммарно за него можно получить 10 баллов.** <\n",
        "\n",
        "**Transfer Learning** - это процесс дообучения уже обученной нейросети на **новых данных**. Например, часто берут обученную на датасете [ImageNet](http://www.image-net.org/) нейронную сеть и дообучают ее на своих данных."
      ]
    },
    {
      "cell_type": "markdown",
      "metadata": {
        "id": "olUjtWy873mv",
        "colab_type": "text"
      },
      "source": [
        "<img src=\"https://miro.medium.com/max/5252/1*Z11P-CjNYWBofEbmGQrptA.png\" width=650>"
      ]
    },
    {
      "cell_type": "markdown",
      "metadata": {
        "id": "CPFzOLivwveT",
        "colab_type": "text"
      },
      "source": [
        "<h2 style=\"text-align: center;\"><b>Архитектуры</b></h3>"
      ]
    },
    {
      "cell_type": "markdown",
      "metadata": {
        "id": "kx32Ae9Y7AQE",
        "colab_type": "text"
      },
      "source": [
        "Во второй половине ноутбука мы будем дообучать AlexNet, VGG и GoogleNet (Inception) на новых данных. Но сначала вспомним, что эти нейросети из себя представляют (**повторение видеоурока**):"
      ]
    },
    {
      "cell_type": "markdown",
      "metadata": {
        "colab_type": "text",
        "id": "oaiyKxA7Sgvf"
      },
      "source": [
        "<h2 style=\"text-align: center;\"><b>AlexNet</b></h2>"
      ]
    },
    {
      "cell_type": "markdown",
      "metadata": {
        "colab_type": "text",
        "id": "7nFB2hnISgvj"
      },
      "source": [
        "**AlexNet** - нейронная сеть, которая победила в ILSVRC (соревнование по классификации картинок из ImageNet) в 2012 году и стала основой для многих других архитектур. Впервые она была представлена в статье  “ImageNet Classification with Deep Convolutional Neural Networks”, над которой работал Джоффри Хинтон - человек, которого многие называют отцом современного computer vision.\n",
        "\n",
        "Архитектура:"
      ]
    },
    {
      "cell_type": "markdown",
      "metadata": {
        "colab_type": "text",
        "id": "w-Hj_RLcSgvm"
      },
      "source": [
        "<img src=\"https://www.learnopencv.com/wp-content/uploads/2018/05/AlexNet-1.png\" width=700>"
      ]
    },
    {
      "cell_type": "markdown",
      "metadata": {
        "colab_type": "text",
        "id": "Y4zmFA6QSgvq"
      },
      "source": [
        "**AlexNet** состоит из 5 **сверточных** слоев, 3 **MaxPool** слоев и 2 **FullyConnected** слоев в конце. Обратите внимание, что в последнем пулинг слое окна, из которых берется максимум, пересекаются за счет того, что *stride*=2. Это изменение по сравнению с традиционным пулингом помогло снизить ошибку на 0.4%.\n",
        "\n",
        "По сути **AlexNet** это **самая базовая** архитектура для сверточной сети."
      ]
    },
    {
      "cell_type": "markdown",
      "metadata": {
        "colab_type": "text",
        "id": "L5jQNFS5Sgvv"
      },
      "source": [
        "<h2 style=\"text-align: center;\"><b>VGG</b></h3>"
      ]
    },
    {
      "cell_type": "markdown",
      "metadata": {
        "colab_type": "text",
        "id": "KPhsK5U2Sgvy"
      },
      "source": [
        "Эта сеть возникла из следующей идеи: один **сверточный** слой с фильтром 5$\\times$5 можно заменить двумя подряд идущими слоями с фильтрами размером 3$\\times$3, так как **воспринимаемая область (receiptive field)** картинки у них будет одинаковой. При этом уменьшиться количество параметров, поэтому такую сеть будет легче обучать. \n",
        "\n",
        "<img src=\"https://cdn-images-1.medium.com/max/1600/1*YpXrr8bN5XyqOlztKPHvDw@2x.png\" width=400>\n",
        "\n",
        "На момент создания VGG люди уже заметили, что чем больше слоев в нейросети, тем выше ее точность. Заменяя большие фильтры на несколько фильтров 3$\\times$3 исследователи получили глубокую нейросеть с меньшим количеством параметров. Архитектура VGG-16 (версия VGG с 16 слоями) представлена на картинке ниже:\n"
      ]
    },
    {
      "cell_type": "markdown",
      "metadata": {
        "colab_type": "text",
        "id": "u5Fwng6XSgv3"
      },
      "source": [
        "<img src=\"https://cdn-images-1.medium.com/max/1040/1*0Tk4JclhGOCR_uLe6RKvUQ.png\" width=650>"
      ]
    },
    {
      "cell_type": "markdown",
      "metadata": {
        "colab_type": "text",
        "id": "EAjLsFn2Sgv8"
      },
      "source": [
        "\n",
        "<h2 style=\"text-align: center;\"><b>GoogleNet (Inception v1)</b></h3>"
      ]
    },
    {
      "cell_type": "markdown",
      "metadata": {
        "colab_type": "text",
        "id": "kVLsNug8SgwB"
      },
      "source": [
        "#### Рассмотрим идею, которая подтолкнула исследователей к созданию этой архитектуры.\n",
        "\n",
        "Площадь, которую занимает классифицируемый объект, может очень сильно отличаться. Пример на картинках ниже: "
      ]
    },
    {
      "cell_type": "markdown",
      "metadata": {
        "colab_type": "text",
        "id": "prERHawrSgwD"
      },
      "source": [
        "<img src=\"https://cdn-images-1.medium.com/max/1040/1*aBdPBGAeta-_AM4aEyqeTQ.jpeg\" width=700>"
      ]
    },
    {
      "cell_type": "markdown",
      "metadata": {
        "colab_type": "text",
        "id": "QoPk-Gs7SgwF"
      },
      "source": [
        "Для извлечения информации с большой площади лучше всего подходят **большие** фильтры, и, наоборот, для маленьких объектов лучше **маленькие** фильтры. \n",
        "\n",
        "Глубокие нейронные сети намного сложнее обучать: в них появляется проблема **затухания градиента** и они **переобучаются**.\n",
        "Чтобы решить первую проблему исследователи придумали **Incepton** модуль, который применяет фильтры разного размера и затем склеивает полученные каналы. При этом извлекается как информация из больших объектов, так и из маленьких. \n",
        "\n",
        "\n",
        "<img src=\"https://cdn-images-1.medium.com/max/1040/1*DKjGRDd_lJeUfVlY50ojOA.png\" width=600>"
      ]
    },
    {
      "cell_type": "markdown",
      "metadata": {
        "colab_type": "text",
        "id": "LYUeTuXWSgwL"
      },
      "source": [
        "Сеть состоит из **корня** (нескольких сверточных слоев) и **Inception** модулей идущих за ним. Оранжевым прямоугольников выделен корень, а фиолетовыми - **вспомогательные классификаторы**. Именно они помогают бороться со второй проблемой -- затуханием градиентов. Наша функция потерь - взвешенная сумма **LogLoss** на двух **вспомогательных классификаторах** и **основном** в конце нейронной сети.\n",
        "\n",
        "\n",
        "<img src=\"https://cdn-images-1.medium.com/max/1040/1*uW81y16b-ptBDV8SIT1beQ.png\">"
      ]
    },
    {
      "cell_type": "markdown",
      "metadata": {
        "colab_type": "text",
        "id": "H5JCuydFZV5O"
      },
      "source": [
        "Представим теперь, что eсть свой набор данных, и Вы хотите научить сеть классифицировать объекты из Вашей выборки. Есть два пути:\n",
        "1. Обучить сеть с нуля (как мы, например, делали в предыдущем Задании по MNIST);\n",
        "2. Взять предобученную нейросеть и дообучить ее на своих данных (Transfer Learning)"
      ]
    },
    {
      "cell_type": "markdown",
      "metadata": {
        "colab_type": "text",
        "id": "bx9ZdMmMZV5I"
      },
      "source": [
        "<h2 style=\"text-align: center;\"><b>Transfer Learning</b></h3>"
      ]
    },
    {
      "cell_type": "markdown",
      "metadata": {
        "id": "B2THc0VZLn5O",
        "colab_type": "text"
      },
      "source": [
        "Ключевая роль этой техники -- эффективное обучение нейросетей в случае, когда мало данных. Если взять нейросеть и обучить ее **с нуля на новых данных**, притом, что их мало (менее 1000 картинок), то она почти наверное **переобучится** и будет плохо работать на тестовых данных.\n",
        "\n",
        "Если же брать предобученную нейросеть и **дообучить ее на новых данных** -- можно избежать переобучения. Это и есть суть **Transfer Learning**."
      ]
    },
    {
      "cell_type": "markdown",
      "metadata": {
        "colab_type": "text",
        "id": "j-EtKIoMZV5J"
      },
      "source": [
        "Вспомним общую архитектуру CNN:"
      ]
    },
    {
      "cell_type": "markdown",
      "metadata": {
        "colab_type": "text",
        "id": "XWER66eyZV5K"
      },
      "source": [
        "<img src=\"https://camo.githubusercontent.com/269e3903f62eb2c4d13ac4c9ab979510010f8968/68747470733a2f2f7261772e6769746875622e636f6d2f746176677265656e2f6c616e647573655f636c617373696669636174696f6e2f6d61737465722f66696c652f636e6e2e706e673f7261773d74727565\" width=800>"
      ]
    },
    {
      "cell_type": "markdown",
      "metadata": {
        "id": "uoLC7iOI8JE8",
        "colab_type": "text"
      },
      "source": [
        "Все выше описанные архитектуры подходят под эту схему (Inception чуть сложнее, но в конце все равно стоит классификатор в виде FC-слоев).  \n",
        "\n",
        "Напомним, что **параметрами нейросети являюстя веса нейронов в слоях**. В полносвязных слоях это обычные нейроны (из предыдущего блока курса), в сверточных слоях это сверточные нейроны (которые осуществляют операцию свертки).\n",
        "\n",
        "Именно эти веса и меняются при обучении нейросети. Под **заморозкой** слоя подразумевается отключение обновления весов этого слоя при обучении нейросети. То есть во время алгоритма backpropagation веса замороженных слоев не обновляются, а лишь участвуют в вычислениях как константы.\n",
        "\n",
        "\n",
        "\n",
        "Transfer Learning можно делать двумя способами:"
      ]
    },
    {
      "cell_type": "markdown",
      "metadata": {
        "id": "lf9Lzehq-0ue",
        "colab_type": "text"
      },
      "source": [
        "1. **Feature Extractor** способ:\n",
        "    * Берём **уже обученную** нейросеть\n",
        "    * **Убираем последние полносвязные слои** сети, отвечающие за классификацию\n",
        "    * Ставим вместо них **свои слои классификации** (например, 2 полносвязных слоя), веса этих слоев **будут меняться во время обучения**\n",
        "    * Веса всех свёрточных слоёв **заморожены**, то есть во время обучения сети они **меняться не будут**\n",
        "    * **Обучаем** всю сеть (меняются только слои классификации) на новом датасете \n",
        "    * Используем полученную модель для предсказания\n",
        "2. **Fine Tuning** способ:  \n",
        "    * Берём **уже обученную** нейросеть\n",
        "    * **Убираем последние полносвязные слои** сети, отвечающие за классификацию\n",
        "    * Ставим вместо них **свои слои классификации** (например, 2 полносвязных слоя), веса этих слоев **будут меняться во время обучения**\n",
        "    * Веса всех свёрточных слоёв **разморожены**, то есть во время обучения сети они **будут меняться**\n",
        "    * **Обучаем** всю сеть (меняются веса всех слоев) на новом датасете \n",
        "    * Используем полученную модель для предсказания"
      ]
    },
    {
      "cell_type": "markdown",
      "metadata": {
        "id": "6pFMeU0_ECwD",
        "colab_type": "text"
      },
      "source": [
        "Также при Fine Tuning можно размораживать не все сверточные слои, а лишь некоторые из них. Частая практика размораживать какое-то небольшое количество слоев \"с конца\" нейросети, которые ближе к слоям классификации, а первые 10-20 слоев оставлять замороженными."
      ]
    },
    {
      "cell_type": "markdown",
      "metadata": {
        "colab_type": "text",
        "id": "CU8jKks8ZV5P"
      },
      "source": [
        "<h2 style=\"text-align: center;\"><b>Переходим к практике</b></h3>"
      ]
    },
    {
      "cell_type": "markdown",
      "metadata": {
        "colab_type": "text",
        "id": "JyvXMfhZZV5Q"
      },
      "source": [
        "<p style=\"text-align: center;\"><i>(основано на http://pytorch.org/tutorials/beginner/transfer_learning_tutorial.html)</i></p>"
      ]
    },
    {
      "cell_type": "markdown",
      "metadata": {
        "id": "clsDcxmuS07b",
        "colab_type": "text"
      },
      "source": [
        "Практическую часть ноутбука крайне рекомендуется выпонять в сервисе [Google Colab](https://colab.research.google.com/notebooks/intro.ipynb#recent=true). В нем **обязательно** нужно поставить `Runtime -> Change Runtime Type -> GPU`:"
      ]
    },
    {
      "cell_type": "markdown",
      "metadata": {
        "id": "MTamJCt0TFkQ",
        "colab_type": "text"
      },
      "source": [
        "<img src=\"https://i.ibb.co/HhWKBKj/2020-03-11-0-14-59.png\">"
      ]
    },
    {
      "cell_type": "markdown",
      "metadata": {
        "id": "n8waTFz7TmoW",
        "colab_type": "text"
      },
      "source": [
        "<img src=\"https://i.ibb.co/y5CftFB/2020-03-11-0-15-46.png\">"
      ]
    },
    {
      "cell_type": "code",
      "metadata": {
        "colab_type": "code",
        "id": "3xF5zpbFgkIp",
        "colab": {}
      },
      "source": [
        "#!pip install torch torchvision"
      ],
      "execution_count": 1,
      "outputs": []
    },
    {
      "cell_type": "code",
      "metadata": {
        "colab_type": "code",
        "id": "l2sTUHmNZV5S",
        "colab": {}
      },
      "source": [
        "from __future__ import print_function, division\n",
        "\n",
        "import torch\n",
        "import torch.nn as nn\n",
        "import torch.optim as optim\n",
        "from torch.optim import lr_scheduler\n",
        "\n",
        "import numpy as np\n",
        "import torchvision\n",
        "from torchvision import datasets, models, transforms\n",
        "import matplotlib.pyplot as plt\n",
        "import time\n",
        "import os\n",
        "\n",
        "plt.ion()"
      ],
      "execution_count": 2,
      "outputs": []
    },
    {
      "cell_type": "markdown",
      "metadata": {
        "colab_type": "text",
        "id": "F8paFz_5ZV5Y"
      },
      "source": [
        "Попробуем 3 типа архитектур свёрточных нейросетей -- **AlexNet, VGG16, Inception_v3** -- как *Feature Extractor* и с помощью *Fine Tuning*.\n",
        "\n",
        "**Для каждого пункта нужно:**\n",
        "- вывести график loss'а на обучающей и на валидационной выборке\n",
        "- вывести качество модели (поклассовый accuracy)"
      ]
    },
    {
      "cell_type": "markdown",
      "metadata": {
        "colab_type": "text",
        "id": "99LAkQNVZV5Y"
      },
      "source": [
        "### Данные  \n",
        "\n",
        "В задании используются сети из библиотеки **torchvision**, предобученные на датасете ImageNet.  \n",
        "В качестве новых данных будет датасет **Муравьи vs Пчёлы**: всего 400 картинок, ~250 обучение и ~150 валидация (тест)."
      ]
    },
    {
      "cell_type": "markdown",
      "metadata": {
        "colab_type": "text",
        "id": "8gGQA6CbZV5Z"
      },
      "source": [
        "### Функции для отрисовки и обучения модели:"
      ]
    },
    {
      "cell_type": "markdown",
      "metadata": {
        "colab_type": "text",
        "id": "LnoL3STNZV5a"
      },
      "source": [
        "* Загрузим данные:"
      ]
    },
    {
      "cell_type": "code",
      "metadata": {
        "id": "qxtUGtJxyVCq",
        "colab_type": "code",
        "colab": {
          "base_uri": "https://localhost:8080/",
          "height": 222
        },
        "outputId": "c4d79a17-ab82-4636-ef14-caad126e9a60"
      },
      "source": [
        "!wget https://download.pytorch.org/tutorial/hymenoptera_data.zip"
      ],
      "execution_count": 3,
      "outputs": [
        {
          "output_type": "stream",
          "text": [
            "--2020-07-20 18:52:28--  https://download.pytorch.org/tutorial/hymenoptera_data.zip\n",
            "Resolving download.pytorch.org (download.pytorch.org)... 13.35.153.7, 13.35.153.102, 13.35.153.124, ...\n",
            "Connecting to download.pytorch.org (download.pytorch.org)|13.35.153.7|:443... connected.\n",
            "HTTP request sent, awaiting response... 200 OK\n",
            "Length: 47286322 (45M) [application/zip]\n",
            "Saving to: ‘hymenoptera_data.zip.1’\n",
            "\n",
            "\rhymenoptera_data.zi   0%[                    ]       0  --.-KB/s               \rhymenoptera_data.zi 100%[===================>]  45.10M   252MB/s    in 0.2s    \n",
            "\n",
            "2020-07-20 18:52:28 (252 MB/s) - ‘hymenoptera_data.zip.1’ saved [47286322/47286322]\n",
            "\n"
          ],
          "name": "stdout"
        }
      ]
    },
    {
      "cell_type": "code",
      "metadata": {
        "id": "Y1yeh2yKyX8E",
        "colab_type": "code",
        "colab": {
          "base_uri": "https://localhost:8080/",
          "height": 1000
        },
        "outputId": "52c0a95e-7690-41e8-8d14-ddad28d4af0b"
      },
      "source": [
        "!unzip ./hymenoptera_data.zip"
      ],
      "execution_count": 4,
      "outputs": [
        {
          "output_type": "stream",
          "text": [
            "Archive:  ./hymenoptera_data.zip\n",
            "replace hymenoptera_data/train/ants/0013035.jpg? [y]es, [n]o, [A]ll, [N]one, [r]ename: A\n",
            "  inflating: hymenoptera_data/train/ants/0013035.jpg  \n",
            "  inflating: hymenoptera_data/train/ants/1030023514_aad5c608f9.jpg  \n",
            "  inflating: hymenoptera_data/train/ants/1095476100_3906d8afde.jpg  \n",
            "  inflating: hymenoptera_data/train/ants/1099452230_d1949d3250.jpg  \n",
            "  inflating: hymenoptera_data/train/ants/116570827_e9c126745d.jpg  \n",
            "  inflating: hymenoptera_data/train/ants/1225872729_6f0856588f.jpg  \n",
            "  inflating: hymenoptera_data/train/ants/1262877379_64fcada201.jpg  \n",
            "  inflating: hymenoptera_data/train/ants/1269756697_0bce92cdab.jpg  \n",
            "  inflating: hymenoptera_data/train/ants/1286984635_5119e80de1.jpg  \n",
            "  inflating: hymenoptera_data/train/ants/132478121_2a430adea2.jpg  \n",
            "  inflating: hymenoptera_data/train/ants/1360291657_dc248c5eea.jpg  \n",
            "  inflating: hymenoptera_data/train/ants/1368913450_e146e2fb6d.jpg  \n",
            "  inflating: hymenoptera_data/train/ants/1473187633_63ccaacea6.jpg  \n",
            "  inflating: hymenoptera_data/train/ants/148715752_302c84f5a4.jpg  \n",
            "  inflating: hymenoptera_data/train/ants/1489674356_09d48dde0a.jpg  \n",
            "  inflating: hymenoptera_data/train/ants/149244013_c529578289.jpg  \n",
            "  inflating: hymenoptera_data/train/ants/150801003_3390b73135.jpg  \n",
            "  inflating: hymenoptera_data/train/ants/150801171_cd86f17ed8.jpg  \n",
            "  inflating: hymenoptera_data/train/ants/154124431_65460430f2.jpg  \n",
            "  inflating: hymenoptera_data/train/ants/162603798_40b51f1654.jpg  \n",
            "  inflating: hymenoptera_data/train/ants/1660097129_384bf54490.jpg  \n",
            "  inflating: hymenoptera_data/train/ants/167890289_dd5ba923f3.jpg  \n",
            "  inflating: hymenoptera_data/train/ants/1693954099_46d4c20605.jpg  \n",
            "  inflating: hymenoptera_data/train/ants/175998972.jpg  \n",
            "  inflating: hymenoptera_data/train/ants/178538489_bec7649292.jpg  \n",
            "  inflating: hymenoptera_data/train/ants/1804095607_0341701e1c.jpg  \n",
            "  inflating: hymenoptera_data/train/ants/1808777855_2a895621d7.jpg  \n",
            "  inflating: hymenoptera_data/train/ants/188552436_605cc9b36b.jpg  \n",
            "  inflating: hymenoptera_data/train/ants/1917341202_d00a7f9af5.jpg  \n",
            "  inflating: hymenoptera_data/train/ants/1924473702_daa9aacdbe.jpg  \n",
            "  inflating: hymenoptera_data/train/ants/196057951_63bf063b92.jpg  \n",
            "  inflating: hymenoptera_data/train/ants/196757565_326437f5fe.jpg  \n",
            "  inflating: hymenoptera_data/train/ants/201558278_fe4caecc76.jpg  \n",
            "  inflating: hymenoptera_data/train/ants/201790779_527f4c0168.jpg  \n",
            "  inflating: hymenoptera_data/train/ants/2019439677_2db655d361.jpg  \n",
            "  inflating: hymenoptera_data/train/ants/207947948_3ab29d7207.jpg  \n",
            "  inflating: hymenoptera_data/train/ants/20935278_9190345f6b.jpg  \n",
            "  inflating: hymenoptera_data/train/ants/224655713_3956f7d39a.jpg  \n",
            "  inflating: hymenoptera_data/train/ants/2265824718_2c96f485da.jpg  \n",
            "  inflating: hymenoptera_data/train/ants/2265825502_fff99cfd2d.jpg  \n",
            "  inflating: hymenoptera_data/train/ants/226951206_d6bf946504.jpg  \n",
            "  inflating: hymenoptera_data/train/ants/2278278459_6b99605e50.jpg  \n",
            "  inflating: hymenoptera_data/train/ants/2288450226_a6e96e8fdf.jpg  \n",
            "  inflating: hymenoptera_data/train/ants/2288481644_83ff7e4572.jpg  \n",
            "  inflating: hymenoptera_data/train/ants/2292213964_ca51ce4bef.jpg  \n",
            "  inflating: hymenoptera_data/train/ants/24335309_c5ea483bb8.jpg  \n",
            "  inflating: hymenoptera_data/train/ants/245647475_9523dfd13e.jpg  \n",
            "  inflating: hymenoptera_data/train/ants/255434217_1b2b3fe0a4.jpg  \n",
            "  inflating: hymenoptera_data/train/ants/258217966_d9d90d18d3.jpg  \n",
            "  inflating: hymenoptera_data/train/ants/275429470_b2d7d9290b.jpg  \n",
            "  inflating: hymenoptera_data/train/ants/28847243_e79fe052cd.jpg  \n",
            "  inflating: hymenoptera_data/train/ants/318052216_84dff3f98a.jpg  \n",
            "  inflating: hymenoptera_data/train/ants/334167043_cbd1adaeb9.jpg  \n",
            "  inflating: hymenoptera_data/train/ants/339670531_94b75ae47a.jpg  \n",
            "  inflating: hymenoptera_data/train/ants/342438950_a3da61deab.jpg  \n",
            "  inflating: hymenoptera_data/train/ants/36439863_0bec9f554f.jpg  \n",
            "  inflating: hymenoptera_data/train/ants/374435068_7eee412ec4.jpg  \n",
            "  inflating: hymenoptera_data/train/ants/382971067_0bfd33afe0.jpg  \n",
            "  inflating: hymenoptera_data/train/ants/384191229_5779cf591b.jpg  \n",
            "  inflating: hymenoptera_data/train/ants/386190770_672743c9a7.jpg  \n",
            "  inflating: hymenoptera_data/train/ants/392382602_1b7bed32fa.jpg  \n",
            "  inflating: hymenoptera_data/train/ants/403746349_71384f5b58.jpg  \n",
            "  inflating: hymenoptera_data/train/ants/408393566_b5b694119b.jpg  \n",
            "  inflating: hymenoptera_data/train/ants/424119020_6d57481dab.jpg  \n",
            "  inflating: hymenoptera_data/train/ants/424873399_47658a91fb.jpg  \n",
            "  inflating: hymenoptera_data/train/ants/450057712_771b3bfc91.jpg  \n",
            "  inflating: hymenoptera_data/train/ants/45472593_bfd624f8dc.jpg  \n",
            "  inflating: hymenoptera_data/train/ants/459694881_ac657d3187.jpg  \n",
            "  inflating: hymenoptera_data/train/ants/460372577_f2f6a8c9fc.jpg  \n",
            "  inflating: hymenoptera_data/train/ants/460874319_0a45ab4d05.jpg  \n",
            "  inflating: hymenoptera_data/train/ants/466430434_4000737de9.jpg  \n",
            "  inflating: hymenoptera_data/train/ants/470127037_513711fd21.jpg  \n",
            "  inflating: hymenoptera_data/train/ants/474806473_ca6caab245.jpg  \n",
            "  inflating: hymenoptera_data/train/ants/475961153_b8c13fd405.jpg  \n",
            "  inflating: hymenoptera_data/train/ants/484293231_e53cfc0c89.jpg  \n",
            "  inflating: hymenoptera_data/train/ants/49375974_e28ba6f17e.jpg  \n",
            "  inflating: hymenoptera_data/train/ants/506249802_207cd979b4.jpg  \n",
            "  inflating: hymenoptera_data/train/ants/506249836_717b73f540.jpg  \n",
            "  inflating: hymenoptera_data/train/ants/512164029_c0a66b8498.jpg  \n",
            "  inflating: hymenoptera_data/train/ants/512863248_43c8ce579b.jpg  \n",
            "  inflating: hymenoptera_data/train/ants/518773929_734dbc5ff4.jpg  \n",
            "  inflating: hymenoptera_data/train/ants/522163566_fec115ca66.jpg  \n",
            "  inflating: hymenoptera_data/train/ants/522415432_2218f34bf8.jpg  \n",
            "  inflating: hymenoptera_data/train/ants/531979952_bde12b3bc0.jpg  \n",
            "  inflating: hymenoptera_data/train/ants/533848102_70a85ad6dd.jpg  \n",
            "  inflating: hymenoptera_data/train/ants/535522953_308353a07c.jpg  \n",
            "  inflating: hymenoptera_data/train/ants/540889389_48bb588b21.jpg  \n",
            "  inflating: hymenoptera_data/train/ants/541630764_dbd285d63c.jpg  \n",
            "  inflating: hymenoptera_data/train/ants/543417860_b14237f569.jpg  \n",
            "  inflating: hymenoptera_data/train/ants/560966032_988f4d7bc4.jpg  \n",
            "  inflating: hymenoptera_data/train/ants/5650366_e22b7e1065.jpg  \n",
            "  inflating: hymenoptera_data/train/ants/6240329_72c01e663e.jpg  \n",
            "  inflating: hymenoptera_data/train/ants/6240338_93729615ec.jpg  \n",
            "  inflating: hymenoptera_data/train/ants/649026570_e58656104b.jpg  \n",
            "  inflating: hymenoptera_data/train/ants/662541407_ff8db781e7.jpg  \n",
            "  inflating: hymenoptera_data/train/ants/67270775_e9fdf77e9d.jpg  \n",
            "  inflating: hymenoptera_data/train/ants/6743948_2b8c096dda.jpg  \n",
            "  inflating: hymenoptera_data/train/ants/684133190_35b62c0c1d.jpg  \n",
            "  inflating: hymenoptera_data/train/ants/69639610_95e0de17aa.jpg  \n",
            "  inflating: hymenoptera_data/train/ants/707895295_009cf23188.jpg  \n",
            "  inflating: hymenoptera_data/train/ants/7759525_1363d24e88.jpg  \n",
            "  inflating: hymenoptera_data/train/ants/795000156_a9900a4a71.jpg  \n",
            "  inflating: hymenoptera_data/train/ants/822537660_caf4ba5514.jpg  \n",
            "  inflating: hymenoptera_data/train/ants/82852639_52b7f7f5e3.jpg  \n",
            "  inflating: hymenoptera_data/train/ants/841049277_b28e58ad05.jpg  \n",
            "  inflating: hymenoptera_data/train/ants/886401651_f878e888cd.jpg  \n",
            "  inflating: hymenoptera_data/train/ants/892108839_f1aad4ca46.jpg  \n",
            "  inflating: hymenoptera_data/train/ants/938946700_ca1c669085.jpg  \n",
            "  inflating: hymenoptera_data/train/ants/957233405_25c1d1187b.jpg  \n",
            "  inflating: hymenoptera_data/train/ants/9715481_b3cb4114ff.jpg  \n",
            "  inflating: hymenoptera_data/train/ants/998118368_6ac1d91f81.jpg  \n",
            "  inflating: hymenoptera_data/train/ants/ant photos.jpg  \n",
            "  inflating: hymenoptera_data/train/ants/Ant_1.jpg  \n",
            "  inflating: hymenoptera_data/train/ants/army-ants-red-picture.jpg  \n",
            "  inflating: hymenoptera_data/train/ants/formica.jpeg  \n",
            "  inflating: hymenoptera_data/train/ants/hormiga_co_por.jpg  \n",
            "  inflating: hymenoptera_data/train/ants/imageNotFound.gif  \n",
            "  inflating: hymenoptera_data/train/ants/kurokusa.jpg  \n",
            "  inflating: hymenoptera_data/train/ants/MehdiabadiAnt2_600.jpg  \n",
            "  inflating: hymenoptera_data/train/ants/Nepenthes_rafflesiana_ant.jpg  \n",
            "  inflating: hymenoptera_data/train/ants/swiss-army-ant.jpg  \n",
            "  inflating: hymenoptera_data/train/ants/termite-vs-ant.jpg  \n",
            "  inflating: hymenoptera_data/train/ants/trap-jaw-ant-insect-bg.jpg  \n",
            "  inflating: hymenoptera_data/train/ants/VietnameseAntMimicSpider.jpg  \n",
            "  inflating: hymenoptera_data/train/bees/1092977343_cb42b38d62.jpg  \n",
            "  inflating: hymenoptera_data/train/bees/1093831624_fb5fbe2308.jpg  \n",
            "  inflating: hymenoptera_data/train/bees/1097045929_1753d1c765.jpg  \n",
            "  inflating: hymenoptera_data/train/bees/1232245714_f862fbe385.jpg  \n",
            "  inflating: hymenoptera_data/train/bees/129236073_0985e91c7d.jpg  \n",
            "  inflating: hymenoptera_data/train/bees/1295655112_7813f37d21.jpg  \n",
            "  inflating: hymenoptera_data/train/bees/132511197_0b86ad0fff.jpg  \n",
            "  inflating: hymenoptera_data/train/bees/132826773_dbbcb117b9.jpg  \n",
            "  inflating: hymenoptera_data/train/bees/150013791_969d9a968b.jpg  \n",
            "  inflating: hymenoptera_data/train/bees/1508176360_2972117c9d.jpg  \n",
            "  inflating: hymenoptera_data/train/bees/154600396_53e1252e52.jpg  \n",
            "  inflating: hymenoptera_data/train/bees/16838648_415acd9e3f.jpg  \n",
            "  inflating: hymenoptera_data/train/bees/1691282715_0addfdf5e8.jpg  \n",
            "  inflating: hymenoptera_data/train/bees/17209602_fe5a5a746f.jpg  \n",
            "  inflating: hymenoptera_data/train/bees/174142798_e5ad6d76e0.jpg  \n",
            "  inflating: hymenoptera_data/train/bees/1799726602_8580867f71.jpg  \n",
            "  inflating: hymenoptera_data/train/bees/1807583459_4fe92b3133.jpg  \n",
            "  inflating: hymenoptera_data/train/bees/196430254_46bd129ae7.jpg  \n",
            "  inflating: hymenoptera_data/train/bees/196658222_3fffd79c67.jpg  \n",
            "  inflating: hymenoptera_data/train/bees/198508668_97d818b6c4.jpg  \n",
            "  inflating: hymenoptera_data/train/bees/2031225713_50ed499635.jpg  \n",
            "  inflating: hymenoptera_data/train/bees/2037437624_2d7bce461f.jpg  \n",
            "  inflating: hymenoptera_data/train/bees/2053200300_8911ef438a.jpg  \n",
            "  inflating: hymenoptera_data/train/bees/205835650_e6f2614bee.jpg  \n",
            "  inflating: hymenoptera_data/train/bees/208702903_42fb4d9748.jpg  \n",
            "  inflating: hymenoptera_data/train/bees/21399619_3e61e5bb6f.jpg  \n",
            "  inflating: hymenoptera_data/train/bees/2227611847_ec72d40403.jpg  \n",
            "  inflating: hymenoptera_data/train/bees/2321139806_d73d899e66.jpg  \n",
            "  inflating: hymenoptera_data/train/bees/2330918208_8074770c20.jpg  \n",
            "  inflating: hymenoptera_data/train/bees/2345177635_caf07159b3.jpg  \n",
            "  inflating: hymenoptera_data/train/bees/2358061370_9daabbd9ac.jpg  \n",
            "  inflating: hymenoptera_data/train/bees/2364597044_3c3e3fc391.jpg  \n",
            "  inflating: hymenoptera_data/train/bees/2384149906_2cd8b0b699.jpg  \n",
            "  inflating: hymenoptera_data/train/bees/2397446847_04ef3cd3e1.jpg  \n",
            "  inflating: hymenoptera_data/train/bees/2405441001_b06c36fa72.jpg  \n",
            "  inflating: hymenoptera_data/train/bees/2445215254_51698ff797.jpg  \n",
            "  inflating: hymenoptera_data/train/bees/2452236943_255bfd9e58.jpg  \n",
            "  inflating: hymenoptera_data/train/bees/2467959963_a7831e9ff0.jpg  \n",
            "  inflating: hymenoptera_data/train/bees/2470492904_837e97800d.jpg  \n",
            "  inflating: hymenoptera_data/train/bees/2477324698_3d4b1b1cab.jpg  \n",
            "  inflating: hymenoptera_data/train/bees/2477349551_e75c97cf4d.jpg  \n",
            "  inflating: hymenoptera_data/train/bees/2486729079_62df0920be.jpg  \n",
            "  inflating: hymenoptera_data/train/bees/2486746709_c43cec0e42.jpg  \n",
            "  inflating: hymenoptera_data/train/bees/2493379287_4100e1dacc.jpg  \n",
            "  inflating: hymenoptera_data/train/bees/2495722465_879acf9d85.jpg  \n",
            "  inflating: hymenoptera_data/train/bees/2528444139_fa728b0f5b.jpg  \n",
            "  inflating: hymenoptera_data/train/bees/2538361678_9da84b77e3.jpg  \n",
            "  inflating: hymenoptera_data/train/bees/2551813042_8a070aeb2b.jpg  \n",
            "  inflating: hymenoptera_data/train/bees/2580598377_a4caecdb54.jpg  \n",
            "  inflating: hymenoptera_data/train/bees/2601176055_8464e6aa71.jpg  \n",
            "  inflating: hymenoptera_data/train/bees/2610833167_79bf0bcae5.jpg  \n",
            "  inflating: hymenoptera_data/train/bees/2610838525_fe8e3cae47.jpg  \n",
            "  inflating: hymenoptera_data/train/bees/2617161745_fa3ebe85b4.jpg  \n",
            "  inflating: hymenoptera_data/train/bees/2625499656_e3415e374d.jpg  \n",
            "  inflating: hymenoptera_data/train/bees/2634617358_f32fd16bea.jpg  \n",
            "  inflating: hymenoptera_data/train/bees/2638074627_6b3ae746a0.jpg  \n",
            "  inflating: hymenoptera_data/train/bees/2645107662_b73a8595cc.jpg  \n",
            "  inflating: hymenoptera_data/train/bees/2651621464_a2fa8722eb.jpg  \n",
            "  inflating: hymenoptera_data/train/bees/2652877533_a564830cbf.jpg  \n",
            "  inflating: hymenoptera_data/train/bees/266644509_d30bb16a1b.jpg  \n",
            "  inflating: hymenoptera_data/train/bees/2683605182_9d2a0c66cf.jpg  \n",
            "  inflating: hymenoptera_data/train/bees/2704348794_eb5d5178c2.jpg  \n",
            "  inflating: hymenoptera_data/train/bees/2707440199_cd170bd512.jpg  \n",
            "  inflating: hymenoptera_data/train/bees/2710368626_cb42882dc8.jpg  \n",
            "  inflating: hymenoptera_data/train/bees/2722592222_258d473e17.jpg  \n",
            "  inflating: hymenoptera_data/train/bees/2728759455_ce9bb8cd7a.jpg  \n",
            "  inflating: hymenoptera_data/train/bees/2756397428_1d82a08807.jpg  \n",
            "  inflating: hymenoptera_data/train/bees/2765347790_da6cf6cb40.jpg  \n",
            "  inflating: hymenoptera_data/train/bees/2781170484_5d61835d63.jpg  \n",
            "  inflating: hymenoptera_data/train/bees/279113587_b4843db199.jpg  \n",
            "  inflating: hymenoptera_data/train/bees/2792000093_e8ae0718cf.jpg  \n",
            "  inflating: hymenoptera_data/train/bees/2801728106_833798c909.jpg  \n",
            "  inflating: hymenoptera_data/train/bees/2822388965_f6dca2a275.jpg  \n",
            "  inflating: hymenoptera_data/train/bees/2861002136_52c7c6f708.jpg  \n",
            "  inflating: hymenoptera_data/train/bees/2908916142_a7ac8b57a8.jpg  \n",
            "  inflating: hymenoptera_data/train/bees/29494643_e3410f0d37.jpg  \n",
            "  inflating: hymenoptera_data/train/bees/2959730355_416a18c63c.jpg  \n",
            "  inflating: hymenoptera_data/train/bees/2962405283_22718d9617.jpg  \n",
            "  inflating: hymenoptera_data/train/bees/3006264892_30e9cced70.jpg  \n",
            "  inflating: hymenoptera_data/train/bees/3030189811_01d095b793.jpg  \n",
            "  inflating: hymenoptera_data/train/bees/3030772428_8578335616.jpg  \n",
            "  inflating: hymenoptera_data/train/bees/3044402684_3853071a87.jpg  \n",
            "  inflating: hymenoptera_data/train/bees/3074585407_9854eb3153.jpg  \n",
            "  inflating: hymenoptera_data/train/bees/3079610310_ac2d0ae7bc.jpg  \n",
            "  inflating: hymenoptera_data/train/bees/3090975720_71f12e6de4.jpg  \n",
            "  inflating: hymenoptera_data/train/bees/3100226504_c0d4f1e3f1.jpg  \n",
            "  inflating: hymenoptera_data/train/bees/342758693_c56b89b6b6.jpg  \n",
            "  inflating: hymenoptera_data/train/bees/354167719_22dca13752.jpg  \n",
            "  inflating: hymenoptera_data/train/bees/359928878_b3b418c728.jpg  \n",
            "  inflating: hymenoptera_data/train/bees/365759866_b15700c59b.jpg  \n",
            "  inflating: hymenoptera_data/train/bees/36900412_92b81831ad.jpg  \n",
            "  inflating: hymenoptera_data/train/bees/39672681_1302d204d1.jpg  \n",
            "  inflating: hymenoptera_data/train/bees/39747887_42df2855ee.jpg  \n",
            "  inflating: hymenoptera_data/train/bees/421515404_e87569fd8b.jpg  \n",
            "  inflating: hymenoptera_data/train/bees/444532809_9e931e2279.jpg  \n",
            "  inflating: hymenoptera_data/train/bees/446296270_d9e8b93ecf.jpg  \n",
            "  inflating: hymenoptera_data/train/bees/452462677_7be43af8ff.jpg  \n",
            "  inflating: hymenoptera_data/train/bees/452462695_40a4e5b559.jpg  \n",
            "  inflating: hymenoptera_data/train/bees/457457145_5f86eb7e9c.jpg  \n",
            "  inflating: hymenoptera_data/train/bees/465133211_80e0c27f60.jpg  \n",
            "  inflating: hymenoptera_data/train/bees/469333327_358ba8fe8a.jpg  \n",
            "  inflating: hymenoptera_data/train/bees/472288710_2abee16fa0.jpg  \n",
            "  inflating: hymenoptera_data/train/bees/473618094_8ffdcab215.jpg  \n",
            "  inflating: hymenoptera_data/train/bees/476347960_52edd72b06.jpg  \n",
            "  inflating: hymenoptera_data/train/bees/478701318_bbd5e557b8.jpg  \n",
            "  inflating: hymenoptera_data/train/bees/507288830_f46e8d4cb2.jpg  \n",
            "  inflating: hymenoptera_data/train/bees/509247772_2db2d01374.jpg  \n",
            "  inflating: hymenoptera_data/train/bees/513545352_fd3e7c7c5d.jpg  \n",
            "  inflating: hymenoptera_data/train/bees/522104315_5d3cb2758e.jpg  \n",
            "  inflating: hymenoptera_data/train/bees/537309131_532bfa59ea.jpg  \n",
            "  inflating: hymenoptera_data/train/bees/586041248_3032e277a9.jpg  \n",
            "  inflating: hymenoptera_data/train/bees/760526046_547e8b381f.jpg  \n",
            "  inflating: hymenoptera_data/train/bees/760568592_45a52c847f.jpg  \n",
            "  inflating: hymenoptera_data/train/bees/774440991_63a4aa0cbe.jpg  \n",
            "  inflating: hymenoptera_data/train/bees/85112639_6e860b0469.jpg  \n",
            "  inflating: hymenoptera_data/train/bees/873076652_eb098dab2d.jpg  \n",
            "  inflating: hymenoptera_data/train/bees/90179376_abc234e5f4.jpg  \n",
            "  inflating: hymenoptera_data/train/bees/92663402_37f379e57a.jpg  \n",
            "  inflating: hymenoptera_data/train/bees/95238259_98470c5b10.jpg  \n",
            "  inflating: hymenoptera_data/train/bees/969455125_58c797ef17.jpg  \n",
            "  inflating: hymenoptera_data/train/bees/98391118_bdb1e80cce.jpg  \n",
            "  inflating: hymenoptera_data/val/ants/10308379_1b6c72e180.jpg  \n",
            "  inflating: hymenoptera_data/val/ants/1053149811_f62a3410d3.jpg  \n",
            "  inflating: hymenoptera_data/val/ants/1073564163_225a64f170.jpg  \n",
            "  inflating: hymenoptera_data/val/ants/1119630822_cd325ea21a.jpg  \n",
            "  inflating: hymenoptera_data/val/ants/1124525276_816a07c17f.jpg  \n",
            "  inflating: hymenoptera_data/val/ants/11381045_b352a47d8c.jpg  \n",
            "  inflating: hymenoptera_data/val/ants/119785936_dd428e40c3.jpg  \n",
            "  inflating: hymenoptera_data/val/ants/1247887232_edcb61246c.jpg  \n",
            "  inflating: hymenoptera_data/val/ants/1262751255_c56c042b7b.jpg  \n",
            "  inflating: hymenoptera_data/val/ants/1337725712_2eb53cd742.jpg  \n",
            "  inflating: hymenoptera_data/val/ants/1358854066_5ad8015f7f.jpg  \n",
            "  inflating: hymenoptera_data/val/ants/1440002809_b268d9a66a.jpg  \n",
            "  inflating: hymenoptera_data/val/ants/147542264_79506478c2.jpg  \n",
            "  inflating: hymenoptera_data/val/ants/152286280_411648ec27.jpg  \n",
            "  inflating: hymenoptera_data/val/ants/153320619_2aeb5fa0ee.jpg  \n",
            "  inflating: hymenoptera_data/val/ants/153783656_85f9c3ac70.jpg  \n",
            "  inflating: hymenoptera_data/val/ants/157401988_d0564a9d02.jpg  \n",
            "  inflating: hymenoptera_data/val/ants/159515240_d5981e20d1.jpg  \n",
            "  inflating: hymenoptera_data/val/ants/161076144_124db762d6.jpg  \n",
            "  inflating: hymenoptera_data/val/ants/161292361_c16e0bf57a.jpg  \n",
            "  inflating: hymenoptera_data/val/ants/170652283_ecdaff5d1a.jpg  \n",
            "  inflating: hymenoptera_data/val/ants/17081114_79b9a27724.jpg  \n",
            "  inflating: hymenoptera_data/val/ants/172772109_d0a8e15fb0.jpg  \n",
            "  inflating: hymenoptera_data/val/ants/1743840368_b5ccda82b7.jpg  \n",
            "  inflating: hymenoptera_data/val/ants/181942028_961261ef48.jpg  \n",
            "  inflating: hymenoptera_data/val/ants/183260961_64ab754c97.jpg  \n",
            "  inflating: hymenoptera_data/val/ants/2039585088_c6f47c592e.jpg  \n",
            "  inflating: hymenoptera_data/val/ants/205398178_c395c5e460.jpg  \n",
            "  inflating: hymenoptera_data/val/ants/208072188_f293096296.jpg  \n",
            "  inflating: hymenoptera_data/val/ants/209615353_eeb38ba204.jpg  \n",
            "  inflating: hymenoptera_data/val/ants/2104709400_8831b4fc6f.jpg  \n",
            "  inflating: hymenoptera_data/val/ants/212100470_b485e7b7b9.jpg  \n",
            "  inflating: hymenoptera_data/val/ants/2127908701_d49dc83c97.jpg  \n",
            "  inflating: hymenoptera_data/val/ants/2191997003_379df31291.jpg  \n",
            "  inflating: hymenoptera_data/val/ants/2211974567_ee4606b493.jpg  \n",
            "  inflating: hymenoptera_data/val/ants/2219621907_47bc7cc6b0.jpg  \n",
            "  inflating: hymenoptera_data/val/ants/2238242353_52c82441df.jpg  \n",
            "  inflating: hymenoptera_data/val/ants/2255445811_dabcdf7258.jpg  \n",
            "  inflating: hymenoptera_data/val/ants/239161491_86ac23b0a3.jpg  \n",
            "  inflating: hymenoptera_data/val/ants/263615709_cfb28f6b8e.jpg  \n",
            "  inflating: hymenoptera_data/val/ants/308196310_1db5ffa01b.jpg  \n",
            "  inflating: hymenoptera_data/val/ants/319494379_648fb5a1c6.jpg  \n",
            "  inflating: hymenoptera_data/val/ants/35558229_1fa4608a7a.jpg  \n",
            "  inflating: hymenoptera_data/val/ants/412436937_4c2378efc2.jpg  \n",
            "  inflating: hymenoptera_data/val/ants/436944325_d4925a38c7.jpg  \n",
            "  inflating: hymenoptera_data/val/ants/445356866_6cb3289067.jpg  \n",
            "  inflating: hymenoptera_data/val/ants/459442412_412fecf3fe.jpg  \n",
            "  inflating: hymenoptera_data/val/ants/470127071_8b8ee2bd74.jpg  \n",
            "  inflating: hymenoptera_data/val/ants/477437164_bc3e6e594a.jpg  \n",
            "  inflating: hymenoptera_data/val/ants/488272201_c5aa281348.jpg  \n",
            "  inflating: hymenoptera_data/val/ants/502717153_3e4865621a.jpg  \n",
            "  inflating: hymenoptera_data/val/ants/518746016_bcc28f8b5b.jpg  \n",
            "  inflating: hymenoptera_data/val/ants/540543309_ddbb193ee5.jpg  \n",
            "  inflating: hymenoptera_data/val/ants/562589509_7e55469b97.jpg  \n",
            "  inflating: hymenoptera_data/val/ants/57264437_a19006872f.jpg  \n",
            "  inflating: hymenoptera_data/val/ants/573151833_ebbc274b77.jpg  \n",
            "  inflating: hymenoptera_data/val/ants/649407494_9b6bc4949f.jpg  \n",
            "  inflating: hymenoptera_data/val/ants/751649788_78dd7d16ce.jpg  \n",
            "  inflating: hymenoptera_data/val/ants/768870506_8f115d3d37.jpg  \n",
            "  inflating: hymenoptera_data/val/ants/800px-Meat_eater_ant_qeen_excavating_hole.jpg  \n",
            "  inflating: hymenoptera_data/val/ants/8124241_36b290d372.jpg  \n",
            "  inflating: hymenoptera_data/val/ants/8398478_50ef10c47a.jpg  \n",
            "  inflating: hymenoptera_data/val/ants/854534770_31f6156383.jpg  \n",
            "  inflating: hymenoptera_data/val/ants/892676922_4ab37dce07.jpg  \n",
            "  inflating: hymenoptera_data/val/ants/94999827_36895faade.jpg  \n",
            "  inflating: hymenoptera_data/val/ants/Ant-1818.jpg  \n",
            "  inflating: hymenoptera_data/val/ants/ants-devouring-remains-of-large-dead-insect-on-red-tile-in-Stellenbosch-South-Africa-closeup-1-DHD.jpg  \n",
            "  inflating: hymenoptera_data/val/ants/desert_ant.jpg  \n",
            "  inflating: hymenoptera_data/val/ants/F.pergan.28(f).jpg  \n",
            "  inflating: hymenoptera_data/val/ants/Hormiga.jpg  \n",
            "  inflating: hymenoptera_data/val/bees/1032546534_06907fe3b3.jpg  \n",
            "  inflating: hymenoptera_data/val/bees/10870992_eebeeb3a12.jpg  \n",
            "  inflating: hymenoptera_data/val/bees/1181173278_23c36fac71.jpg  \n",
            "  inflating: hymenoptera_data/val/bees/1297972485_33266a18d9.jpg  \n",
            "  inflating: hymenoptera_data/val/bees/1328423762_f7a88a8451.jpg  \n",
            "  inflating: hymenoptera_data/val/bees/1355974687_1341c1face.jpg  \n",
            "  inflating: hymenoptera_data/val/bees/144098310_a4176fd54d.jpg  \n",
            "  inflating: hymenoptera_data/val/bees/1486120850_490388f84b.jpg  \n",
            "  inflating: hymenoptera_data/val/bees/149973093_da3c446268.jpg  \n",
            "  inflating: hymenoptera_data/val/bees/151594775_ee7dc17b60.jpg  \n",
            "  inflating: hymenoptera_data/val/bees/151603988_2c6f7d14c7.jpg  \n",
            "  inflating: hymenoptera_data/val/bees/1519368889_4270261ee3.jpg  \n",
            "  inflating: hymenoptera_data/val/bees/152789693_220b003452.jpg  \n",
            "  inflating: hymenoptera_data/val/bees/177677657_a38c97e572.jpg  \n",
            "  inflating: hymenoptera_data/val/bees/1799729694_0c40101071.jpg  \n",
            "  inflating: hymenoptera_data/val/bees/181171681_c5a1a82ded.jpg  \n",
            "  inflating: hymenoptera_data/val/bees/187130242_4593a4c610.jpg  \n",
            "  inflating: hymenoptera_data/val/bees/203868383_0fcbb48278.jpg  \n",
            "  inflating: hymenoptera_data/val/bees/2060668999_e11edb10d0.jpg  \n",
            "  inflating: hymenoptera_data/val/bees/2086294791_6f3789d8a6.jpg  \n",
            "  inflating: hymenoptera_data/val/bees/2103637821_8d26ee6b90.jpg  \n",
            "  inflating: hymenoptera_data/val/bees/2104135106_a65eede1de.jpg  \n",
            "  inflating: hymenoptera_data/val/bees/215512424_687e1e0821.jpg  \n",
            "  inflating: hymenoptera_data/val/bees/2173503984_9c6aaaa7e2.jpg  \n",
            "  inflating: hymenoptera_data/val/bees/220376539_20567395d8.jpg  \n",
            "  inflating: hymenoptera_data/val/bees/224841383_d050f5f510.jpg  \n",
            "  inflating: hymenoptera_data/val/bees/2321144482_f3785ba7b2.jpg  \n",
            "  inflating: hymenoptera_data/val/bees/238161922_55fa9a76ae.jpg  \n",
            "  inflating: hymenoptera_data/val/bees/2407809945_fb525ef54d.jpg  \n",
            "  inflating: hymenoptera_data/val/bees/2415414155_1916f03b42.jpg  \n",
            "  inflating: hymenoptera_data/val/bees/2438480600_40a1249879.jpg  \n",
            "  inflating: hymenoptera_data/val/bees/2444778727_4b781ac424.jpg  \n",
            "  inflating: hymenoptera_data/val/bees/2457841282_7867f16639.jpg  \n",
            "  inflating: hymenoptera_data/val/bees/2470492902_3572c90f75.jpg  \n",
            "  inflating: hymenoptera_data/val/bees/2478216347_535c8fe6d7.jpg  \n",
            "  inflating: hymenoptera_data/val/bees/2501530886_e20952b97d.jpg  \n",
            "  inflating: hymenoptera_data/val/bees/2506114833_90a41c5267.jpg  \n",
            "  inflating: hymenoptera_data/val/bees/2509402554_31821cb0b6.jpg  \n",
            "  inflating: hymenoptera_data/val/bees/2525379273_dcb26a516d.jpg  \n",
            "  inflating: hymenoptera_data/val/bees/26589803_5ba7000313.jpg  \n",
            "  inflating: hymenoptera_data/val/bees/2668391343_45e272cd07.jpg  \n",
            "  inflating: hymenoptera_data/val/bees/2670536155_c170f49cd0.jpg  \n",
            "  inflating: hymenoptera_data/val/bees/2685605303_9eed79d59d.jpg  \n",
            "  inflating: hymenoptera_data/val/bees/2702408468_d9ed795f4f.jpg  \n",
            "  inflating: hymenoptera_data/val/bees/2709775832_85b4b50a57.jpg  \n",
            "  inflating: hymenoptera_data/val/bees/2717418782_bd83307d9f.jpg  \n",
            "  inflating: hymenoptera_data/val/bees/272986700_d4d4bf8c4b.jpg  \n",
            "  inflating: hymenoptera_data/val/bees/2741763055_9a7bb00802.jpg  \n",
            "  inflating: hymenoptera_data/val/bees/2745389517_250a397f31.jpg  \n",
            "  inflating: hymenoptera_data/val/bees/2751836205_6f7b5eff30.jpg  \n",
            "  inflating: hymenoptera_data/val/bees/2782079948_8d4e94a826.jpg  \n",
            "  inflating: hymenoptera_data/val/bees/2809496124_5f25b5946a.jpg  \n",
            "  inflating: hymenoptera_data/val/bees/2815838190_0a9889d995.jpg  \n",
            "  inflating: hymenoptera_data/val/bees/2841437312_789699c740.jpg  \n",
            "  inflating: hymenoptera_data/val/bees/2883093452_7e3a1eb53f.jpg  \n",
            "  inflating: hymenoptera_data/val/bees/290082189_f66cb80bfc.jpg  \n",
            "  inflating: hymenoptera_data/val/bees/296565463_d07a7bed96.jpg  \n",
            "  inflating: hymenoptera_data/val/bees/3077452620_548c79fda0.jpg  \n",
            "  inflating: hymenoptera_data/val/bees/348291597_ee836fbb1a.jpg  \n",
            "  inflating: hymenoptera_data/val/bees/350436573_41f4ecb6c8.jpg  \n",
            "  inflating: hymenoptera_data/val/bees/353266603_d3eac7e9a0.jpg  \n",
            "  inflating: hymenoptera_data/val/bees/372228424_16da1f8884.jpg  \n",
            "  inflating: hymenoptera_data/val/bees/400262091_701c00031c.jpg  \n",
            "  inflating: hymenoptera_data/val/bees/416144384_961c326481.jpg  \n",
            "  inflating: hymenoptera_data/val/bees/44105569_16720a960c.jpg  \n",
            "  inflating: hymenoptera_data/val/bees/456097971_860949c4fc.jpg  \n",
            "  inflating: hymenoptera_data/val/bees/464594019_1b24a28bb1.jpg  \n",
            "  inflating: hymenoptera_data/val/bees/485743562_d8cc6b8f73.jpg  \n",
            "  inflating: hymenoptera_data/val/bees/540976476_844950623f.jpg  \n",
            "  inflating: hymenoptera_data/val/bees/54736755_c057723f64.jpg  \n",
            "  inflating: hymenoptera_data/val/bees/57459255_752774f1b2.jpg  \n",
            "  inflating: hymenoptera_data/val/bees/576452297_897023f002.jpg  \n",
            "  inflating: hymenoptera_data/val/bees/586474709_ae436da045.jpg  \n",
            "  inflating: hymenoptera_data/val/bees/590318879_68cf112861.jpg  \n",
            "  inflating: hymenoptera_data/val/bees/59798110_2b6a3c8031.jpg  \n",
            "  inflating: hymenoptera_data/val/bees/603709866_a97c7cfc72.jpg  \n",
            "  inflating: hymenoptera_data/val/bees/603711658_4c8cd2201e.jpg  \n",
            "  inflating: hymenoptera_data/val/bees/65038344_52a45d090d.jpg  \n",
            "  inflating: hymenoptera_data/val/bees/6a00d8341c630a53ef00e553d0beb18834-800wi.jpg  \n",
            "  inflating: hymenoptera_data/val/bees/72100438_73de9f17af.jpg  \n",
            "  inflating: hymenoptera_data/val/bees/759745145_e8bc776ec8.jpg  \n",
            "  inflating: hymenoptera_data/val/bees/936182217_c4caa5222d.jpg  \n",
            "  inflating: hymenoptera_data/val/bees/abeja.jpg  \n"
          ],
          "name": "stdout"
        }
      ]
    },
    {
      "cell_type": "code",
      "metadata": {
        "colab_type": "code",
        "id": "1lKZZSUYZV5b",
        "colab": {}
      },
      "source": [
        "# Преобразование обучающих данных для подачи в нейросеть\n",
        "data_transforms = {\n",
        "    'train': transforms.Compose([\n",
        "        transforms.RandomResizedCrop(244),\n",
        "        transforms.RandomHorizontalFlip(),\n",
        "        transforms.ToTensor(),\n",
        "        transforms.Normalize([0.485, 0.456, 0.406], [0.229, 0.224, 0.225])\n",
        "    ]),\n",
        "    'val': transforms.Compose([\n",
        "        transforms.Resize(256),\n",
        "        transforms.CenterCrop(244),\n",
        "        transforms.ToTensor(),\n",
        "        transforms.Normalize([0.485, 0.456, 0.406], [0.229, 0.224, 0.225])\n",
        "    ]),\n",
        "}\n",
        "# Gапка с данными\n",
        "data_dir = './hymenoptera_data'\n",
        "image_datasets = {\n",
        "    x: datasets.ImageFolder(\n",
        "        os.path.join(data_dir, x),\n",
        "        data_transforms[x])\n",
        "    for x in ['train', 'val']\n",
        "}\n",
        "# Cпециальный класс для загрузки данных в виде батчей\n",
        "dataloaders = {\n",
        "    x: torch.utils.data.DataLoader(\n",
        "        image_datasets[x], \n",
        "        batch_size=4,\n",
        "        shuffle=True, \n",
        "        num_workers=4\n",
        "    )\n",
        "    for x in ['train', 'val']\n",
        "}\n",
        "dataset_sizes = {x: len(image_datasets[x]) for x in ['train', 'val']}\n",
        "class_names = image_datasets['train'].classes\n",
        "\n",
        "use_gpu = torch.cuda.is_available()"
      ],
      "execution_count": 5,
      "outputs": []
    },
    {
      "cell_type": "markdown",
      "metadata": {
        "colab_type": "text",
        "id": "03FqarW9ZV5e"
      },
      "source": [
        "Размеры обучающей и валидационной выборок:"
      ]
    },
    {
      "cell_type": "code",
      "metadata": {
        "colab_type": "code",
        "id": "MxjRd-5OZV5f",
        "colab": {
          "base_uri": "https://localhost:8080/",
          "height": 34
        },
        "outputId": "344e706d-9d6e-48bb-e9e1-23fcffa133b7"
      },
      "source": [
        "print(dataset_sizes)"
      ],
      "execution_count": 6,
      "outputs": [
        {
          "output_type": "stream",
          "text": [
            "{'train': 244, 'val': 153}\n"
          ],
          "name": "stdout"
        }
      ]
    },
    {
      "cell_type": "markdown",
      "metadata": {
        "colab_type": "text",
        "id": "vx3QiNAcZV5k"
      },
      "source": [
        "В каждом батче будет по 4 картинки, и мы поставили `shuffle = True`, чтобы генератор выдавал случайные батчи из обучающей выборки.\n",
        "\n",
        "Посмотрим на картинки из датасета:"
      ]
    },
    {
      "cell_type": "code",
      "metadata": {
        "colab_type": "code",
        "id": "wQG2_RrvZV5n",
        "colab": {
          "base_uri": "https://localhost:8080/",
          "height": 202
        },
        "outputId": "492be14c-6d5a-4dd9-d352-d370b9b18584"
      },
      "source": [
        "def imshow(inp, title=None):\n",
        "    inp = inp.numpy().transpose((1, 2, 0))\n",
        "    mean = np.array([0.485, 0.456, 0.406])\n",
        "    std = np.array([0.229, 0.224, 0.225])\n",
        "    inp = std * inp + mean\n",
        "    inp = np.clip(inp, 0, 1)\n",
        "    plt.figure(figsize=(15, 12))\n",
        "    plt.imshow(inp)\n",
        "    if title is not None:\n",
        "        plt.title(title)\n",
        "    plt.pause(0.001)\n",
        "\n",
        "\n",
        "# Получим 1 батч (картнки-метки) из обучающей выборки\n",
        "inputs, classes = next(iter(dataloaders['train']))\n",
        "\n",
        "# Расположим картинки рядом\n",
        "out = torchvision.utils.make_grid(inputs)\n",
        "\n",
        "imshow(out, title=[class_names[x] for x in classes])"
      ],
      "execution_count": 7,
      "outputs": [
        {
          "output_type": "display_data",
          "data": {
            "image/png": "[encoded data removed]",
            "text/plain": [
              "<Figure size 1080x864 with 1 Axes>"
            ]
          },
          "metadata": {
            "tags": [],
            "needs_background": "light"
          }
        }
      ]
    },
    {
      "cell_type": "code",
      "metadata": {
        "colab_type": "code",
        "id": "KqOOeBFpZV6T",
        "colab": {
          "base_uri": "https://localhost:8080/",
          "height": 403
        },
        "outputId": "02951cac-e36c-4436-f37d-43da8755dfe4"
      },
      "source": [
        "for i in dataloaders['train']:\n",
        "    print(i[0][0])\n",
        "    break"
      ],
      "execution_count": 8,
      "outputs": [
        {
          "output_type": "stream",
          "text": [
            "tensor([[[ 1.8208,  1.8379,  1.9064,  ...,  1.4612,  1.4440,  1.4440],\n",
            "         [ 1.7523,  1.7694,  1.8208,  ...,  1.5982,  1.5982,  1.5982],\n",
            "         [ 1.6495,  1.6667,  1.6838,  ...,  1.8037,  1.8208,  1.8379],\n",
            "         ...,\n",
            "         [ 1.0844,  0.8618,  0.3652,  ...,  1.6153,  1.5639,  1.5468],\n",
            "         [ 1.1700,  0.9817,  0.5707,  ...,  1.4440,  1.3755,  1.3413],\n",
            "         [ 1.2214,  1.0673,  0.6906,  ...,  1.3413,  1.2557,  1.2214]],\n",
            "\n",
            "        [[ 1.6583,  1.6933,  1.7808,  ...,  1.6933,  1.7108,  1.7108],\n",
            "         [ 1.6408,  1.6583,  1.7108,  ...,  1.8158,  1.8333,  1.8508],\n",
            "         [ 1.5882,  1.5882,  1.6057,  ...,  2.0084,  2.0434,  2.0609],\n",
            "         ...,\n",
            "         [ 0.5203,  0.2752, -0.3200,  ...,  1.6232,  1.6232,  1.6057],\n",
            "         [ 0.6078,  0.3627, -0.2325,  ...,  1.5182,  1.4482,  1.4132],\n",
            "         [ 0.6604,  0.4153, -0.1625,  ...,  1.4482,  1.3431,  1.2906]],\n",
            "\n",
            "        [[ 1.6291,  1.7163,  1.9428,  ...,  1.3851,  1.3502,  1.3328],\n",
            "         [ 1.4374,  1.5071,  1.6814,  ...,  1.5942,  1.5768,  1.5768],\n",
            "         [ 1.1411,  1.1934,  1.2805,  ...,  1.9428,  1.9603,  1.9603],\n",
            "         ...,\n",
            "         [ 0.2173,  0.1476, -0.0267,  ...,  1.4374,  1.2980,  1.2457],\n",
            "         [ 0.4091,  0.3045,  0.0605,  ...,  1.2457,  1.1934,  1.1759],\n",
            "         [ 0.5311,  0.4091,  0.1302,  ...,  1.1411,  1.1237,  1.1237]]])\n"
          ],
          "name": "stdout"
        }
      ]
    },
    {
      "cell_type": "markdown",
      "metadata": {
        "id": "S5cCydl_wvfR",
        "colab_type": "text"
      },
      "source": [
        "Видим, что после обработки данные в батчах нормализованы (то есть они не от 0 до 255, как это изначально в изображениях)."
      ]
    },
    {
      "cell_type": "markdown",
      "metadata": {
        "colab_type": "text",
        "id": "6exRIPRbSgzS"
      },
      "source": [
        "### Обучение моделей"
      ]
    },
    {
      "cell_type": "markdown",
      "metadata": {
        "colab_type": "text",
        "id": "UzP9AdAwZV5s"
      },
      "source": [
        "Следующая функция будет использоваться для обучения модели. Аргументы:  \n",
        "* model $-$ нейросеть\n",
        "* loss $-$ оптимизируемая функция (criterion, cost function, objective)\n",
        "* optimizer $-$ оптимизационный алгоритм\n",
        "* scheduler $-$ алгоритм изменения learning_rate\n",
        "* num_epochs $-$ количество итераций обучения"
      ]
    },
    {
      "cell_type": "code",
      "metadata": {
        "colab_type": "code",
        "id": "yGD0lrIaZV5u",
        "colab": {}
      },
      "source": [
        "def train_model(model, criterion, optimizer, scheduler, num_epochs=25):\n",
        "    since = time.time()\n",
        "\n",
        "    best_model_wts = model.state_dict()\n",
        "    best_acc = 0.0\n",
        "    \n",
        "    losses = {'train': [], 'val': []}\n",
        "\n",
        "    for epoch in range(num_epochs):\n",
        "        print('Epoch {}/{}'.format(epoch, num_epochs - 1))\n",
        "        print('-' * 10)\n",
        "\n",
        "        # каждя эпоха имеет обучающую и тестовую стадии\n",
        "        for phase in ['train', 'val']:\n",
        "            if phase == 'train':\n",
        "                scheduler.step()\n",
        "                model.train(True)  # установаить модель в режим обучения\n",
        "            else:\n",
        "                model.train(False)  # установить модель в режим предсказания\n",
        "\n",
        "            running_loss = 0.0\n",
        "            running_corrects = 0\n",
        "\n",
        "            # итерируемся по батчам\n",
        "            for data in dataloaders[phase]:\n",
        "                # получаем картинки и метки\n",
        "                inputs, labels = data\n",
        "\n",
        "                # оборачиваем в переменные\n",
        "                if use_gpu:\n",
        "                    inputs = inputs.cuda()\n",
        "                    labels = labels.cuda()\n",
        "                else:\n",
        "                    inputs, labels = inputs, labels\n",
        "\n",
        "                # инициализируем градиенты параметров\n",
        "                optimizer.zero_grad()\n",
        "\n",
        "                # forward pass\n",
        "                outputs = model(inputs)\n",
        "                _, preds = torch.max(outputs.data, 1)\n",
        "                loss = criterion(outputs, labels)\n",
        "\n",
        "                # backward pass + оптимизируем только если это стадия обучения\n",
        "                if phase == 'train':\n",
        "                    loss.backward()\n",
        "                    optimizer.step()\n",
        "\n",
        "                # статистика\n",
        "                running_loss += loss.item()\n",
        "                running_corrects += int(torch.sum(preds == labels.data))\n",
        "\n",
        "            epoch_loss = running_loss / dataset_sizes[phase]\n",
        "            epoch_acc = running_corrects / dataset_sizes[phase]\n",
        "            \n",
        "            losses[phase].append(epoch_loss)\n",
        "            \n",
        "            print('{} Loss: {:.4f} Acc: {:.4f}'.format(\n",
        "                phase, epoch_loss, epoch_acc))\n",
        "\n",
        "            # если достиглось лучшее качество, то запомним веса модели\n",
        "            if phase == 'val' and epoch_acc > best_acc:\n",
        "                best_acc = epoch_acc\n",
        "                best_model_wts = model.state_dict()\n",
        "\n",
        "        print()\n",
        "\n",
        "    time_elapsed = time.time() - since\n",
        "    print('Training complete in {:.0f}m {:.0f}s'.format(\n",
        "        time_elapsed // 60, time_elapsed % 60))\n",
        "    print('Best val Acc: {:4f}'.format(best_acc))\n",
        "\n",
        "    # загрузим лучшие веса модели\n",
        "    model.load_state_dict(best_model_wts)\n",
        "    return model, losses"
      ],
      "execution_count": 9,
      "outputs": []
    },
    {
      "cell_type": "markdown",
      "metadata": {
        "colab_type": "text",
        "id": "7VsQHae5ZV5x"
      },
      "source": [
        "Функция для отрисовки тестовых изображений и предсказаний для них:"
      ]
    },
    {
      "cell_type": "code",
      "metadata": {
        "colab_type": "code",
        "id": "Pyth5M_FZV5y",
        "colab": {}
      },
      "source": [
        "def visualize_model(model, num_images=6):\n",
        "    images_so_far = 0\n",
        "    fig = plt.figure()\n",
        "\n",
        "    for i, data in enumerate(dataloaders['val']):\n",
        "        inputs, labels = data\n",
        "        if use_gpu:\n",
        "            inputs, labels = Variable(inputs.cuda()), Variable(labels.cuda())\n",
        "        else:\n",
        "            inputs, labels = Variable(inputs), Variable(labels)\n",
        "\n",
        "        outputs = model(inputs)\n",
        "        _, preds = torch.max(outputs.data, 1)\n",
        "\n",
        "        for j in range(inputs.size()[0]):\n",
        "            images_so_far += 1\n",
        "            ax = plt.subplot(num_images // 2, 2, images_so_far)\n",
        "            ax.axis('off')\n",
        "            ax.set_title('predicted: {}'.format(class_names[preds[j]]))\n",
        "            imshow(inputs.cpu().data[j])\n",
        "\n",
        "            if images_so_far == num_images:\n",
        "                return"
      ],
      "execution_count": 10,
      "outputs": []
    },
    {
      "cell_type": "markdown",
      "metadata": {
        "colab_type": "text",
        "id": "h6G4XJbmSgz_"
      },
      "source": [
        "Функция для измерения точности модели на валидационном датасете"
      ]
    },
    {
      "cell_type": "code",
      "metadata": {
        "colab_type": "code",
        "id": "qAzhvxyASg0F",
        "colab": {}
      },
      "source": [
        "def evaluate(model):\n",
        "    model.train(False)\n",
        "    \n",
        "    runninig_correct = 0\n",
        "    for data in dataloaders['val']:\n",
        "        # получаем картинки и метки\n",
        "        inputs, labels = data\n",
        "        \n",
        "        # переносим на GPU, если возможно\n",
        "        if use_gpu:\n",
        "            inputs = inputs.cuda()\n",
        "            labels = labels.cuda()\n",
        "            \n",
        "        # forward pass\n",
        "        output = model(inputs)\n",
        "        _, predicted = torch.max(output, 1)\n",
        "        \n",
        "        runninig_correct += int(torch.sum(predicted == labels))\n",
        "        \n",
        "    return runninig_correct / dataset_sizes['val']"
      ],
      "execution_count": 11,
      "outputs": []
    },
    {
      "cell_type": "markdown",
      "metadata": {
        "colab_type": "text",
        "id": "kNCYHC8oZV53"
      },
      "source": [
        "Для каждой из следующих нейросетей:\n",
        "* **AlexNet**\n",
        "* **VGG16**\n",
        "* **GoogleNet (Inception)**\n",
        "\n",
        "Напишем код и выведем результат (график лосса, accuracy и вывод примера классификации картинок с визуализацией) для двух способов: **Feature Extractor** и **Fine Tuning** нейросети."
      ]
    },
    {
      "cell_type": "markdown",
      "metadata": {
        "colab_type": "text",
        "id": "8XzWmgE7ZV54"
      },
      "source": [
        "### AlexNet"
      ]
    },
    {
      "cell_type": "markdown",
      "metadata": {
        "colab_type": "text",
        "id": "FmLx0a_uZV56"
      },
      "source": [
        "Загрузка модели:"
      ]
    },
    {
      "cell_type": "code",
      "metadata": {
        "colab_type": "code",
        "id": "1mHbrvXAZV57",
        "colab": {}
      },
      "source": [
        "model = models.alexnet(pretrained=True)"
      ],
      "execution_count": 12,
      "outputs": []
    },
    {
      "cell_type": "markdown",
      "metadata": {
        "colab_type": "text",
        "id": "W_g9XqLsZV5-"
      },
      "source": [
        "Посмотрим, что внутри:"
      ]
    },
    {
      "cell_type": "code",
      "metadata": {
        "colab_type": "code",
        "id": "N-OLqslsZV6A",
        "colab": {
          "base_uri": "https://localhost:8080/",
          "height": 490
        },
        "outputId": "4fed821b-3bdd-4d57-c0ed-6b82a8ecd0fb"
      },
      "source": [
        "model"
      ],
      "execution_count": 13,
      "outputs": [
        {
          "output_type": "execute_result",
          "data": {
            "text/plain": [
              "AlexNet(\n",
              "  (features): Sequential(\n",
              "    (0): Conv2d(3, 64, kernel_size=(11, 11), stride=(4, 4), padding=(2, 2))\n",
              "    (1): ReLU(inplace=True)\n",
              "    (2): MaxPool2d(kernel_size=3, stride=2, padding=0, dilation=1, ceil_mode=False)\n",
              "    (3): Conv2d(64, 192, kernel_size=(5, 5), stride=(1, 1), padding=(2, 2))\n",
              "    (4): ReLU(inplace=True)\n",
              "    (5): MaxPool2d(kernel_size=3, stride=2, padding=0, dilation=1, ceil_mode=False)\n",
              "    (6): Conv2d(192, 384, kernel_size=(3, 3), stride=(1, 1), padding=(1, 1))\n",
              "    (7): ReLU(inplace=True)\n",
              "    (8): Conv2d(384, 256, kernel_size=(3, 3), stride=(1, 1), padding=(1, 1))\n",
              "    (9): ReLU(inplace=True)\n",
              "    (10): Conv2d(256, 256, kernel_size=(3, 3), stride=(1, 1), padding=(1, 1))\n",
              "    (11): ReLU(inplace=True)\n",
              "    (12): MaxPool2d(kernel_size=3, stride=2, padding=0, dilation=1, ceil_mode=False)\n",
              "  )\n",
              "  (avgpool): AdaptiveAvgPool2d(output_size=(6, 6))\n",
              "  (classifier): Sequential(\n",
              "    (0): Dropout(p=0.5, inplace=False)\n",
              "    (1): Linear(in_features=9216, out_features=4096, bias=True)\n",
              "    (2): ReLU(inplace=True)\n",
              "    (3): Dropout(p=0.5, inplace=False)\n",
              "    (4): Linear(in_features=4096, out_features=4096, bias=True)\n",
              "    (5): ReLU(inplace=True)\n",
              "    (6): Linear(in_features=4096, out_features=1000, bias=True)\n",
              "  )\n",
              ")"
            ]
          },
          "metadata": {
            "tags": []
          },
          "execution_count": 13
        }
      ]
    },
    {
      "cell_type": "markdown",
      "metadata": {
        "colab_type": "text",
        "id": "O9LYMESWZV6E"
      },
      "source": [
        "Видим, что на вход классификатору (classifier) подаётся *9216 признаков*. Это и будет размер входа для нашего нового классификатора."
      ]
    },
    {
      "cell_type": "markdown",
      "metadata": {
        "colab_type": "text",
        "id": "FA5qB523ZV6G"
      },
      "source": [
        "* **Fine Tuning** способ"
      ]
    },
    {
      "cell_type": "markdown",
      "metadata": {
        "id": "QJmGNkoBOTTT",
        "colab_type": "text"
      },
      "source": [
        "Убедимся, что по-умолчанию все слои \"разморожены\", то есть будут обучаться:"
      ]
    },
    {
      "cell_type": "code",
      "metadata": {
        "id": "1azCzBf_OBQc",
        "colab_type": "code",
        "colab": {
          "base_uri": "https://localhost:8080/",
          "height": 286
        },
        "outputId": "0c183f05-f78e-48c4-d311-3d2b804510d8"
      },
      "source": [
        "for i, param in enumerate(model.parameters()):\n",
        "    print(f'Parameter {i}: {param.requires_grad}')"
      ],
      "execution_count": 14,
      "outputs": [
        {
          "output_type": "stream",
          "text": [
            "Parameter 0: True\n",
            "Parameter 1: True\n",
            "Parameter 2: True\n",
            "Parameter 3: True\n",
            "Parameter 4: True\n",
            "Parameter 5: True\n",
            "Parameter 6: True\n",
            "Parameter 7: True\n",
            "Parameter 8: True\n",
            "Parameter 9: True\n",
            "Parameter 10: True\n",
            "Parameter 11: True\n",
            "Parameter 12: True\n",
            "Parameter 13: True\n",
            "Parameter 14: True\n",
            "Parameter 15: True\n"
          ],
          "name": "stdout"
        }
      ]
    },
    {
      "cell_type": "markdown",
      "metadata": {
        "colab_type": "text",
        "id": "6JKPZYgVZV6J"
      },
      "source": [
        "(*по умолчанию backpropagation распространяется на все слои, поэтому здесь мы только заменяем FC-слой на свой классификатор*)"
      ]
    },
    {
      "cell_type": "code",
      "metadata": {
        "colab_type": "code",
        "id": "ppIGmkz4ZV6K",
        "colab": {}
      },
      "source": [
        "# num_features -- это размерность вектора фич, поступающего на вход FC-слою\n",
        "num_features = 9216\n",
        "# Заменяем Fully-Connected слой на наш линейный классификатор\n",
        "model.classifier = nn.Linear(num_features, 2)\n",
        "\n",
        "# Использовать ли GPU\n",
        "if use_gpu:\n",
        "    model = model.cuda()\n",
        "\n",
        "# В качестве cost function используем кросс-энтропию\n",
        "loss_fn = nn.CrossEntropyLoss()\n",
        "\n",
        "# В качестве оптимизатора - стохастический градиентный спуск\n",
        "optimizer = optim.SGD(model.parameters(), lr=0.001, momentum=0.9)\n",
        "\n",
        "# Умножает learning_rate на 0.1 каждые 7 эпох (это одна из эвристик, не было на лекциях)\n",
        "exp_lr_scheduler = lr_scheduler.StepLR(optimizer, step_size=7, gamma=0.1)"
      ],
      "execution_count": 15,
      "outputs": []
    },
    {
      "cell_type": "code",
      "metadata": {
        "colab_type": "code",
        "id": "DXDZK7JVZV6X",
        "scrolled": true,
        "colab": {
          "base_uri": "https://localhost:8080/",
          "height": 1000
        },
        "outputId": "87d47eee-d5a9-484c-99f1-a4ff9bcbc5cc"
      },
      "source": [
        "model, losses = train_model(model, loss_fn, optimizer, exp_lr_scheduler, num_epochs=25)"
      ],
      "execution_count": 16,
      "outputs": [
        {
          "output_type": "stream",
          "text": [
            "Epoch 0/24\n",
            "----------\n"
          ],
          "name": "stdout"
        },
        {
          "output_type": "stream",
          "text": [
            "/usr/local/lib/python3.6/dist-packages/torch/optim/lr_scheduler.py:123: UserWarning: Detected call of `lr_scheduler.step()` before `optimizer.step()`. In PyTorch 1.1.0 and later, you should call them in the opposite order: `optimizer.step()` before `lr_scheduler.step()`.  Failure to do this will result in PyTorch skipping the first value of the learning rate schedule. See more details at https://pytorch.org/docs/stable/optim.html#how-to-adjust-learning-rate\n",
            "  \"https://pytorch.org/docs/stable/optim.html#how-to-adjust-learning-rate\", UserWarning)\n"
          ],
          "name": "stderr"
        },
        {
          "output_type": "stream",
          "text": [
            "train Loss: 0.3285 Acc: 0.5533\n",
            "val Loss: 0.1751 Acc: 0.4771\n",
            "\n",
            "Epoch 1/24\n",
            "----------\n",
            "train Loss: 0.1720 Acc: 0.4959\n",
            "val Loss: 0.1784 Acc: 0.5098\n",
            "\n",
            "Epoch 2/24\n",
            "----------\n",
            "train Loss: 0.1726 Acc: 0.5533\n",
            "val Loss: 0.1777 Acc: 0.5229\n",
            "\n",
            "Epoch 3/24\n",
            "----------\n",
            "train Loss: 0.1697 Acc: 0.5615\n",
            "val Loss: 0.1759 Acc: 0.5033\n",
            "\n",
            "Epoch 4/24\n",
            "----------\n",
            "train Loss: 0.1691 Acc: 0.5164\n",
            "val Loss: 0.1769 Acc: 0.4967\n",
            "\n",
            "Epoch 5/24\n",
            "----------\n",
            "train Loss: 0.1737 Acc: 0.5861\n",
            "val Loss: 0.1774 Acc: 0.4837\n",
            "\n",
            "Epoch 6/24\n",
            "----------\n",
            "train Loss: 0.1690 Acc: 0.5287\n",
            "val Loss: 0.1777 Acc: 0.4837\n",
            "\n",
            "Epoch 7/24\n",
            "----------\n",
            "train Loss: 0.1704 Acc: 0.5328\n",
            "val Loss: 0.1775 Acc: 0.4771\n",
            "\n",
            "Epoch 8/24\n",
            "----------\n",
            "train Loss: 0.1706 Acc: 0.5287\n",
            "val Loss: 0.1774 Acc: 0.4837\n",
            "\n",
            "Epoch 9/24\n",
            "----------\n",
            "train Loss: 0.1680 Acc: 0.5574\n",
            "val Loss: 0.1772 Acc: 0.4902\n",
            "\n",
            "Epoch 10/24\n",
            "----------\n",
            "train Loss: 0.1686 Acc: 0.5533\n",
            "val Loss: 0.1763 Acc: 0.4967\n",
            "\n",
            "Epoch 11/24\n",
            "----------\n",
            "train Loss: 0.1681 Acc: 0.5615\n",
            "val Loss: 0.1760 Acc: 0.4967\n",
            "\n",
            "Epoch 12/24\n",
            "----------\n",
            "train Loss: 0.1688 Acc: 0.5369\n",
            "val Loss: 0.1761 Acc: 0.4967\n",
            "\n",
            "Epoch 13/24\n",
            "----------\n",
            "train Loss: 0.1669 Acc: 0.5369\n",
            "val Loss: 0.1759 Acc: 0.4967\n",
            "\n",
            "Epoch 14/24\n",
            "----------\n",
            "train Loss: 0.1687 Acc: 0.5533\n",
            "val Loss: 0.1761 Acc: 0.4967\n",
            "\n",
            "Epoch 15/24\n",
            "----------\n",
            "train Loss: 0.1644 Acc: 0.5656\n",
            "val Loss: 0.1736 Acc: 0.4967\n",
            "\n",
            "Epoch 16/24\n",
            "----------\n",
            "train Loss: 0.1662 Acc: 0.5533\n",
            "val Loss: 0.1761 Acc: 0.5033\n",
            "\n",
            "Epoch 17/24\n",
            "----------\n",
            "train Loss: 0.1673 Acc: 0.5451\n",
            "val Loss: 0.1761 Acc: 0.5033\n",
            "\n",
            "Epoch 18/24\n",
            "----------\n",
            "train Loss: 0.1649 Acc: 0.5697\n",
            "val Loss: 0.1759 Acc: 0.5033\n",
            "\n",
            "Epoch 19/24\n",
            "----------\n",
            "train Loss: 0.1661 Acc: 0.5697\n",
            "val Loss: 0.1760 Acc: 0.5033\n",
            "\n",
            "Epoch 20/24\n",
            "----------\n",
            "train Loss: 0.1665 Acc: 0.5492\n",
            "val Loss: 0.1760 Acc: 0.5033\n",
            "\n",
            "Epoch 21/24\n",
            "----------\n",
            "train Loss: 0.1668 Acc: 0.5615\n",
            "val Loss: 0.1760 Acc: 0.5033\n",
            "\n",
            "Epoch 22/24\n",
            "----------\n",
            "train Loss: 0.1652 Acc: 0.5615\n",
            "val Loss: 0.1727 Acc: 0.5033\n",
            "\n",
            "Epoch 23/24\n",
            "----------\n",
            "train Loss: 0.1670 Acc: 0.5492\n",
            "val Loss: 0.1758 Acc: 0.5033\n",
            "\n",
            "Epoch 24/24\n",
            "----------\n",
            "train Loss: 0.1686 Acc: 0.5451\n",
            "val Loss: 0.1754 Acc: 0.5033\n",
            "\n",
            "Training complete in 1m 34s\n",
            "Best val Acc: 0.522876\n"
          ],
          "name": "stdout"
        }
      ]
    },
    {
      "cell_type": "code",
      "metadata": {
        "colab_type": "code",
        "id": "_MsDT40aSg1n",
        "colab": {
          "base_uri": "https://localhost:8080/",
          "height": 382
        },
        "outputId": "81bd365a-41a5-45a5-9389-78eb4021a90e"
      },
      "source": [
        "# Построим график лосса при обучении и валидации\n",
        "figure = plt.figure(figsize=(12, 7))\n",
        "plt.xlabel('epoch')\n",
        "plt.ylabel('loss')\n",
        "plt.plot(losses['train'], label='train')\n",
        "plt.plot(losses['val'], label='val')\n",
        "plt.legend();"
      ],
      "execution_count": 17,
      "outputs": [
        {
          "output_type": "display_data",
          "data": {
            "image/png": "[encoded data removed]",
            "text/plain": [
              "<Figure size 864x504 with 1 Axes>"
            ]
          },
          "metadata": {
            "tags": [],
            "needs_background": "light"
          }
        }
      ]
    },
    {
      "cell_type": "markdown",
      "metadata": {
        "id": "MfDrZp8HwvgV",
        "colab_type": "text"
      },
      "source": [
        "#### Сохраним веса модели -- в PyTorch это делается так:"
      ]
    },
    {
      "cell_type": "code",
      "metadata": {
        "colab_type": "code",
        "id": "dNd48MpZSg12",
        "colab": {}
      },
      "source": [
        "torch.save(model.state_dict(), 'AlexNet_fine_tune.pth')"
      ],
      "execution_count": 18,
      "outputs": []
    },
    {
      "cell_type": "markdown",
      "metadata": {
        "id": "BKF6y7ULwvgX",
        "colab_type": "text"
      },
      "source": [
        "#### Загрузим веса модели:"
      ]
    },
    {
      "cell_type": "code",
      "metadata": {
        "colab_type": "code",
        "id": "BxIMaFmZSg19",
        "colab": {
          "base_uri": "https://localhost:8080/",
          "height": 34
        },
        "outputId": "10dedcd7-6971-4cbd-b634-841644375fab"
      },
      "source": [
        "model.load_state_dict(torch.load('AlexNet_fine_tune.pth'))"
      ],
      "execution_count": 19,
      "outputs": [
        {
          "output_type": "execute_result",
          "data": {
            "text/plain": [
              "<All keys matched successfully>"
            ]
          },
          "metadata": {
            "tags": []
          },
          "execution_count": 19
        }
      ]
    },
    {
      "cell_type": "markdown",
      "metadata": {
        "id": "Q5_np1ZUwvgc",
        "colab_type": "text"
      },
      "source": [
        "#### Оценим модель на тесте (валидации):"
      ]
    },
    {
      "cell_type": "code",
      "metadata": {
        "colab_type": "code",
        "id": "cVrjg7P9Sg2E",
        "scrolled": false,
        "colab": {
          "base_uri": "https://localhost:8080/",
          "height": 34
        },
        "outputId": "1f006839-4d23-4ab9-eaf7-faa05a5ef2e3"
      },
      "source": [
        "print(\"Accuracy: {0:.4f}\".format(evaluate(model)))"
      ],
      "execution_count": 20,
      "outputs": [
        {
          "output_type": "stream",
          "text": [
            "Accuracy: 0.5033\n"
          ],
          "name": "stdout"
        }
      ]
    },
    {
      "cell_type": "markdown",
      "metadata": {
        "colab_type": "text",
        "id": "3wy3MHj1ZV6d"
      },
      "source": [
        "Видим, что Fine Tuning AlexNet'а не дал хороших результатов, поскольку качество получается низким. Посмотрим, как будет с AlexNet в роли Feature Extractor'а."
      ]
    },
    {
      "cell_type": "markdown",
      "metadata": {
        "colab_type": "text",
        "id": "vyM6SLNZZV6g"
      },
      "source": [
        "* **Feature Extractor** способ:"
      ]
    },
    {
      "cell_type": "code",
      "metadata": {
        "colab_type": "code",
        "id": "81XVFTJiZV6h",
        "colab": {}
      },
      "source": [
        "model_extractor = models.alexnet(pretrained=True)"
      ],
      "execution_count": 21,
      "outputs": []
    },
    {
      "cell_type": "markdown",
      "metadata": {
        "colab_type": "text",
        "id": "6XUzgLSlZV6m"
      },
      "source": [
        "Помним, что по-умолчанию все слои нейросети обучаются заново:"
      ]
    },
    {
      "cell_type": "code",
      "metadata": {
        "colab_type": "code",
        "id": "8kiGUDNqZV6n",
        "colab": {
          "base_uri": "https://localhost:8080/",
          "height": 286
        },
        "outputId": "108fab21-a7e3-47f6-efc4-985870374811"
      },
      "source": [
        "for i, param in enumerate(model_extractor.parameters()):\n",
        "    print(f'Parameter {i}: {param.requires_grad}')"
      ],
      "execution_count": 22,
      "outputs": [
        {
          "output_type": "stream",
          "text": [
            "Parameter 0: True\n",
            "Parameter 1: True\n",
            "Parameter 2: True\n",
            "Parameter 3: True\n",
            "Parameter 4: True\n",
            "Parameter 5: True\n",
            "Parameter 6: True\n",
            "Parameter 7: True\n",
            "Parameter 8: True\n",
            "Parameter 9: True\n",
            "Parameter 10: True\n",
            "Parameter 11: True\n",
            "Parameter 12: True\n",
            "Parameter 13: True\n",
            "Parameter 14: True\n",
            "Parameter 15: True\n"
          ],
          "name": "stdout"
        }
      ]
    },
    {
      "cell_type": "markdown",
      "metadata": {
        "colab_type": "text",
        "id": "qOTXa28JZV6s"
      },
      "source": [
        "Сделаем так, чтобы на них не распространялся backpropagation (то есть **заморозим их**), и подменим классификатор (ведь старый все еще с весами для ImageNet'а):"
      ]
    },
    {
      "cell_type": "code",
      "metadata": {
        "colab_type": "code",
        "id": "K7rW4vKaZV6u",
        "colab": {}
      },
      "source": [
        "# замораживаем параметры (веса)\n",
        "for param in model_extractor.parameters():\n",
        "    param.requires_grad = False\n",
        "\n",
        "# num_features -- это размерность вектора фич, поступающего на вход FC-слою\n",
        "num_features = 9216\n",
        "# Заменяем Fully-Connected слой на наш линейный классификатор\n",
        "model_extractor.classifier = nn.Linear(num_features, 2)\n",
        "\n",
        "# Использовать ли GPU\n",
        "if use_gpu:\n",
        "    model_extractor = model_extractor.cuda()\n",
        "\n",
        "# В качестве cost function используем кросс-энтропию\n",
        "loss_fn = nn.CrossEntropyLoss()\n",
        "\n",
        "# Обучаем только классификатор\n",
        "optimizer = optim.SGD(model_extractor.classifier.parameters(), lr=0.001, momentum=0.9)\n",
        "\n",
        "# Умножает learning_rate на 0.1 каждые 7 эпох (это одна из эвристик, не было на лекциях)\n",
        "exp_lr_scheduler = lr_scheduler.StepLR(optimizer, step_size=7, gamma=0.1)"
      ],
      "execution_count": 23,
      "outputs": []
    },
    {
      "cell_type": "code",
      "metadata": {
        "colab_type": "code",
        "id": "bVL7TjRIZV6z",
        "colab": {
          "base_uri": "https://localhost:8080/",
          "height": 1000
        },
        "outputId": "f89f2bf3-ef9a-433e-d61e-4704d64e83da"
      },
      "source": [
        "%%time\n",
        "model_extractor,losses = train_model(model_extractor, loss_fn, optimizer, exp_lr_scheduler, num_epochs=25)"
      ],
      "execution_count": 24,
      "outputs": [
        {
          "output_type": "stream",
          "text": [
            "Epoch 0/24\n",
            "----------\n"
          ],
          "name": "stdout"
        },
        {
          "output_type": "stream",
          "text": [
            "/usr/local/lib/python3.6/dist-packages/torch/optim/lr_scheduler.py:123: UserWarning: Detected call of `lr_scheduler.step()` before `optimizer.step()`. In PyTorch 1.1.0 and later, you should call them in the opposite order: `optimizer.step()` before `lr_scheduler.step()`.  Failure to do this will result in PyTorch skipping the first value of the learning rate schedule. See more details at https://pytorch.org/docs/stable/optim.html#how-to-adjust-learning-rate\n",
            "  \"https://pytorch.org/docs/stable/optim.html#how-to-adjust-learning-rate\", UserWarning)\n"
          ],
          "name": "stderr"
        },
        {
          "output_type": "stream",
          "text": [
            "train Loss: 1.2009 Acc: 0.7131\n",
            "val Loss: 1.3694 Acc: 0.8301\n",
            "\n",
            "Epoch 1/24\n",
            "----------\n",
            "train Loss: 1.1248 Acc: 0.7951\n",
            "val Loss: 0.9376 Acc: 0.8497\n",
            "\n",
            "Epoch 2/24\n",
            "----------\n",
            "train Loss: 0.7392 Acc: 0.8607\n",
            "val Loss: 1.1854 Acc: 0.8824\n",
            "\n",
            "Epoch 3/24\n",
            "----------\n",
            "train Loss: 0.9095 Acc: 0.8238\n",
            "val Loss: 1.0841 Acc: 0.9020\n",
            "\n",
            "Epoch 4/24\n",
            "----------\n",
            "train Loss: 0.7094 Acc: 0.8607\n",
            "val Loss: 1.4092 Acc: 0.8824\n",
            "\n",
            "Epoch 5/24\n",
            "----------\n",
            "train Loss: 1.0273 Acc: 0.8566\n",
            "val Loss: 1.1805 Acc: 0.9020\n",
            "\n",
            "Epoch 6/24\n",
            "----------\n",
            "train Loss: 0.5151 Acc: 0.8934\n",
            "val Loss: 0.9929 Acc: 0.9085\n",
            "\n",
            "Epoch 7/24\n",
            "----------\n",
            "train Loss: 0.2816 Acc: 0.9344\n",
            "val Loss: 0.9432 Acc: 0.9150\n",
            "\n",
            "Epoch 8/24\n",
            "----------\n",
            "train Loss: 0.2372 Acc: 0.9467\n",
            "val Loss: 0.9244 Acc: 0.9150\n",
            "\n",
            "Epoch 9/24\n",
            "----------\n",
            "train Loss: 0.5503 Acc: 0.9139\n",
            "val Loss: 0.9370 Acc: 0.9085\n",
            "\n",
            "Epoch 10/24\n",
            "----------\n",
            "train Loss: 0.5089 Acc: 0.9016\n",
            "val Loss: 0.9323 Acc: 0.9085\n",
            "\n",
            "Epoch 11/24\n",
            "----------\n",
            "train Loss: 0.3787 Acc: 0.9180\n",
            "val Loss: 0.9359 Acc: 0.9020\n",
            "\n",
            "Epoch 12/24\n",
            "----------\n",
            "train Loss: 0.2650 Acc: 0.9508\n",
            "val Loss: 0.9265 Acc: 0.9085\n",
            "\n",
            "Epoch 13/24\n",
            "----------\n",
            "train Loss: 0.3984 Acc: 0.9057\n",
            "val Loss: 0.9294 Acc: 0.9085\n",
            "\n",
            "Epoch 14/24\n",
            "----------\n",
            "train Loss: 0.1822 Acc: 0.9549\n",
            "val Loss: 0.9286 Acc: 0.9085\n",
            "\n",
            "Epoch 15/24\n",
            "----------\n",
            "train Loss: 0.3522 Acc: 0.9016\n",
            "val Loss: 0.9312 Acc: 0.9150\n",
            "\n",
            "Epoch 16/24\n",
            "----------\n",
            "train Loss: 0.4067 Acc: 0.9180\n",
            "val Loss: 0.9379 Acc: 0.9150\n",
            "\n",
            "Epoch 17/24\n",
            "----------\n",
            "train Loss: 0.2862 Acc: 0.9385\n",
            "val Loss: 0.9402 Acc: 0.9150\n",
            "\n",
            "Epoch 18/24\n",
            "----------\n",
            "train Loss: 0.3587 Acc: 0.9262\n",
            "val Loss: 0.9409 Acc: 0.9085\n",
            "\n",
            "Epoch 19/24\n",
            "----------\n",
            "train Loss: 0.2788 Acc: 0.9262\n",
            "val Loss: 0.9373 Acc: 0.9085\n",
            "\n",
            "Epoch 20/24\n",
            "----------\n",
            "train Loss: 0.3011 Acc: 0.9098\n",
            "val Loss: 0.9371 Acc: 0.9085\n",
            "\n",
            "Epoch 21/24\n",
            "----------\n",
            "train Loss: 0.2739 Acc: 0.9180\n",
            "val Loss: 0.9372 Acc: 0.9085\n",
            "\n",
            "Epoch 22/24\n",
            "----------\n",
            "train Loss: 0.3516 Acc: 0.9262\n",
            "val Loss: 0.9371 Acc: 0.9085\n",
            "\n",
            "Epoch 23/24\n",
            "----------\n",
            "train Loss: 0.3432 Acc: 0.9303\n",
            "val Loss: 0.9372 Acc: 0.9085\n",
            "\n",
            "Epoch 24/24\n",
            "----------\n",
            "train Loss: 0.3975 Acc: 0.9098\n",
            "val Loss: 0.9375 Acc: 0.9085\n",
            "\n",
            "Training complete in 1m 31s\n",
            "Best val Acc: 0.915033\n",
            "CPU times: user 14.4 s, sys: 10 s, total: 24.4 s\n",
            "Wall time: 1min 31s\n"
          ],
          "name": "stdout"
        }
      ]
    },
    {
      "cell_type": "code",
      "metadata": {
        "id": "P5iWX-g_s28J",
        "colab_type": "code",
        "colab": {}
      },
      "source": [
        ""
      ],
      "execution_count": 24,
      "outputs": []
    },
    {
      "cell_type": "code",
      "metadata": {
        "colab_type": "code",
        "id": "kEgi8b1Ys4MB",
        "colab": {
          "base_uri": "https://localhost:8080/",
          "height": 388
        },
        "outputId": "ad115c96-b9eb-44eb-c95e-c45fd5939364"
      },
      "source": [
        "# Построим график лосса при обучении и валидации\n",
        "figure = plt.figure(figsize=(12, 7))\n",
        "plt.xlabel('epoch')\n",
        "plt.ylabel('loss')\n",
        "plt.plot(losses['train'], label='train')\n",
        "plt.plot(losses['val'], label='val')\n",
        "plt.legend();"
      ],
      "execution_count": 25,
      "outputs": [
        {
          "output_type": "display_data",
          "data": {
            "image/png": "[encoded data removed]",
            "text/plain": [
              "<Figure size 864x504 with 1 Axes>"
            ]
          },
          "metadata": {
            "tags": [],
            "needs_background": "light"
          }
        }
      ]
    },
    {
      "cell_type": "code",
      "metadata": {
        "colab_type": "code",
        "id": "cxasz-cDSg2y",
        "colab": {}
      },
      "source": [
        "torch.save(model_extractor.state_dict(), 'AlexNet_extractor.pth')"
      ],
      "execution_count": 26,
      "outputs": []
    },
    {
      "cell_type": "code",
      "metadata": {
        "colab_type": "code",
        "id": "_G64zxDwSg25",
        "colab": {
          "base_uri": "https://localhost:8080/",
          "height": 34
        },
        "outputId": "0362d234-0660-42ca-b981-f865c212e82f"
      },
      "source": [
        "model_extractor.load_state_dict(torch.load('AlexNet_extractor.pth'))"
      ],
      "execution_count": 27,
      "outputs": [
        {
          "output_type": "execute_result",
          "data": {
            "text/plain": [
              "<All keys matched successfully>"
            ]
          },
          "metadata": {
            "tags": []
          },
          "execution_count": 27
        }
      ]
    },
    {
      "cell_type": "code",
      "metadata": {
        "colab_type": "code",
        "id": "0k4y9e9pSg3T",
        "scrolled": false,
        "colab": {
          "base_uri": "https://localhost:8080/",
          "height": 34
        },
        "outputId": "31e1c753-1ad7-4790-f3e0-ed630716990f"
      },
      "source": [
        "print(\"Accuracy: {0:.4f}\".format(evaluate(model_extractor)))"
      ],
      "execution_count": 28,
      "outputs": [
        {
          "output_type": "stream",
          "text": [
            "Accuracy: 0.9085\n"
          ],
          "name": "stdout"
        }
      ]
    },
    {
      "cell_type": "markdown",
      "metadata": {
        "colab_type": "text",
        "id": "_5Tn3EAXZV66"
      },
      "source": [
        "Видим, что качество намного лучше: ~90%."
      ]
    },
    {
      "cell_type": "markdown",
      "metadata": {
        "colab_type": "text",
        "id": "RmehLHv9Sg3d"
      },
      "source": [
        "* **Смешанный** способ:\n",
        "Мы будем обучать не только последний **fully connected** слой, но и несколько предпоследних"
      ]
    },
    {
      "cell_type": "code",
      "metadata": {
        "colab_type": "code",
        "id": "NAcI23-OSg3e",
        "colab": {}
      },
      "source": [
        "model_mixed = models.alexnet(pretrained=True)"
      ],
      "execution_count": 29,
      "outputs": []
    },
    {
      "cell_type": "code",
      "metadata": {
        "colab_type": "code",
        "id": "TG7n2z9bSg3h",
        "colab": {}
      },
      "source": [
        "layers_to_unfreeze = 5\n",
        "\n",
        "# Выключаем подсчет градиентов для слоев, которые не будем обучать\n",
        "for param in model_mixed.features[:-layers_to_unfreeze].parameters():\n",
        "    param.requires_grad = False\n",
        "    \n",
        "# num_features -- это размерность вектора фич, поступающего на вход FC-слою\n",
        "num_features = 9216\n",
        "# Заменяем Fully-Connected слой на наш линейный классификатор\n",
        "model_mixed.classifier = nn.Linear(num_features, 2)\n",
        "\n",
        "# Использовать ли GPU\n",
        "if use_gpu:\n",
        "    model_mixed = model_mixed.cuda()\n",
        "\n",
        "# В качестве cost function используем кросс-энтропию\n",
        "loss_fn = nn.CrossEntropyLoss()\n",
        "\n",
        "# Обучаем последние layers_to_unfreeze слоев из сверточной части и fully connected слой \n",
        "# parameters() возвращает просто список тензоров парамтеров, поэтому два таких списка можно сложить\n",
        "optimizer = optim.SGD(list(model_mixed.features.parameters())[-layers_to_unfreeze:] + \n",
        "                      list(model_mixed.classifier.parameters()), lr=0.001, momentum=0.9)\n",
        "\n",
        "# Умножает learning_rate на 0.1 каждые 7 эпох (это одна из эвристик, не было на лекциях)\n",
        "exp_lr_scheduler = lr_scheduler.StepLR(optimizer, step_size=7, gamma=0.1)"
      ],
      "execution_count": 30,
      "outputs": []
    },
    {
      "cell_type": "code",
      "metadata": {
        "colab_type": "code",
        "id": "908lTwBoSg3n",
        "scrolled": true,
        "colab": {
          "base_uri": "https://localhost:8080/",
          "height": 1000
        },
        "outputId": "74090f27-8865-4719-908a-b80830c29c83"
      },
      "source": [
        "%%time\n",
        "_, losses = train_model(model_mixed, loss_fn, optimizer, exp_lr_scheduler, num_epochs=25)"
      ],
      "execution_count": 31,
      "outputs": [
        {
          "output_type": "stream",
          "text": [
            "Epoch 0/24\n",
            "----------\n"
          ],
          "name": "stdout"
        },
        {
          "output_type": "stream",
          "text": [
            "/usr/local/lib/python3.6/dist-packages/torch/optim/lr_scheduler.py:123: UserWarning: Detected call of `lr_scheduler.step()` before `optimizer.step()`. In PyTorch 1.1.0 and later, you should call them in the opposite order: `optimizer.step()` before `lr_scheduler.step()`.  Failure to do this will result in PyTorch skipping the first value of the learning rate schedule. See more details at https://pytorch.org/docs/stable/optim.html#how-to-adjust-learning-rate\n",
            "  \"https://pytorch.org/docs/stable/optim.html#how-to-adjust-learning-rate\", UserWarning)\n"
          ],
          "name": "stderr"
        },
        {
          "output_type": "stream",
          "text": [
            "train Loss: 0.3526 Acc: 0.7541\n",
            "val Loss: 0.1859 Acc: 0.8105\n",
            "\n",
            "Epoch 1/24\n",
            "----------\n",
            "train Loss: 0.1366 Acc: 0.7705\n",
            "val Loss: 0.1050 Acc: 0.8235\n",
            "\n",
            "Epoch 2/24\n",
            "----------\n",
            "train Loss: 0.0977 Acc: 0.8197\n",
            "val Loss: 0.1771 Acc: 0.8170\n",
            "\n",
            "Epoch 3/24\n",
            "----------\n",
            "train Loss: 0.1567 Acc: 0.8156\n",
            "val Loss: 0.1283 Acc: 0.7516\n",
            "\n",
            "Epoch 4/24\n",
            "----------\n",
            "train Loss: 0.0854 Acc: 0.8648\n",
            "val Loss: 0.1421 Acc: 0.8627\n",
            "\n",
            "Epoch 5/24\n",
            "----------\n",
            "train Loss: 0.0878 Acc: 0.8443\n",
            "val Loss: 0.1384 Acc: 0.8235\n",
            "\n",
            "Epoch 6/24\n",
            "----------\n",
            "train Loss: 0.0823 Acc: 0.8607\n",
            "val Loss: 0.1369 Acc: 0.8366\n",
            "\n",
            "Epoch 7/24\n",
            "----------\n",
            "train Loss: 0.0637 Acc: 0.8689\n",
            "val Loss: 0.1069 Acc: 0.8562\n",
            "\n",
            "Epoch 8/24\n",
            "----------\n",
            "train Loss: 0.0564 Acc: 0.9180\n",
            "val Loss: 0.1042 Acc: 0.8627\n",
            "\n",
            "Epoch 9/24\n",
            "----------\n",
            "train Loss: 0.0576 Acc: 0.9139\n",
            "val Loss: 0.1026 Acc: 0.8693\n",
            "\n",
            "Epoch 10/24\n",
            "----------\n",
            "train Loss: 0.0449 Acc: 0.9221\n",
            "val Loss: 0.1012 Acc: 0.8824\n",
            "\n",
            "Epoch 11/24\n",
            "----------\n",
            "train Loss: 0.0494 Acc: 0.9221\n",
            "val Loss: 0.1026 Acc: 0.8824\n",
            "\n",
            "Epoch 12/24\n",
            "----------\n",
            "train Loss: 0.0350 Acc: 0.9426\n",
            "val Loss: 0.1037 Acc: 0.9020\n",
            "\n",
            "Epoch 13/24\n",
            "----------\n",
            "train Loss: 0.0428 Acc: 0.9385\n",
            "val Loss: 0.1036 Acc: 0.9020\n",
            "\n",
            "Epoch 14/24\n",
            "----------\n",
            "train Loss: 0.0407 Acc: 0.9262\n",
            "val Loss: 0.1041 Acc: 0.9020\n",
            "\n",
            "Epoch 15/24\n",
            "----------\n",
            "train Loss: 0.0566 Acc: 0.8934\n",
            "val Loss: 0.1060 Acc: 0.8954\n",
            "\n",
            "Epoch 16/24\n",
            "----------\n",
            "train Loss: 0.0311 Acc: 0.9467\n",
            "val Loss: 0.1044 Acc: 0.8954\n",
            "\n",
            "Epoch 17/24\n",
            "----------\n",
            "train Loss: 0.0330 Acc: 0.9549\n",
            "val Loss: 0.1048 Acc: 0.9020\n",
            "\n",
            "Epoch 18/24\n",
            "----------\n",
            "train Loss: 0.0373 Acc: 0.9467\n",
            "val Loss: 0.1052 Acc: 0.9020\n",
            "\n",
            "Epoch 19/24\n",
            "----------\n",
            "train Loss: 0.0491 Acc: 0.8975\n",
            "val Loss: 0.1238 Acc: 0.8954\n",
            "\n",
            "Epoch 20/24\n",
            "----------\n",
            "train Loss: 0.0381 Acc: 0.9467\n",
            "val Loss: 0.1057 Acc: 0.8954\n",
            "\n",
            "Epoch 21/24\n",
            "----------\n",
            "train Loss: 0.0461 Acc: 0.9221\n",
            "val Loss: 0.1075 Acc: 0.8954\n",
            "\n",
            "Epoch 22/24\n",
            "----------\n",
            "train Loss: 0.0356 Acc: 0.9549\n",
            "val Loss: 0.1058 Acc: 0.8954\n",
            "\n",
            "Epoch 23/24\n",
            "----------\n",
            "train Loss: 0.0365 Acc: 0.9303\n",
            "val Loss: 0.1061 Acc: 0.8954\n",
            "\n",
            "Epoch 24/24\n",
            "----------\n",
            "train Loss: 0.0445 Acc: 0.9385\n",
            "val Loss: 0.1059 Acc: 0.8954\n",
            "\n",
            "Training complete in 1m 34s\n",
            "Best val Acc: 0.901961\n",
            "CPU times: user 18.5 s, sys: 10.9 s, total: 29.4 s\n",
            "Wall time: 1min 33s\n"
          ],
          "name": "stdout"
        }
      ]
    },
    {
      "cell_type": "code",
      "metadata": {
        "id": "ekVYbwRUqpSV",
        "colab_type": "code",
        "colab": {
          "base_uri": "https://localhost:8080/",
          "height": 391
        },
        "outputId": "5dd4370c-49e2-4ea5-81c9-a536434c5c1f"
      },
      "source": [
        "# Построим график лосса при обучении и валидации\n",
        "figure = plt.figure(figsize=(12, 7))\n",
        "plt.xlabel('epoch')\n",
        "plt.ylabel('loss')\n",
        "plt.ylim([0, 0.5])\n",
        "plt.plot(losses['train'], label='train')\n",
        "plt.plot(losses['val'], label='val')\n",
        "plt.legend();"
      ],
      "execution_count": 32,
      "outputs": [
        {
          "output_type": "display_data",
          "data": {
            "image/png": "[encoded data removed]",
            "text/plain": [
              "<Figure size 864x504 with 1 Axes>"
            ]
          },
          "metadata": {
            "tags": [],
            "needs_background": "light"
          }
        }
      ]
    },
    {
      "cell_type": "code",
      "metadata": {
        "colab_type": "code",
        "id": "shvL3HAESg31",
        "colab": {}
      },
      "source": [
        "torch.save(model_mixed.state_dict(), 'AlexNet_mixed.pth')"
      ],
      "execution_count": 33,
      "outputs": []
    },
    {
      "cell_type": "code",
      "metadata": {
        "colab_type": "code",
        "id": "v_QtOxJcSg3-",
        "colab": {
          "base_uri": "https://localhost:8080/",
          "height": 34
        },
        "outputId": "3e69ebc3-32e8-4898-8e36-de8e693592a4"
      },
      "source": [
        "model_mixed.load_state_dict(torch.load('AlexNet_mixed.pth'))"
      ],
      "execution_count": 34,
      "outputs": [
        {
          "output_type": "execute_result",
          "data": {
            "text/plain": [
              "<All keys matched successfully>"
            ]
          },
          "metadata": {
            "tags": []
          },
          "execution_count": 34
        }
      ]
    },
    {
      "cell_type": "code",
      "metadata": {
        "colab_type": "code",
        "id": "mSJH-k5_Sg4R",
        "scrolled": false,
        "colab": {
          "base_uri": "https://localhost:8080/",
          "height": 34
        },
        "outputId": "7389cbb6-4e49-4d6d-8d0a-5e987ac99829"
      },
      "source": [
        "print(\"Accuracy: {0:.4f}\".format(evaluate(model_mixed)))"
      ],
      "execution_count": 35,
      "outputs": [
        {
          "output_type": "stream",
          "text": [
            "Accuracy: 0.8954\n"
          ],
          "name": "stdout"
        }
      ]
    },
    {
      "cell_type": "markdown",
      "metadata": {
        "id": "Rkz5huhYPxr_",
        "colab_type": "text"
      },
      "source": [
        "Как видим, результат чуть-чуть ухудшился. Как Вы думаете, почему полный или частичный Fine Tuning в данном случае ухудшает качество работы нейросети?"
      ]
    },
    {
      "cell_type": "markdown",
      "metadata": {
        "id": "Y00t-z2u1hDO",
        "colab_type": "text"
      },
      "source": [
        "---"
      ]
    },
    {
      "cell_type": "markdown",
      "metadata": {
        "colab_type": "text",
        "id": "90JYIt39ZV7W"
      },
      "source": [
        "### Более современные нейросети (10 баллов)"
      ]
    },
    {
      "cell_type": "markdown",
      "metadata": {
        "id": "GgSFY_ovQDK8",
        "colab_type": "text"
      },
      "source": [
        "Теперь Вам предлагается **самостоятельно** сделать Fine Tuning и Transfer Learning для моделей VGG и Inception.\n",
        "\n",
        "**Суммарно можно получить 10 баллов**."
      ]
    },
    {
      "cell_type": "markdown",
      "metadata": {
        "colab_type": "text",
        "id": "YLb_VQ-nZV7Y"
      },
      "source": [
        "### VGG16 (2 + 2 = 4 балла)"
      ]
    },
    {
      "cell_type": "markdown",
      "metadata": {
        "id": "fm2PDcxqRX1r",
        "colab_type": "text"
      },
      "source": [
        "Здесь все будет аналогично AlexNet, только большее количество слоев:"
      ]
    },
    {
      "cell_type": "code",
      "metadata": {
        "id": "8UGkdOwrRclx",
        "colab_type": "code",
        "colab": {}
      },
      "source": [
        "model = models.vgg16(pretrained=True)"
      ],
      "execution_count": 36,
      "outputs": []
    },
    {
      "cell_type": "code",
      "metadata": {
        "id": "TcnzdbElRejK",
        "colab_type": "code",
        "colab": {
          "base_uri": "https://localhost:8080/",
          "height": 793
        },
        "outputId": "288dc550-db6a-4101-f070-01ad746776e3"
      },
      "source": [
        "model"
      ],
      "execution_count": 37,
      "outputs": [
        {
          "output_type": "execute_result",
          "data": {
            "text/plain": [
              "VGG(\n",
              "  (features): Sequential(\n",
              "    (0): Conv2d(3, 64, kernel_size=(3, 3), stride=(1, 1), padding=(1, 1))\n",
              "    (1): ReLU(inplace=True)\n",
              "    (2): Conv2d(64, 64, kernel_size=(3, 3), stride=(1, 1), padding=(1, 1))\n",
              "    (3): ReLU(inplace=True)\n",
              "    (4): MaxPool2d(kernel_size=2, stride=2, padding=0, dilation=1, ceil_mode=False)\n",
              "    (5): Conv2d(64, 128, kernel_size=(3, 3), stride=(1, 1), padding=(1, 1))\n",
              "    (6): ReLU(inplace=True)\n",
              "    (7): Conv2d(128, 128, kernel_size=(3, 3), stride=(1, 1), padding=(1, 1))\n",
              "    (8): ReLU(inplace=True)\n",
              "    (9): MaxPool2d(kernel_size=2, stride=2, padding=0, dilation=1, ceil_mode=False)\n",
              "    (10): Conv2d(128, 256, kernel_size=(3, 3), stride=(1, 1), padding=(1, 1))\n",
              "    (11): ReLU(inplace=True)\n",
              "    (12): Conv2d(256, 256, kernel_size=(3, 3), stride=(1, 1), padding=(1, 1))\n",
              "    (13): ReLU(inplace=True)\n",
              "    (14): Conv2d(256, 256, kernel_size=(3, 3), stride=(1, 1), padding=(1, 1))\n",
              "    (15): ReLU(inplace=True)\n",
              "    (16): MaxPool2d(kernel_size=2, stride=2, padding=0, dilation=1, ceil_mode=False)\n",
              "    (17): Conv2d(256, 512, kernel_size=(3, 3), stride=(1, 1), padding=(1, 1))\n",
              "    (18): ReLU(inplace=True)\n",
              "    (19): Conv2d(512, 512, kernel_size=(3, 3), stride=(1, 1), padding=(1, 1))\n",
              "    (20): ReLU(inplace=True)\n",
              "    (21): Conv2d(512, 512, kernel_size=(3, 3), stride=(1, 1), padding=(1, 1))\n",
              "    (22): ReLU(inplace=True)\n",
              "    (23): MaxPool2d(kernel_size=2, stride=2, padding=0, dilation=1, ceil_mode=False)\n",
              "    (24): Conv2d(512, 512, kernel_size=(3, 3), stride=(1, 1), padding=(1, 1))\n",
              "    (25): ReLU(inplace=True)\n",
              "    (26): Conv2d(512, 512, kernel_size=(3, 3), stride=(1, 1), padding=(1, 1))\n",
              "    (27): ReLU(inplace=True)\n",
              "    (28): Conv2d(512, 512, kernel_size=(3, 3), stride=(1, 1), padding=(1, 1))\n",
              "    (29): ReLU(inplace=True)\n",
              "    (30): MaxPool2d(kernel_size=2, stride=2, padding=0, dilation=1, ceil_mode=False)\n",
              "  )\n",
              "  (avgpool): AdaptiveAvgPool2d(output_size=(7, 7))\n",
              "  (classifier): Sequential(\n",
              "    (0): Linear(in_features=25088, out_features=4096, bias=True)\n",
              "    (1): ReLU(inplace=True)\n",
              "    (2): Dropout(p=0.5, inplace=False)\n",
              "    (3): Linear(in_features=4096, out_features=4096, bias=True)\n",
              "    (4): ReLU(inplace=True)\n",
              "    (5): Dropout(p=0.5, inplace=False)\n",
              "    (6): Linear(in_features=4096, out_features=1000, bias=True)\n",
              "  )\n",
              ")"
            ]
          },
          "metadata": {
            "tags": []
          },
          "execution_count": 37
        }
      ]
    },
    {
      "cell_type": "markdown",
      "metadata": {
        "id": "Q3fVhbi4Rf42",
        "colab_type": "text"
      },
      "source": [
        "* **Fine Tuning** способ (2 балла):"
      ]
    },
    {
      "cell_type": "code",
      "metadata": {
        "colab_type": "code",
        "id": "HrmyWuu-ZV7Z",
        "colab": {}
      },
      "source": [
        "# num_features -- это размерность вектора фич, поступающего на вход FC-слою\n",
        "num_features = 25088\n",
        "# Заменяем Fully-Connected слой на наш линейный классификатор\n",
        "model.classifier = nn.Linear(num_features, 2)\n",
        "\n",
        "# Использовать ли GPU\n",
        "if use_gpu:\n",
        "    model = model.cuda()\n",
        "\n",
        "# В качестве cost function используем кросс-энтропию\n",
        "loss_fn = nn.CrossEntropyLoss()\n",
        "\n",
        "# В качестве оптимизатора - стохастический градиентный спуск\n",
        "optimizer = optim.SGD(model.parameters(), lr=0.001, momentum=0.9)\n",
        "\n",
        "# Умножает learning_rate на 0.1 каждые 7 эпох (это одна из эвристик, не было на лекциях)\n",
        "exp_lr_scheduler = lr_scheduler.StepLR(optimizer, step_size=7, gamma=0.1)"
      ],
      "execution_count": 38,
      "outputs": []
    },
    {
      "cell_type": "code",
      "metadata": {
        "colab_type": "code",
        "id": "5b72ftgCSg44",
        "scrolled": true,
        "colab": {
          "base_uri": "https://localhost:8080/",
          "height": 1000
        },
        "outputId": "1d9f8dc6-1606-41ca-e89c-987f3f517f81"
      },
      "source": [
        "# Запустим обучение\n",
        "model, losses = train_model(model, loss_fn, optimizer, exp_lr_scheduler, num_epochs=25)"
      ],
      "execution_count": 39,
      "outputs": [
        {
          "output_type": "stream",
          "text": [
            "Epoch 0/24\n",
            "----------\n"
          ],
          "name": "stdout"
        },
        {
          "output_type": "stream",
          "text": [
            "/usr/local/lib/python3.6/dist-packages/torch/optim/lr_scheduler.py:123: UserWarning: Detected call of `lr_scheduler.step()` before `optimizer.step()`. In PyTorch 1.1.0 and later, you should call them in the opposite order: `optimizer.step()` before `lr_scheduler.step()`.  Failure to do this will result in PyTorch skipping the first value of the learning rate schedule. See more details at https://pytorch.org/docs/stable/optim.html#how-to-adjust-learning-rate\n",
            "  \"https://pytorch.org/docs/stable/optim.html#how-to-adjust-learning-rate\", UserWarning)\n"
          ],
          "name": "stderr"
        },
        {
          "output_type": "stream",
          "text": [
            "train Loss: 0.2094 Acc: 0.5738\n",
            "val Loss: 0.1628 Acc: 0.6275\n",
            "\n",
            "Epoch 1/24\n",
            "----------\n",
            "train Loss: 0.1666 Acc: 0.6107\n",
            "val Loss: 0.1505 Acc: 0.7190\n",
            "\n",
            "Epoch 2/24\n",
            "----------\n",
            "train Loss: 0.1468 Acc: 0.7049\n",
            "val Loss: 0.1092 Acc: 0.8301\n",
            "\n",
            "Epoch 3/24\n",
            "----------\n",
            "train Loss: 0.1663 Acc: 0.6557\n",
            "val Loss: 0.1247 Acc: 0.7582\n",
            "\n",
            "Epoch 4/24\n",
            "----------\n",
            "train Loss: 0.1344 Acc: 0.7500\n",
            "val Loss: 0.1253 Acc: 0.7974\n",
            "\n",
            "Epoch 5/24\n",
            "----------\n",
            "train Loss: 0.1288 Acc: 0.7705\n",
            "val Loss: 0.1063 Acc: 0.8366\n",
            "\n",
            "Epoch 6/24\n",
            "----------\n",
            "train Loss: 0.1056 Acc: 0.8033\n",
            "val Loss: 0.0856 Acc: 0.8627\n",
            "\n",
            "Epoch 7/24\n",
            "----------\n",
            "train Loss: 0.0699 Acc: 0.8811\n",
            "val Loss: 0.0802 Acc: 0.8824\n",
            "\n",
            "Epoch 8/24\n",
            "----------\n",
            "train Loss: 0.0671 Acc: 0.8893\n",
            "val Loss: 0.0807 Acc: 0.8758\n",
            "\n",
            "Epoch 9/24\n",
            "----------\n",
            "train Loss: 0.0542 Acc: 0.9016\n",
            "val Loss: 0.0787 Acc: 0.9150\n",
            "\n",
            "Epoch 10/24\n",
            "----------\n",
            "train Loss: 0.0554 Acc: 0.9098\n",
            "val Loss: 0.0820 Acc: 0.8824\n",
            "\n",
            "Epoch 11/24\n",
            "----------\n",
            "train Loss: 0.0602 Acc: 0.8852\n",
            "val Loss: 0.0739 Acc: 0.9150\n",
            "\n",
            "Epoch 12/24\n",
            "----------\n",
            "train Loss: 0.0343 Acc: 0.9467\n",
            "val Loss: 0.0763 Acc: 0.9216\n",
            "\n",
            "Epoch 13/24\n",
            "----------\n",
            "train Loss: 0.0442 Acc: 0.9139\n",
            "val Loss: 0.0762 Acc: 0.9216\n",
            "\n",
            "Epoch 14/24\n",
            "----------\n",
            "train Loss: 0.0414 Acc: 0.9303\n",
            "val Loss: 0.0773 Acc: 0.9216\n",
            "\n",
            "Epoch 15/24\n",
            "----------\n",
            "train Loss: 0.0353 Acc: 0.9508\n",
            "val Loss: 0.0778 Acc: 0.9216\n",
            "\n",
            "Epoch 16/24\n",
            "----------\n",
            "train Loss: 0.0341 Acc: 0.9508\n",
            "val Loss: 0.0788 Acc: 0.9216\n",
            "\n",
            "Epoch 17/24\n",
            "----------\n",
            "train Loss: 0.0339 Acc: 0.9590\n",
            "val Loss: 0.0791 Acc: 0.9216\n",
            "\n",
            "Epoch 18/24\n",
            "----------\n",
            "train Loss: 0.0293 Acc: 0.9631\n",
            "val Loss: 0.0791 Acc: 0.9216\n",
            "\n",
            "Epoch 19/24\n",
            "----------\n",
            "train Loss: 0.0422 Acc: 0.9385\n",
            "val Loss: 0.0804 Acc: 0.9216\n",
            "\n",
            "Epoch 20/24\n",
            "----------\n",
            "train Loss: 0.0383 Acc: 0.9385\n",
            "val Loss: 0.0802 Acc: 0.9216\n",
            "\n",
            "Epoch 21/24\n",
            "----------\n",
            "train Loss: 0.0329 Acc: 0.9631\n",
            "val Loss: 0.0803 Acc: 0.9216\n",
            "\n",
            "Epoch 22/24\n",
            "----------\n",
            "train Loss: 0.0381 Acc: 0.9221\n",
            "val Loss: 0.0804 Acc: 0.9216\n",
            "\n",
            "Epoch 23/24\n",
            "----------\n",
            "train Loss: 0.0337 Acc: 0.9590\n",
            "val Loss: 0.0805 Acc: 0.9216\n",
            "\n",
            "Epoch 24/24\n",
            "----------\n",
            "train Loss: 0.0383 Acc: 0.9467\n",
            "val Loss: 0.0805 Acc: 0.9216\n",
            "\n",
            "Training complete in 9m 18s\n",
            "Best val Acc: 0.921569\n"
          ],
          "name": "stdout"
        }
      ]
    },
    {
      "cell_type": "code",
      "metadata": {
        "id": "g_lOXWuZ5Of1",
        "colab_type": "code",
        "colab": {
          "base_uri": "https://localhost:8080/",
          "height": 391
        },
        "outputId": "6ba16c05-a969-4be7-8c6b-5bf6f7216f22"
      },
      "source": [
        "figure = plt.figure(figsize=(12, 7))\n",
        "plt.xlabel('epoch')\n",
        "plt.ylabel('loss')\n",
        "plt.ylim([0, 0.5])\n",
        "plt.plot(losses['train'], label='train')\n",
        "plt.plot(losses['val'], label='val')\n",
        "plt.legend();"
      ],
      "execution_count": 40,
      "outputs": [
        {
          "output_type": "display_data",
          "data": {
            "image/png": "[encoded data removed]",
            "text/plain": [
              "<Figure size 864x504 with 1 Axes>"
            ]
          },
          "metadata": {
            "tags": [],
            "needs_background": "light"
          }
        }
      ]
    },
    {
      "cell_type": "code",
      "metadata": {
        "colab_type": "code",
        "id": "WrPonofMSg5A",
        "colab": {}
      },
      "source": [
        "torch.save(model.state_dict(), 'VGG16.pth')"
      ],
      "execution_count": 41,
      "outputs": []
    },
    {
      "cell_type": "code",
      "metadata": {
        "colab_type": "code",
        "id": "gJj2lAIoSg5H",
        "colab": {
          "base_uri": "https://localhost:8080/",
          "height": 34
        },
        "outputId": "9982dc68-1331-4e67-9ef8-dc1519ec909b"
      },
      "source": [
        "model.load_state_dict(torch.load('VGG16.pth'))"
      ],
      "execution_count": 42,
      "outputs": [
        {
          "output_type": "execute_result",
          "data": {
            "text/plain": [
              "<All keys matched successfully>"
            ]
          },
          "metadata": {
            "tags": []
          },
          "execution_count": 42
        }
      ]
    },
    {
      "cell_type": "code",
      "metadata": {
        "colab_type": "code",
        "id": "Z4miOmC9Sg5M",
        "scrolled": true,
        "colab": {
          "base_uri": "https://localhost:8080/",
          "height": 34
        },
        "outputId": "b0081c33-f335-4e70-f0a6-d3a6af34ec58"
      },
      "source": [
        "print(\"Accuracy: {0:.4f}\".format(evaluate(model)))"
      ],
      "execution_count": 43,
      "outputs": [
        {
          "output_type": "stream",
          "text": [
            "Accuracy: 0.9216\n"
          ],
          "name": "stdout"
        }
      ]
    },
    {
      "cell_type": "markdown",
      "metadata": {
        "id": "9JEh4X-PVOC1",
        "colab_type": "text"
      },
      "source": [
        "* **Feature Extractor** способ (2 балла):"
      ]
    },
    {
      "cell_type": "code",
      "metadata": {
        "id": "e_tQNIXvA85I",
        "colab_type": "code",
        "colab": {}
      },
      "source": [
        "model_extractor = models.vgg16(pretrained=True)"
      ],
      "execution_count": 44,
      "outputs": []
    },
    {
      "cell_type": "code",
      "metadata": {
        "colab_type": "code",
        "id": "oi_SPDT3AMX9",
        "colab": {}
      },
      "source": [
        "# замораживаем параметры (веса)\n",
        "for param in model_extractor.parameters():\n",
        "    param.requires_grad = False\n",
        "\n",
        "# num_features -- это размерность вектора фич, поступающего на вход FC-слою\n",
        "num_features = 25088\n",
        "# Заменяем Fully-Connected слой на наш линейный классификатор\n",
        "model_extractor.classifier = nn.Linear(num_features, 2)\n",
        "\n",
        "# Использовать ли GPU\n",
        "if use_gpu:\n",
        "    model_extractor = model_extractor.cuda()\n",
        "\n",
        "# В качестве cost function используем кросс-энтропию\n",
        "loss_fn = nn.CrossEntropyLoss()\n",
        "\n",
        "# Обучаем только классификатор\n",
        "optimizer = optim.SGD(model_extractor.classifier.parameters(), lr=0.001, momentum=0.9)\n",
        "\n",
        "# Умножает learning_rate на 0.1 каждые 7 эпох (это одна из эвристик, не было на лекциях)\n",
        "exp_lr_scheduler = lr_scheduler.StepLR(optimizer, step_size=7, gamma=0.1)"
      ],
      "execution_count": 45,
      "outputs": []
    },
    {
      "cell_type": "code",
      "metadata": {
        "colab_type": "code",
        "id": "MMWTLiqzV-9d",
        "colab": {
          "base_uri": "https://localhost:8080/",
          "height": 1000
        },
        "outputId": "49c9b5d1-897f-4df8-ef4a-f8a1df08899f"
      },
      "source": [
        "%%time\n",
        "model_extractor,losses = train_model(model_extractor, loss_fn, optimizer, exp_lr_scheduler, num_epochs=25)"
      ],
      "execution_count": 46,
      "outputs": [
        {
          "output_type": "stream",
          "text": [
            "Epoch 0/24\n",
            "----------\n"
          ],
          "name": "stdout"
        },
        {
          "output_type": "stream",
          "text": [
            "/usr/local/lib/python3.6/dist-packages/torch/optim/lr_scheduler.py:123: UserWarning: Detected call of `lr_scheduler.step()` before `optimizer.step()`. In PyTorch 1.1.0 and later, you should call them in the opposite order: `optimizer.step()` before `lr_scheduler.step()`.  Failure to do this will result in PyTorch skipping the first value of the learning rate schedule. See more details at https://pytorch.org/docs/stable/optim.html#how-to-adjust-learning-rate\n",
            "  \"https://pytorch.org/docs/stable/optim.html#how-to-adjust-learning-rate\", UserWarning)\n"
          ],
          "name": "stderr"
        },
        {
          "output_type": "stream",
          "text": [
            "train Loss: 0.3617 Acc: 0.8484\n",
            "val Loss: 0.7111 Acc: 0.8627\n",
            "\n",
            "Epoch 1/24\n",
            "----------\n",
            "train Loss: 0.3765 Acc: 0.8934\n",
            "val Loss: 0.4674 Acc: 0.9412\n",
            "\n",
            "Epoch 2/24\n",
            "----------\n",
            "train Loss: 0.4972 Acc: 0.8648\n",
            "val Loss: 0.6097 Acc: 0.9085\n",
            "\n",
            "Epoch 3/24\n",
            "----------\n",
            "train Loss: 0.5040 Acc: 0.8934\n",
            "val Loss: 0.3589 Acc: 0.9150\n",
            "\n",
            "Epoch 4/24\n",
            "----------\n",
            "train Loss: 0.3068 Acc: 0.9180\n",
            "val Loss: 0.4526 Acc: 0.9150\n",
            "\n",
            "Epoch 5/24\n",
            "----------\n",
            "train Loss: 0.2538 Acc: 0.9426\n",
            "val Loss: 0.5767 Acc: 0.9216\n",
            "\n",
            "Epoch 6/24\n",
            "----------\n",
            "train Loss: 0.2219 Acc: 0.9426\n",
            "val Loss: 0.5043 Acc: 0.9281\n",
            "\n",
            "Epoch 7/24\n",
            "----------\n",
            "train Loss: 0.2253 Acc: 0.9180\n",
            "val Loss: 0.5106 Acc: 0.9281\n",
            "\n",
            "Epoch 8/24\n",
            "----------\n",
            "train Loss: 0.1952 Acc: 0.9508\n",
            "val Loss: 0.4849 Acc: 0.9346\n",
            "\n",
            "Epoch 9/24\n",
            "----------\n",
            "train Loss: 0.1024 Acc: 0.9631\n",
            "val Loss: 0.4473 Acc: 0.9346\n",
            "\n",
            "Epoch 10/24\n",
            "----------\n",
            "train Loss: 0.1150 Acc: 0.9672\n",
            "val Loss: 0.4188 Acc: 0.9412\n",
            "\n",
            "Epoch 11/24\n",
            "----------\n",
            "train Loss: 0.2731 Acc: 0.9139\n",
            "val Loss: 0.4118 Acc: 0.9477\n",
            "\n",
            "Epoch 12/24\n",
            "----------\n",
            "train Loss: 0.0671 Acc: 0.9631\n",
            "val Loss: 0.4155 Acc: 0.9477\n",
            "\n",
            "Epoch 13/24\n",
            "----------\n",
            "train Loss: 0.1703 Acc: 0.9508\n",
            "val Loss: 0.4142 Acc: 0.9477\n",
            "\n",
            "Epoch 14/24\n",
            "----------\n",
            "train Loss: 0.1511 Acc: 0.9549\n",
            "val Loss: 0.4151 Acc: 0.9477\n",
            "\n",
            "Epoch 15/24\n",
            "----------\n",
            "train Loss: 0.1246 Acc: 0.9549\n",
            "val Loss: 0.4141 Acc: 0.9477\n",
            "\n",
            "Epoch 16/24\n",
            "----------\n",
            "train Loss: 0.1001 Acc: 0.9672\n",
            "val Loss: 0.4139 Acc: 0.9477\n",
            "\n",
            "Epoch 17/24\n",
            "----------\n",
            "train Loss: 0.0515 Acc: 0.9795\n",
            "val Loss: 0.4133 Acc: 0.9477\n",
            "\n",
            "Epoch 18/24\n",
            "----------\n",
            "train Loss: 0.0505 Acc: 0.9754\n",
            "val Loss: 0.4145 Acc: 0.9477\n",
            "\n",
            "Epoch 19/24\n",
            "----------\n",
            "train Loss: 0.0779 Acc: 0.9590\n",
            "val Loss: 0.4158 Acc: 0.9477\n",
            "\n",
            "Epoch 20/24\n",
            "----------\n",
            "train Loss: 0.0897 Acc: 0.9549\n",
            "val Loss: 0.4157 Acc: 0.9477\n",
            "\n",
            "Epoch 21/24\n",
            "----------\n",
            "train Loss: 0.0725 Acc: 0.9631\n",
            "val Loss: 0.4157 Acc: 0.9477\n",
            "\n",
            "Epoch 22/24\n",
            "----------\n",
            "train Loss: 0.2438 Acc: 0.9385\n",
            "val Loss: 0.4155 Acc: 0.9477\n",
            "\n",
            "Epoch 23/24\n",
            "----------\n",
            "train Loss: 0.1311 Acc: 0.9467\n",
            "val Loss: 0.4151 Acc: 0.9477\n",
            "\n",
            "Epoch 24/24\n",
            "----------\n",
            "train Loss: 0.1260 Acc: 0.9467\n",
            "val Loss: 0.4148 Acc: 0.9477\n",
            "\n",
            "Training complete in 5m 2s\n",
            "Best val Acc: 0.947712\n",
            "CPU times: user 2min 42s, sys: 1min 56s, total: 4min 39s\n",
            "Wall time: 5min 2s\n"
          ],
          "name": "stdout"
        }
      ]
    },
    {
      "cell_type": "code",
      "metadata": {
        "colab_type": "code",
        "id": "NNXkJBjqN9nn",
        "colab": {
          "base_uri": "https://localhost:8080/",
          "height": 391
        },
        "outputId": "dcdf11df-23f0-449a-c044-f33f41a5e8ea"
      },
      "source": [
        "# Построим график лосса при обучении и валидации\n",
        "figure = plt.figure(figsize=(12, 7))\n",
        "plt.xlabel('epoch')\n",
        "plt.ylabel('loss')\n",
        "plt.ylim([0, 0.5])\n",
        "plt.plot(losses['train'], label='train')\n",
        "plt.plot(losses['val'], label='val')\n",
        "plt.legend();"
      ],
      "execution_count": 47,
      "outputs": [
        {
          "output_type": "display_data",
          "data": {
            "image/png": "[encoded data removed]",
            "text/plain": [
              "<Figure size 864x504 with 1 Axes>"
            ]
          },
          "metadata": {
            "tags": [],
            "needs_background": "light"
          }
        }
      ]
    },
    {
      "cell_type": "code",
      "metadata": {
        "colab_type": "code",
        "id": "Dql1ok0pV-9j",
        "colab": {}
      },
      "source": [
        "torch.save(model_extractor.state_dict(), 'VGG16.pth')"
      ],
      "execution_count": 48,
      "outputs": []
    },
    {
      "cell_type": "code",
      "metadata": {
        "colab_type": "code",
        "id": "8EztGj0LV-9m",
        "colab": {
          "base_uri": "https://localhost:8080/",
          "height": 34
        },
        "outputId": "6e0d60c5-6836-4725-c796-38be0c13376e"
      },
      "source": [
        "model_extractor.load_state_dict(torch.load('VGG16.pth'))"
      ],
      "execution_count": 49,
      "outputs": [
        {
          "output_type": "execute_result",
          "data": {
            "text/plain": [
              "<All keys matched successfully>"
            ]
          },
          "metadata": {
            "tags": []
          },
          "execution_count": 49
        }
      ]
    },
    {
      "cell_type": "code",
      "metadata": {
        "colab_type": "code",
        "scrolled": false,
        "id": "NCDiTWaZV-9o",
        "colab": {
          "base_uri": "https://localhost:8080/",
          "height": 34
        },
        "outputId": "b3555ab8-6549-4fb3-a462-3c761100e98f"
      },
      "source": [
        "print(\"Accuracy: {0:.4f}\".format(evaluate(model_extractor)))"
      ],
      "execution_count": 50,
      "outputs": [
        {
          "output_type": "stream",
          "text": [
            "Accuracy: 0.9477\n"
          ],
          "name": "stdout"
        }
      ]
    },
    {
      "cell_type": "markdown",
      "metadata": {
        "id": "Qw2XeyxYWJ7e",
        "colab_type": "text"
      },
      "source": [
        "Какой подход оказался лучше с VGG? Сильная ли между ними разница в качестве? Как Вы думаете, почему?"
      ]
    },
    {
      "cell_type": "markdown",
      "metadata": {
        "id": "9Hx75Kc2m1t0",
        "colab_type": "text"
      },
      "source": [
        "**Вывод по VGG:**\n",
        "Использоавние Fine Tuning показало чуть худший результат по точности (Accuracy = 0.9216 ), чем использование Feature Extractor (Accuracy = 0.9477). Но разница несущественная. Возможно размера Датасета оказывается  недостаточно, чтобы полностью переобучить все сеть. "
      ]
    },
    {
      "cell_type": "markdown",
      "metadata": {
        "colab_type": "text",
        "id": "lw96OH0SZV7b"
      },
      "source": [
        "### GoogleNet (Inception) (2 + 2 = 4 балла)"
      ]
    },
    {
      "cell_type": "markdown",
      "metadata": {
        "id": "VuPMDKQ5Yfvl",
        "colab_type": "text"
      },
      "source": [
        "С этой нейросетью нужно сделать то же самое. Код снова можно переиспользовать от AlexNet/VGG, однако стоит учесть, что **слой классификации в Inception называется не `classificator`, а `fc`.**"
      ]
    },
    {
      "cell_type": "code",
      "metadata": {
        "colab_type": "code",
        "id": "P3hcfum_Sg5R",
        "colab": {}
      },
      "source": [
        "# Нужно поменять размер картинок на 299, иначе будет ошибка, так как размерность станет отрицательной.\n",
        "# Это вызвано тем, что нейросеть изначально обучалась на картинках размера 299.\n",
        "\n",
        "# Результирующий размер картинок определяется трансформациями\n",
        "data_transforms = {\n",
        "    'train': transforms.Compose([\n",
        "        transforms.RandomResizedCrop(299),\n",
        "        transforms.RandomHorizontalFlip(),\n",
        "        transforms.ToTensor(),\n",
        "        transforms.Normalize([0.485, 0.456, 0.406], [0.229, 0.224, 0.225])\n",
        "    ]),\n",
        "    'val': transforms.Compose([\n",
        "        transforms.Resize(299),\n",
        "        transforms.CenterCrop(299),\n",
        "        transforms.ToTensor(),\n",
        "        transforms.Normalize([0.485, 0.456, 0.406], [0.229, 0.224, 0.225])\n",
        "    ]),\n",
        "}\n",
        "\n",
        "# Сам объект датасета\n",
        "image_datasets = {\n",
        "    x: datasets.ImageFolder(\n",
        "        os.path.join(data_dir, x),\n",
        "        data_transforms[x])\n",
        "    for x in ['train', 'val']\n",
        "}\n",
        "\n",
        "# специальный класс для загрузки данных в виде батчей\n",
        "dataloaders = {\n",
        "    x: torch.utils.data.DataLoader(\n",
        "        image_datasets[x], \n",
        "        batch_size=4,\n",
        "        shuffle=True, \n",
        "        num_workers=4\n",
        "    )\n",
        "    for x in ['train', 'val']\n",
        "}"
      ],
      "execution_count": 51,
      "outputs": []
    },
    {
      "cell_type": "code",
      "metadata": {
        "id": "zsjpxD_kZ070",
        "colab_type": "code",
        "colab": {
          "base_uri": "https://localhost:8080/",
          "height": 102,
          "referenced_widgets": [
            "8ce4ceee512e4547ac0c89f2d0a254ca",
            "8ef9cf8277fa49ce99ae8825caa0482b",
            "da9e8021fa8643089ec964bc291e359d",
            "9106bce9e3f747feb8b85224af0b7be1",
            "273b6e3873d2477f8bc3bdcf5040400b",
            "0a35f790057c4b1fa66e8b9f78374568",
            "6a3a5dfaaaf0459f9aa232439be4e930",
            "fa2db257a70642118442b8ccfb850226"
          ]
        },
        "outputId": "4cd44a20-9dee-4825-d6b2-37d97ab88521"
      },
      "source": [
        "model = models.googlenet(pretrained=True)"
      ],
      "execution_count": 52,
      "outputs": [
        {
          "output_type": "stream",
          "text": [
            "Downloading: \"https://download.pytorch.org/models/googlenet-1378be20.pth\" to /root/.cache/torch/checkpoints/googlenet-1378be20.pth\n"
          ],
          "name": "stderr"
        },
        {
          "output_type": "display_data",
          "data": {
            "application/vnd.jupyter.widget-view+json": {
              "model_id": "8ce4ceee512e4547ac0c89f2d0a254ca",
              "version_minor": 0,
              "version_major": 2
            },
            "text/plain": [
              "HBox(children=(FloatProgress(value=0.0, max=52147035.0), HTML(value='')))"
            ]
          },
          "metadata": {
            "tags": []
          }
        },
        {
          "output_type": "stream",
          "text": [
            "\n"
          ],
          "name": "stdout"
        }
      ]
    },
    {
      "cell_type": "code",
      "metadata": {
        "id": "dKn6Lhc-agBY",
        "colab_type": "code",
        "colab": {
          "base_uri": "https://localhost:8080/",
          "height": 1000
        },
        "outputId": "5a73c786-e446-4e40-b4aa-98728c2ebe15"
      },
      "source": [
        "model"
      ],
      "execution_count": 53,
      "outputs": [
        {
          "output_type": "execute_result",
          "data": {
            "text/plain": [
              "GoogLeNet(\n",
              "  (conv1): BasicConv2d(\n",
              "    (conv): Conv2d(3, 64, kernel_size=(7, 7), stride=(2, 2), padding=(3, 3), bias=False)\n",
              "    (bn): BatchNorm2d(64, eps=0.001, momentum=0.1, affine=True, track_running_stats=True)\n",
              "  )\n",
              "  (maxpool1): MaxPool2d(kernel_size=3, stride=2, padding=0, dilation=1, ceil_mode=True)\n",
              "  (conv2): BasicConv2d(\n",
              "    (conv): Conv2d(64, 64, kernel_size=(1, 1), stride=(1, 1), bias=False)\n",
              "    (bn): BatchNorm2d(64, eps=0.001, momentum=0.1, affine=True, track_running_stats=True)\n",
              "  )\n",
              "  (conv3): BasicConv2d(\n",
              "    (conv): Conv2d(64, 192, kernel_size=(3, 3), stride=(1, 1), padding=(1, 1), bias=False)\n",
              "    (bn): BatchNorm2d(192, eps=0.001, momentum=0.1, affine=True, track_running_stats=True)\n",
              "  )\n",
              "  (maxpool2): MaxPool2d(kernel_size=3, stride=2, padding=0, dilation=1, ceil_mode=True)\n",
              "  (inception3a): Inception(\n",
              "    (branch1): BasicConv2d(\n",
              "      (conv): Conv2d(192, 64, kernel_size=(1, 1), stride=(1, 1), bias=False)\n",
              "      (bn): BatchNorm2d(64, eps=0.001, momentum=0.1, affine=True, track_running_stats=True)\n",
              "    )\n",
              "    (branch2): Sequential(\n",
              "      (0): BasicConv2d(\n",
              "        (conv): Conv2d(192, 96, kernel_size=(1, 1), stride=(1, 1), bias=False)\n",
              "        (bn): BatchNorm2d(96, eps=0.001, momentum=0.1, affine=True, track_running_stats=True)\n",
              "      )\n",
              "      (1): BasicConv2d(\n",
              "        (conv): Conv2d(96, 128, kernel_size=(3, 3), stride=(1, 1), padding=(1, 1), bias=False)\n",
              "        (bn): BatchNorm2d(128, eps=0.001, momentum=0.1, affine=True, track_running_stats=True)\n",
              "      )\n",
              "    )\n",
              "    (branch3): Sequential(\n",
              "      (0): BasicConv2d(\n",
              "        (conv): Conv2d(192, 16, kernel_size=(1, 1), stride=(1, 1), bias=False)\n",
              "        (bn): BatchNorm2d(16, eps=0.001, momentum=0.1, affine=True, track_running_stats=True)\n",
              "      )\n",
              "      (1): BasicConv2d(\n",
              "        (conv): Conv2d(16, 32, kernel_size=(3, 3), stride=(1, 1), padding=(1, 1), bias=False)\n",
              "        (bn): BatchNorm2d(32, eps=0.001, momentum=0.1, affine=True, track_running_stats=True)\n",
              "      )\n",
              "    )\n",
              "    (branch4): Sequential(\n",
              "      (0): MaxPool2d(kernel_size=3, stride=1, padding=1, dilation=1, ceil_mode=True)\n",
              "      (1): BasicConv2d(\n",
              "        (conv): Conv2d(192, 32, kernel_size=(1, 1), stride=(1, 1), bias=False)\n",
              "        (bn): BatchNorm2d(32, eps=0.001, momentum=0.1, affine=True, track_running_stats=True)\n",
              "      )\n",
              "    )\n",
              "  )\n",
              "  (inception3b): Inception(\n",
              "    (branch1): BasicConv2d(\n",
              "      (conv): Conv2d(256, 128, kernel_size=(1, 1), stride=(1, 1), bias=False)\n",
              "      (bn): BatchNorm2d(128, eps=0.001, momentum=0.1, affine=True, track_running_stats=True)\n",
              "    )\n",
              "    (branch2): Sequential(\n",
              "      (0): BasicConv2d(\n",
              "        (conv): Conv2d(256, 128, kernel_size=(1, 1), stride=(1, 1), bias=False)\n",
              "        (bn): BatchNorm2d(128, eps=0.001, momentum=0.1, affine=True, track_running_stats=True)\n",
              "      )\n",
              "      (1): BasicConv2d(\n",
              "        (conv): Conv2d(128, 192, kernel_size=(3, 3), stride=(1, 1), padding=(1, 1), bias=False)\n",
              "        (bn): BatchNorm2d(192, eps=0.001, momentum=0.1, affine=True, track_running_stats=True)\n",
              "      )\n",
              "    )\n",
              "    (branch3): Sequential(\n",
              "      (0): BasicConv2d(\n",
              "        (conv): Conv2d(256, 32, kernel_size=(1, 1), stride=(1, 1), bias=False)\n",
              "        (bn): BatchNorm2d(32, eps=0.001, momentum=0.1, affine=True, track_running_stats=True)\n",
              "      )\n",
              "      (1): BasicConv2d(\n",
              "        (conv): Conv2d(32, 96, kernel_size=(3, 3), stride=(1, 1), padding=(1, 1), bias=False)\n",
              "        (bn): BatchNorm2d(96, eps=0.001, momentum=0.1, affine=True, track_running_stats=True)\n",
              "      )\n",
              "    )\n",
              "    (branch4): Sequential(\n",
              "      (0): MaxPool2d(kernel_size=3, stride=1, padding=1, dilation=1, ceil_mode=True)\n",
              "      (1): BasicConv2d(\n",
              "        (conv): Conv2d(256, 64, kernel_size=(1, 1), stride=(1, 1), bias=False)\n",
              "        (bn): BatchNorm2d(64, eps=0.001, momentum=0.1, affine=True, track_running_stats=True)\n",
              "      )\n",
              "    )\n",
              "  )\n",
              "  (maxpool3): MaxPool2d(kernel_size=3, stride=2, padding=0, dilation=1, ceil_mode=True)\n",
              "  (inception4a): Inception(\n",
              "    (branch1): BasicConv2d(\n",
              "      (conv): Conv2d(480, 192, kernel_size=(1, 1), stride=(1, 1), bias=False)\n",
              "      (bn): BatchNorm2d(192, eps=0.001, momentum=0.1, affine=True, track_running_stats=True)\n",
              "    )\n",
              "    (branch2): Sequential(\n",
              "      (0): BasicConv2d(\n",
              "        (conv): Conv2d(480, 96, kernel_size=(1, 1), stride=(1, 1), bias=False)\n",
              "        (bn): BatchNorm2d(96, eps=0.001, momentum=0.1, affine=True, track_running_stats=True)\n",
              "      )\n",
              "      (1): BasicConv2d(\n",
              "        (conv): Conv2d(96, 208, kernel_size=(3, 3), stride=(1, 1), padding=(1, 1), bias=False)\n",
              "        (bn): BatchNorm2d(208, eps=0.001, momentum=0.1, affine=True, track_running_stats=True)\n",
              "      )\n",
              "    )\n",
              "    (branch3): Sequential(\n",
              "      (0): BasicConv2d(\n",
              "        (conv): Conv2d(480, 16, kernel_size=(1, 1), stride=(1, 1), bias=False)\n",
              "        (bn): BatchNorm2d(16, eps=0.001, momentum=0.1, affine=True, track_running_stats=True)\n",
              "      )\n",
              "      (1): BasicConv2d(\n",
              "        (conv): Conv2d(16, 48, kernel_size=(3, 3), stride=(1, 1), padding=(1, 1), bias=False)\n",
              "        (bn): BatchNorm2d(48, eps=0.001, momentum=0.1, affine=True, track_running_stats=True)\n",
              "      )\n",
              "    )\n",
              "    (branch4): Sequential(\n",
              "      (0): MaxPool2d(kernel_size=3, stride=1, padding=1, dilation=1, ceil_mode=True)\n",
              "      (1): BasicConv2d(\n",
              "        (conv): Conv2d(480, 64, kernel_size=(1, 1), stride=(1, 1), bias=False)\n",
              "        (bn): BatchNorm2d(64, eps=0.001, momentum=0.1, affine=True, track_running_stats=True)\n",
              "      )\n",
              "    )\n",
              "  )\n",
              "  (inception4b): Inception(\n",
              "    (branch1): BasicConv2d(\n",
              "      (conv): Conv2d(512, 160, kernel_size=(1, 1), stride=(1, 1), bias=False)\n",
              "      (bn): BatchNorm2d(160, eps=0.001, momentum=0.1, affine=True, track_running_stats=True)\n",
              "    )\n",
              "    (branch2): Sequential(\n",
              "      (0): BasicConv2d(\n",
              "        (conv): Conv2d(512, 112, kernel_size=(1, 1), stride=(1, 1), bias=False)\n",
              "        (bn): BatchNorm2d(112, eps=0.001, momentum=0.1, affine=True, track_running_stats=True)\n",
              "      )\n",
              "      (1): BasicConv2d(\n",
              "        (conv): Conv2d(112, 224, kernel_size=(3, 3), stride=(1, 1), padding=(1, 1), bias=False)\n",
              "        (bn): BatchNorm2d(224, eps=0.001, momentum=0.1, affine=True, track_running_stats=True)\n",
              "      )\n",
              "    )\n",
              "    (branch3): Sequential(\n",
              "      (0): BasicConv2d(\n",
              "        (conv): Conv2d(512, 24, kernel_size=(1, 1), stride=(1, 1), bias=False)\n",
              "        (bn): BatchNorm2d(24, eps=0.001, momentum=0.1, affine=True, track_running_stats=True)\n",
              "      )\n",
              "      (1): BasicConv2d(\n",
              "        (conv): Conv2d(24, 64, kernel_size=(3, 3), stride=(1, 1), padding=(1, 1), bias=False)\n",
              "        (bn): BatchNorm2d(64, eps=0.001, momentum=0.1, affine=True, track_running_stats=True)\n",
              "      )\n",
              "    )\n",
              "    (branch4): Sequential(\n",
              "      (0): MaxPool2d(kernel_size=3, stride=1, padding=1, dilation=1, ceil_mode=True)\n",
              "      (1): BasicConv2d(\n",
              "        (conv): Conv2d(512, 64, kernel_size=(1, 1), stride=(1, 1), bias=False)\n",
              "        (bn): BatchNorm2d(64, eps=0.001, momentum=0.1, affine=True, track_running_stats=True)\n",
              "      )\n",
              "    )\n",
              "  )\n",
              "  (inception4c): Inception(\n",
              "    (branch1): BasicConv2d(\n",
              "      (conv): Conv2d(512, 128, kernel_size=(1, 1), stride=(1, 1), bias=False)\n",
              "      (bn): BatchNorm2d(128, eps=0.001, momentum=0.1, affine=True, track_running_stats=True)\n",
              "    )\n",
              "    (branch2): Sequential(\n",
              "      (0): BasicConv2d(\n",
              "        (conv): Conv2d(512, 128, kernel_size=(1, 1), stride=(1, 1), bias=False)\n",
              "        (bn): BatchNorm2d(128, eps=0.001, momentum=0.1, affine=True, track_running_stats=True)\n",
              "      )\n",
              "      (1): BasicConv2d(\n",
              "        (conv): Conv2d(128, 256, kernel_size=(3, 3), stride=(1, 1), padding=(1, 1), bias=False)\n",
              "        (bn): BatchNorm2d(256, eps=0.001, momentum=0.1, affine=True, track_running_stats=True)\n",
              "      )\n",
              "    )\n",
              "    (branch3): Sequential(\n",
              "      (0): BasicConv2d(\n",
              "        (conv): Conv2d(512, 24, kernel_size=(1, 1), stride=(1, 1), bias=False)\n",
              "        (bn): BatchNorm2d(24, eps=0.001, momentum=0.1, affine=True, track_running_stats=True)\n",
              "      )\n",
              "      (1): BasicConv2d(\n",
              "        (conv): Conv2d(24, 64, kernel_size=(3, 3), stride=(1, 1), padding=(1, 1), bias=False)\n",
              "        (bn): BatchNorm2d(64, eps=0.001, momentum=0.1, affine=True, track_running_stats=True)\n",
              "      )\n",
              "    )\n",
              "    (branch4): Sequential(\n",
              "      (0): MaxPool2d(kernel_size=3, stride=1, padding=1, dilation=1, ceil_mode=True)\n",
              "      (1): BasicConv2d(\n",
              "        (conv): Conv2d(512, 64, kernel_size=(1, 1), stride=(1, 1), bias=False)\n",
              "        (bn): BatchNorm2d(64, eps=0.001, momentum=0.1, affine=True, track_running_stats=True)\n",
              "      )\n",
              "    )\n",
              "  )\n",
              "  (inception4d): Inception(\n",
              "    (branch1): BasicConv2d(\n",
              "      (conv): Conv2d(512, 112, kernel_size=(1, 1), stride=(1, 1), bias=False)\n",
              "      (bn): BatchNorm2d(112, eps=0.001, momentum=0.1, affine=True, track_running_stats=True)\n",
              "    )\n",
              "    (branch2): Sequential(\n",
              "      (0): BasicConv2d(\n",
              "        (conv): Conv2d(512, 144, kernel_size=(1, 1), stride=(1, 1), bias=False)\n",
              "        (bn): BatchNorm2d(144, eps=0.001, momentum=0.1, affine=True, track_running_stats=True)\n",
              "      )\n",
              "      (1): BasicConv2d(\n",
              "        (conv): Conv2d(144, 288, kernel_size=(3, 3), stride=(1, 1), padding=(1, 1), bias=False)\n",
              "        (bn): BatchNorm2d(288, eps=0.001, momentum=0.1, affine=True, track_running_stats=True)\n",
              "      )\n",
              "    )\n",
              "    (branch3): Sequential(\n",
              "      (0): BasicConv2d(\n",
              "        (conv): Conv2d(512, 32, kernel_size=(1, 1), stride=(1, 1), bias=False)\n",
              "        (bn): BatchNorm2d(32, eps=0.001, momentum=0.1, affine=True, track_running_stats=True)\n",
              "      )\n",
              "      (1): BasicConv2d(\n",
              "        (conv): Conv2d(32, 64, kernel_size=(3, 3), stride=(1, 1), padding=(1, 1), bias=False)\n",
              "        (bn): BatchNorm2d(64, eps=0.001, momentum=0.1, affine=True, track_running_stats=True)\n",
              "      )\n",
              "    )\n",
              "    (branch4): Sequential(\n",
              "      (0): MaxPool2d(kernel_size=3, stride=1, padding=1, dilation=1, ceil_mode=True)\n",
              "      (1): BasicConv2d(\n",
              "        (conv): Conv2d(512, 64, kernel_size=(1, 1), stride=(1, 1), bias=False)\n",
              "        (bn): BatchNorm2d(64, eps=0.001, momentum=0.1, affine=True, track_running_stats=True)\n",
              "      )\n",
              "    )\n",
              "  )\n",
              "  (inception4e): Inception(\n",
              "    (branch1): BasicConv2d(\n",
              "      (conv): Conv2d(528, 256, kernel_size=(1, 1), stride=(1, 1), bias=False)\n",
              "      (bn): BatchNorm2d(256, eps=0.001, momentum=0.1, affine=True, track_running_stats=True)\n",
              "    )\n",
              "    (branch2): Sequential(\n",
              "      (0): BasicConv2d(\n",
              "        (conv): Conv2d(528, 160, kernel_size=(1, 1), stride=(1, 1), bias=False)\n",
              "        (bn): BatchNorm2d(160, eps=0.001, momentum=0.1, affine=True, track_running_stats=True)\n",
              "      )\n",
              "      (1): BasicConv2d(\n",
              "        (conv): Conv2d(160, 320, kernel_size=(3, 3), stride=(1, 1), padding=(1, 1), bias=False)\n",
              "        (bn): BatchNorm2d(320, eps=0.001, momentum=0.1, affine=True, track_running_stats=True)\n",
              "      )\n",
              "    )\n",
              "    (branch3): Sequential(\n",
              "      (0): BasicConv2d(\n",
              "        (conv): Conv2d(528, 32, kernel_size=(1, 1), stride=(1, 1), bias=False)\n",
              "        (bn): BatchNorm2d(32, eps=0.001, momentum=0.1, affine=True, track_running_stats=True)\n",
              "      )\n",
              "      (1): BasicConv2d(\n",
              "        (conv): Conv2d(32, 128, kernel_size=(3, 3), stride=(1, 1), padding=(1, 1), bias=False)\n",
              "        (bn): BatchNorm2d(128, eps=0.001, momentum=0.1, affine=True, track_running_stats=True)\n",
              "      )\n",
              "    )\n",
              "    (branch4): Sequential(\n",
              "      (0): MaxPool2d(kernel_size=3, stride=1, padding=1, dilation=1, ceil_mode=True)\n",
              "      (1): BasicConv2d(\n",
              "        (conv): Conv2d(528, 128, kernel_size=(1, 1), stride=(1, 1), bias=False)\n",
              "        (bn): BatchNorm2d(128, eps=0.001, momentum=0.1, affine=True, track_running_stats=True)\n",
              "      )\n",
              "    )\n",
              "  )\n",
              "  (maxpool4): MaxPool2d(kernel_size=2, stride=2, padding=0, dilation=1, ceil_mode=True)\n",
              "  (inception5a): Inception(\n",
              "    (branch1): BasicConv2d(\n",
              "      (conv): Conv2d(832, 256, kernel_size=(1, 1), stride=(1, 1), bias=False)\n",
              "      (bn): BatchNorm2d(256, eps=0.001, momentum=0.1, affine=True, track_running_stats=True)\n",
              "    )\n",
              "    (branch2): Sequential(\n",
              "      (0): BasicConv2d(\n",
              "        (conv): Conv2d(832, 160, kernel_size=(1, 1), stride=(1, 1), bias=False)\n",
              "        (bn): BatchNorm2d(160, eps=0.001, momentum=0.1, affine=True, track_running_stats=True)\n",
              "      )\n",
              "      (1): BasicConv2d(\n",
              "        (conv): Conv2d(160, 320, kernel_size=(3, 3), stride=(1, 1), padding=(1, 1), bias=False)\n",
              "        (bn): BatchNorm2d(320, eps=0.001, momentum=0.1, affine=True, track_running_stats=True)\n",
              "      )\n",
              "    )\n",
              "    (branch3): Sequential(\n",
              "      (0): BasicConv2d(\n",
              "        (conv): Conv2d(832, 32, kernel_size=(1, 1), stride=(1, 1), bias=False)\n",
              "        (bn): BatchNorm2d(32, eps=0.001, momentum=0.1, affine=True, track_running_stats=True)\n",
              "      )\n",
              "      (1): BasicConv2d(\n",
              "        (conv): Conv2d(32, 128, kernel_size=(3, 3), stride=(1, 1), padding=(1, 1), bias=False)\n",
              "        (bn): BatchNorm2d(128, eps=0.001, momentum=0.1, affine=True, track_running_stats=True)\n",
              "      )\n",
              "    )\n",
              "    (branch4): Sequential(\n",
              "      (0): MaxPool2d(kernel_size=3, stride=1, padding=1, dilation=1, ceil_mode=True)\n",
              "      (1): BasicConv2d(\n",
              "        (conv): Conv2d(832, 128, kernel_size=(1, 1), stride=(1, 1), bias=False)\n",
              "        (bn): BatchNorm2d(128, eps=0.001, momentum=0.1, affine=True, track_running_stats=True)\n",
              "      )\n",
              "    )\n",
              "  )\n",
              "  (inception5b): Inception(\n",
              "    (branch1): BasicConv2d(\n",
              "      (conv): Conv2d(832, 384, kernel_size=(1, 1), stride=(1, 1), bias=False)\n",
              "      (bn): BatchNorm2d(384, eps=0.001, momentum=0.1, affine=True, track_running_stats=True)\n",
              "    )\n",
              "    (branch2): Sequential(\n",
              "      (0): BasicConv2d(\n",
              "        (conv): Conv2d(832, 192, kernel_size=(1, 1), stride=(1, 1), bias=False)\n",
              "        (bn): BatchNorm2d(192, eps=0.001, momentum=0.1, affine=True, track_running_stats=True)\n",
              "      )\n",
              "      (1): BasicConv2d(\n",
              "        (conv): Conv2d(192, 384, kernel_size=(3, 3), stride=(1, 1), padding=(1, 1), bias=False)\n",
              "        (bn): BatchNorm2d(384, eps=0.001, momentum=0.1, affine=True, track_running_stats=True)\n",
              "      )\n",
              "    )\n",
              "    (branch3): Sequential(\n",
              "      (0): BasicConv2d(\n",
              "        (conv): Conv2d(832, 48, kernel_size=(1, 1), stride=(1, 1), bias=False)\n",
              "        (bn): BatchNorm2d(48, eps=0.001, momentum=0.1, affine=True, track_running_stats=True)\n",
              "      )\n",
              "      (1): BasicConv2d(\n",
              "        (conv): Conv2d(48, 128, kernel_size=(3, 3), stride=(1, 1), padding=(1, 1), bias=False)\n",
              "        (bn): BatchNorm2d(128, eps=0.001, momentum=0.1, affine=True, track_running_stats=True)\n",
              "      )\n",
              "    )\n",
              "    (branch4): Sequential(\n",
              "      (0): MaxPool2d(kernel_size=3, stride=1, padding=1, dilation=1, ceil_mode=True)\n",
              "      (1): BasicConv2d(\n",
              "        (conv): Conv2d(832, 128, kernel_size=(1, 1), stride=(1, 1), bias=False)\n",
              "        (bn): BatchNorm2d(128, eps=0.001, momentum=0.1, affine=True, track_running_stats=True)\n",
              "      )\n",
              "    )\n",
              "  )\n",
              "  (aux1): None\n",
              "  (aux2): None\n",
              "  (avgpool): AdaptiveAvgPool2d(output_size=(1, 1))\n",
              "  (dropout): Dropout(p=0.2, inplace=False)\n",
              "  (fc): Linear(in_features=1024, out_features=1000, bias=True)\n",
              ")"
            ]
          },
          "metadata": {
            "tags": []
          },
          "execution_count": 53
        }
      ]
    },
    {
      "cell_type": "markdown",
      "metadata": {
        "id": "Y6Eo8qabZMbg",
        "colab_type": "text"
      },
      "source": [
        "* **Fine Tuning** способ (2 балла):"
      ]
    },
    {
      "cell_type": "code",
      "metadata": {
        "colab_type": "code",
        "id": "4JtclepsDcBA",
        "colab": {}
      },
      "source": [
        "# num_features -- это размерность вектора фич, поступающего на вход FC-слою\n",
        "num_features = 1024\n",
        "# Заменяем Fully-Connected слой на наш линейный классификатор\n",
        "model.fc = nn.Linear(num_features, 2)\n",
        "\n",
        "# Использовать ли GPU\n",
        "if use_gpu:\n",
        "    model = model.cuda()\n",
        "\n",
        "# В качестве cost function используем кросс-энтропию\n",
        "loss_fn = nn.CrossEntropyLoss()\n",
        "\n",
        "# В качестве оптимизатора - стохастический градиентный спуск\n",
        "optimizer = optim.SGD(model.parameters(), lr=0.001, momentum=0.9)\n",
        "\n",
        "# Умножает learning_rate на 0.1 каждые 7 эпох (это одна из эвристик, не было на лекциях)\n",
        "exp_lr_scheduler = lr_scheduler.StepLR(optimizer, step_size=7, gamma=0.1)"
      ],
      "execution_count": 54,
      "outputs": []
    },
    {
      "cell_type": "code",
      "metadata": {
        "colab_type": "code",
        "id": "7N1RICFESg5a",
        "scrolled": true,
        "colab": {
          "base_uri": "https://localhost:8080/",
          "height": 1000
        },
        "outputId": "ba6f8a79-0ef3-46e7-a8d8-29abee542622"
      },
      "source": [
        "%%time\n",
        "model.aux_logits = False\n",
        "model,losses = train_model(model, loss_fn, optimizer, exp_lr_scheduler, num_epochs=25)"
      ],
      "execution_count": 55,
      "outputs": [
        {
          "output_type": "stream",
          "text": [
            "Epoch 0/24\n",
            "----------\n"
          ],
          "name": "stdout"
        },
        {
          "output_type": "stream",
          "text": [
            "/usr/local/lib/python3.6/dist-packages/torch/optim/lr_scheduler.py:123: UserWarning: Detected call of `lr_scheduler.step()` before `optimizer.step()`. In PyTorch 1.1.0 and later, you should call them in the opposite order: `optimizer.step()` before `lr_scheduler.step()`.  Failure to do this will result in PyTorch skipping the first value of the learning rate schedule. See more details at https://pytorch.org/docs/stable/optim.html#how-to-adjust-learning-rate\n",
            "  \"https://pytorch.org/docs/stable/optim.html#how-to-adjust-learning-rate\", UserWarning)\n"
          ],
          "name": "stderr"
        },
        {
          "output_type": "stream",
          "text": [
            "train Loss: 0.1445 Acc: 0.7008\n",
            "val Loss: 0.0833 Acc: 0.9216\n",
            "\n",
            "Epoch 1/24\n",
            "----------\n",
            "train Loss: 0.1060 Acc: 0.7951\n",
            "val Loss: 0.0622 Acc: 0.9216\n",
            "\n",
            "Epoch 2/24\n",
            "----------\n",
            "train Loss: 0.1032 Acc: 0.8074\n",
            "val Loss: 0.0456 Acc: 0.9412\n",
            "\n",
            "Epoch 3/24\n",
            "----------\n",
            "train Loss: 0.1049 Acc: 0.7910\n",
            "val Loss: 0.0460 Acc: 0.9412\n",
            "\n",
            "Epoch 4/24\n",
            "----------\n",
            "train Loss: 0.0711 Acc: 0.8689\n",
            "val Loss: 0.0384 Acc: 0.9477\n",
            "\n",
            "Epoch 5/24\n",
            "----------\n",
            "train Loss: 0.1003 Acc: 0.8484\n",
            "val Loss: 0.0433 Acc: 0.9477\n",
            "\n",
            "Epoch 6/24\n",
            "----------\n",
            "train Loss: 0.0927 Acc: 0.8525\n",
            "val Loss: 0.0395 Acc: 0.9542\n",
            "\n",
            "Epoch 7/24\n",
            "----------\n",
            "train Loss: 0.0748 Acc: 0.8689\n",
            "val Loss: 0.0428 Acc: 0.9346\n",
            "\n",
            "Epoch 8/24\n",
            "----------\n",
            "train Loss: 0.0775 Acc: 0.8770\n",
            "val Loss: 0.0515 Acc: 0.9281\n",
            "\n",
            "Epoch 9/24\n",
            "----------\n",
            "train Loss: 0.0838 Acc: 0.8566\n",
            "val Loss: 0.0373 Acc: 0.9542\n",
            "\n",
            "Epoch 10/24\n",
            "----------\n",
            "train Loss: 0.0656 Acc: 0.8934\n",
            "val Loss: 0.0400 Acc: 0.9346\n",
            "\n",
            "Epoch 11/24\n",
            "----------\n",
            "train Loss: 0.0755 Acc: 0.8852\n",
            "val Loss: 0.0385 Acc: 0.9412\n",
            "\n",
            "Epoch 12/24\n",
            "----------\n",
            "train Loss: 0.0953 Acc: 0.8197\n",
            "val Loss: 0.0392 Acc: 0.9477\n",
            "\n",
            "Epoch 13/24\n",
            "----------\n",
            "train Loss: 0.0783 Acc: 0.8770\n",
            "val Loss: 0.0414 Acc: 0.9412\n",
            "\n",
            "Epoch 14/24\n",
            "----------\n",
            "train Loss: 0.0667 Acc: 0.9016\n",
            "val Loss: 0.0433 Acc: 0.9346\n",
            "\n",
            "Epoch 15/24\n",
            "----------\n",
            "train Loss: 0.0939 Acc: 0.8443\n",
            "val Loss: 0.0392 Acc: 0.9412\n",
            "\n",
            "Epoch 16/24\n",
            "----------\n",
            "train Loss: 0.0952 Acc: 0.8648\n",
            "val Loss: 0.0379 Acc: 0.9477\n",
            "\n",
            "Epoch 17/24\n",
            "----------\n",
            "train Loss: 0.0676 Acc: 0.8811\n",
            "val Loss: 0.0429 Acc: 0.9346\n",
            "\n",
            "Epoch 18/24\n",
            "----------\n",
            "train Loss: 0.0684 Acc: 0.8934\n",
            "val Loss: 0.0423 Acc: 0.9477\n",
            "\n",
            "Epoch 19/24\n",
            "----------\n",
            "train Loss: 0.0703 Acc: 0.8934\n",
            "val Loss: 0.0407 Acc: 0.9346\n",
            "\n",
            "Epoch 20/24\n",
            "----------\n",
            "train Loss: 0.0740 Acc: 0.8525\n",
            "val Loss: 0.0394 Acc: 0.9412\n",
            "\n",
            "Epoch 21/24\n",
            "----------\n",
            "train Loss: 0.0533 Acc: 0.9057\n",
            "val Loss: 0.0395 Acc: 0.9412\n",
            "\n",
            "Epoch 22/24\n",
            "----------\n",
            "train Loss: 0.0743 Acc: 0.8852\n",
            "val Loss: 0.0440 Acc: 0.9281\n",
            "\n",
            "Epoch 23/24\n",
            "----------\n",
            "train Loss: 0.0834 Acc: 0.8811\n",
            "val Loss: 0.0409 Acc: 0.9412\n",
            "\n",
            "Epoch 24/24\n",
            "----------\n",
            "train Loss: 0.0799 Acc: 0.8402\n",
            "val Loss: 0.0386 Acc: 0.9477\n",
            "\n",
            "Training complete in 3m 60s\n",
            "Best val Acc: 0.954248\n",
            "CPU times: user 2min 40s, sys: 40 s, total: 3min 20s\n",
            "Wall time: 3min 59s\n"
          ],
          "name": "stdout"
        }
      ]
    },
    {
      "cell_type": "code",
      "metadata": {
        "id": "yA-_9MWA5C5R",
        "colab_type": "code",
        "colab": {
          "base_uri": "https://localhost:8080/",
          "height": 391
        },
        "outputId": "a7788561-57d6-4295-9c5f-06e26f142d2f"
      },
      "source": [
        "figure = plt.figure(figsize=(12, 7))\n",
        "plt.xlabel('epoch')\n",
        "plt.ylabel('loss')\n",
        "plt.ylim([0, 0.5])\n",
        "plt.plot(losses['train'], label='train')\n",
        "plt.plot(losses['val'], label='val')\n",
        "plt.legend();"
      ],
      "execution_count": 56,
      "outputs": [
        {
          "output_type": "display_data",
          "data": {
            "image/png": "[encoded data removed]",
            "text/plain": [
              "<Figure size 864x504 with 1 Axes>"
            ]
          },
          "metadata": {
            "tags": [],
            "needs_background": "light"
          }
        }
      ]
    },
    {
      "cell_type": "code",
      "metadata": {
        "colab_type": "code",
        "id": "vf7KKR3wSg5j",
        "colab": {}
      },
      "source": [
        "torch.save(model.state_dict(), 'GoogleNet.pth')"
      ],
      "execution_count": 57,
      "outputs": []
    },
    {
      "cell_type": "code",
      "metadata": {
        "colab_type": "code",
        "id": "63_hZCP_Sg5o",
        "colab": {
          "base_uri": "https://localhost:8080/",
          "height": 34
        },
        "outputId": "a5332613-3b33-4e95-8f45-ba39c104873f"
      },
      "source": [
        "model.load_state_dict(torch.load('GoogleNet.pth'))"
      ],
      "execution_count": 58,
      "outputs": [
        {
          "output_type": "execute_result",
          "data": {
            "text/plain": [
              "<All keys matched successfully>"
            ]
          },
          "metadata": {
            "tags": []
          },
          "execution_count": 58
        }
      ]
    },
    {
      "cell_type": "code",
      "metadata": {
        "colab_type": "code",
        "id": "U7m4-eCoSg57",
        "scrolled": true,
        "colab": {
          "base_uri": "https://localhost:8080/",
          "height": 34
        },
        "outputId": "4e736b71-802b-451e-e8dc-5d7ec177ef30"
      },
      "source": [
        "print(\"Accuracy: {0:.4f}\".format(evaluate(model)))"
      ],
      "execution_count": 59,
      "outputs": [
        {
          "output_type": "stream",
          "text": [
            "Accuracy: 0.9477\n"
          ],
          "name": "stdout"
        }
      ]
    },
    {
      "cell_type": "markdown",
      "metadata": {
        "id": "goTJ42XPatb1",
        "colab_type": "text"
      },
      "source": [
        "* **Feature Extractor** способ (2 балла):"
      ]
    },
    {
      "cell_type": "code",
      "metadata": {
        "id": "gRpVq8dGDs84",
        "colab_type": "code",
        "colab": {}
      },
      "source": [
        "model_extractor = models.googlenet(pretrained=True)"
      ],
      "execution_count": 60,
      "outputs": []
    },
    {
      "cell_type": "code",
      "metadata": {
        "colab_type": "code",
        "id": "gzESBWf5Dnfk",
        "colab": {}
      },
      "source": [
        "# замораживаем параметры (веса)\n",
        "for param in model_extractor.parameters():\n",
        "    param.requires_grad = False\n",
        "\n",
        "# num_features -- это размерность вектора фич, поступающего на вход FC-слою\n",
        "num_features = 1024\n",
        "# Заменяем Fully-Connected слой на наш линейный классификатор\n",
        "model_extractor.fc = nn.Linear(num_features, 2)\n",
        "\n",
        "# Использовать ли GPU\n",
        "if use_gpu:\n",
        "    model_extractor = model_extractor.cuda()\n",
        "\n",
        "# В качестве cost function используем кросс-энтропию\n",
        "loss_fn = nn.CrossEntropyLoss()\n",
        "\n",
        "# Обучаем только классификатор\n",
        "optimizer = optim.SGD(model_extractor.fc.parameters(), lr=0.001, momentum=0.9)\n",
        "\n",
        "# Умножает learning_rate на 0.1 каждые 7 эпох (это одна из эвристик, не было на лекциях)\n",
        "exp_lr_scheduler = lr_scheduler.StepLR(optimizer, step_size=7, gamma=0.1)"
      ],
      "execution_count": 61,
      "outputs": []
    },
    {
      "cell_type": "code",
      "metadata": {
        "colab_type": "code",
        "scrolled": true,
        "id": "u6WxSBt_cZkZ",
        "colab": {
          "base_uri": "https://localhost:8080/",
          "height": 1000
        },
        "outputId": "2a843826-7048-45e3-a81d-7b9dc8655985"
      },
      "source": [
        "%%time\n",
        "model_extractor.aux_logits = False\n",
        "model_extractor,losses = train_model(model_extractor, loss_fn, optimizer, exp_lr_scheduler, num_epochs=25)"
      ],
      "execution_count": 62,
      "outputs": [
        {
          "output_type": "stream",
          "text": [
            "Epoch 0/24\n",
            "----------\n"
          ],
          "name": "stdout"
        },
        {
          "output_type": "stream",
          "text": [
            "/usr/local/lib/python3.6/dist-packages/torch/optim/lr_scheduler.py:123: UserWarning: Detected call of `lr_scheduler.step()` before `optimizer.step()`. In PyTorch 1.1.0 and later, you should call them in the opposite order: `optimizer.step()` before `lr_scheduler.step()`.  Failure to do this will result in PyTorch skipping the first value of the learning rate schedule. See more details at https://pytorch.org/docs/stable/optim.html#how-to-adjust-learning-rate\n",
            "  \"https://pytorch.org/docs/stable/optim.html#how-to-adjust-learning-rate\", UserWarning)\n"
          ],
          "name": "stderr"
        },
        {
          "output_type": "stream",
          "text": [
            "train Loss: 0.1595 Acc: 0.6148\n",
            "val Loss: 0.1804 Acc: 0.4706\n",
            "\n",
            "Epoch 1/24\n",
            "----------\n",
            "train Loss: 0.1237 Acc: 0.7910\n",
            "val Loss: 0.1029 Acc: 0.8235\n",
            "\n",
            "Epoch 2/24\n",
            "----------\n",
            "train Loss: 0.1133 Acc: 0.7910\n",
            "val Loss: 0.0852 Acc: 0.8627\n",
            "\n",
            "Epoch 3/24\n",
            "----------\n",
            "train Loss: 0.1232 Acc: 0.7664\n",
            "val Loss: 0.0614 Acc: 0.9346\n",
            "\n",
            "Epoch 4/24\n",
            "----------\n",
            "train Loss: 0.1180 Acc: 0.7787\n",
            "val Loss: 0.0649 Acc: 0.9085\n",
            "\n",
            "Epoch 5/24\n",
            "----------\n",
            "train Loss: 0.1117 Acc: 0.7992\n",
            "val Loss: 0.0556 Acc: 0.9477\n",
            "\n",
            "Epoch 6/24\n",
            "----------\n",
            "train Loss: 0.1009 Acc: 0.8115\n",
            "val Loss: 0.0509 Acc: 0.9412\n",
            "\n",
            "Epoch 7/24\n",
            "----------\n",
            "train Loss: 0.0930 Acc: 0.8648\n",
            "val Loss: 0.0524 Acc: 0.9412\n",
            "\n",
            "Epoch 8/24\n",
            "----------\n",
            "train Loss: 0.0959 Acc: 0.8320\n",
            "val Loss: 0.0518 Acc: 0.9412\n",
            "\n",
            "Epoch 9/24\n",
            "----------\n",
            "train Loss: 0.0909 Acc: 0.8484\n",
            "val Loss: 0.0522 Acc: 0.9477\n",
            "\n",
            "Epoch 10/24\n",
            "----------\n",
            "train Loss: 0.0840 Acc: 0.8607\n",
            "val Loss: 0.0523 Acc: 0.9477\n",
            "\n",
            "Epoch 11/24\n",
            "----------\n",
            "train Loss: 0.0797 Acc: 0.8852\n",
            "val Loss: 0.0512 Acc: 0.9412\n",
            "\n",
            "Epoch 12/24\n",
            "----------\n",
            "train Loss: 0.0981 Acc: 0.8443\n",
            "val Loss: 0.0501 Acc: 0.9412\n",
            "\n",
            "Epoch 13/24\n",
            "----------\n",
            "train Loss: 0.0893 Acc: 0.8402\n",
            "val Loss: 0.0531 Acc: 0.9412\n",
            "\n",
            "Epoch 14/24\n",
            "----------\n",
            "train Loss: 0.0891 Acc: 0.8566\n",
            "val Loss: 0.0512 Acc: 0.9281\n",
            "\n",
            "Epoch 15/24\n",
            "----------\n",
            "train Loss: 0.0845 Acc: 0.8402\n",
            "val Loss: 0.0545 Acc: 0.9216\n",
            "\n",
            "Epoch 16/24\n",
            "----------\n",
            "train Loss: 0.1038 Acc: 0.8197\n",
            "val Loss: 0.0570 Acc: 0.9346\n",
            "\n",
            "Epoch 17/24\n",
            "----------\n",
            "train Loss: 0.1086 Acc: 0.7869\n",
            "val Loss: 0.0530 Acc: 0.9346\n",
            "\n",
            "Epoch 18/24\n",
            "----------\n",
            "train Loss: 0.0933 Acc: 0.8402\n",
            "val Loss: 0.0520 Acc: 0.9412\n",
            "\n",
            "Epoch 19/24\n",
            "----------\n",
            "train Loss: 0.0904 Acc: 0.8648\n",
            "val Loss: 0.0500 Acc: 0.9346\n",
            "\n",
            "Epoch 20/24\n",
            "----------\n",
            "train Loss: 0.0951 Acc: 0.8279\n",
            "val Loss: 0.0506 Acc: 0.9281\n",
            "\n",
            "Epoch 21/24\n",
            "----------\n",
            "train Loss: 0.0937 Acc: 0.8279\n",
            "val Loss: 0.0516 Acc: 0.9281\n",
            "\n",
            "Epoch 22/24\n",
            "----------\n",
            "train Loss: 0.0878 Acc: 0.8361\n",
            "val Loss: 0.0512 Acc: 0.9412\n",
            "\n",
            "Epoch 23/24\n",
            "----------\n",
            "train Loss: 0.0993 Acc: 0.8320\n",
            "val Loss: 0.0521 Acc: 0.9412\n",
            "\n",
            "Epoch 24/24\n",
            "----------\n",
            "train Loss: 0.1078 Acc: 0.8115\n",
            "val Loss: 0.0515 Acc: 0.9412\n",
            "\n",
            "Training complete in 2m 13s\n",
            "Best val Acc: 0.947712\n",
            "CPU times: user 1min 3s, sys: 13.8 s, total: 1min 17s\n",
            "Wall time: 2min 13s\n"
          ],
          "name": "stdout"
        }
      ]
    },
    {
      "cell_type": "code",
      "metadata": {
        "colab_type": "code",
        "id": "JxB3_UIFcZke",
        "colab": {
          "base_uri": "https://localhost:8080/",
          "height": 391
        },
        "outputId": "0bf163d3-20bc-477f-85c4-77ed220ef144"
      },
      "source": [
        "figure = plt.figure(figsize=(12, 7))\n",
        "plt.xlabel('epoch')\n",
        "plt.ylabel('loss')\n",
        "plt.ylim([0, 0.5])\n",
        "plt.plot(losses['train'], label='train')\n",
        "plt.plot(losses['val'], label='val')\n",
        "plt.legend();"
      ],
      "execution_count": 63,
      "outputs": [
        {
          "output_type": "display_data",
          "data": {
            "image/png": "[encoded data removed]",
            "text/plain": [
              "<Figure size 864x504 with 1 Axes>"
            ]
          },
          "metadata": {
            "tags": [],
            "needs_background": "light"
          }
        }
      ]
    },
    {
      "cell_type": "code",
      "metadata": {
        "colab_type": "code",
        "id": "7ItoAKPOcZkh",
        "colab": {}
      },
      "source": [
        "torch.save(model_extractor.state_dict(), 'GoogleNet_ex.pth')"
      ],
      "execution_count": null,
      "outputs": []
    },
    {
      "cell_type": "code",
      "metadata": {
        "colab_type": "code",
        "id": "U_YWUzq1cZkj",
        "colab": {
          "base_uri": "https://localhost:8080/",
          "height": 34
        },
        "outputId": "4758d750-a84a-46fa-fdb8-301c451b280f"
      },
      "source": [
        "model_extractor.load_state_dict(torch.load('GoogleNet_ex.pth'))"
      ],
      "execution_count": 65,
      "outputs": [
        {
          "output_type": "execute_result",
          "data": {
            "text/plain": [
              "<All keys matched successfully>"
            ]
          },
          "metadata": {
            "tags": []
          },
          "execution_count": 65
        }
      ]
    },
    {
      "cell_type": "code",
      "metadata": {
        "colab_type": "code",
        "scrolled": true,
        "id": "NBCJd2_rcZkn",
        "colab": {
          "base_uri": "https://localhost:8080/",
          "height": 34
        },
        "outputId": "bf071210-2785-4f1a-c3f8-e8f4b1f99f9e"
      },
      "source": [
        "print(\"Accuracy: {0:.4f}\".format(evaluate(model_extractor)))"
      ],
      "execution_count": 66,
      "outputs": [
        {
          "output_type": "stream",
          "text": [
            "Accuracy: 0.9412\n"
          ],
          "name": "stdout"
        }
      ]
    },
    {
      "cell_type": "markdown",
      "metadata": {
        "id": "QKrPFORN1fRR",
        "colab_type": "text"
      },
      "source": [
        "---"
      ]
    },
    {
      "cell_type": "markdown",
      "metadata": {
        "id": "m3Gb44Rz1VJI",
        "colab_type": "text"
      },
      "source": [
        "### Выводы (1 + 1 = 2 балла)"
      ]
    },
    {
      "cell_type": "markdown",
      "metadata": {
        "id": "Sconfui5cVlM",
        "colab_type": "text"
      },
      "source": [
        "(1 балл) Какой подход оказался лучше с GoogleNet: Fine tuning или Feature Extractor? Сильная ли между этими подходами получилась разница в качестве? Как Вы думаете, почему?"
      ]
    },
    {
      "cell_type": "markdown",
      "metadata": {
        "id": "DdSnVqJ4Y4CJ",
        "colab_type": "text"
      },
      "source": [
        "**Ответ:** **Вывод по GoogleNet:**\n",
        "Использоавние Fine Tuning показало чуть лучший результат (Accuracy = 0.9477 ), чем использование Feature Extractor (Accuracy = 0.9412). Но разница несущественная, на уровне погрешности. \n",
        "Возможно это связано с архитектурой сети, а именно с использование двух вспомогательных классификаторов, кроме основного. Это ускоряет процесс дообучения при подходе Fine tuning. "
      ]
    },
    {
      "cell_type": "markdown",
      "metadata": {
        "id": "YXbrauvPdegG",
        "colab_type": "text"
      },
      "source": [
        "(1 балла) Какая модель показала себя лучше всех по метрике качества? С чем это может быть связано?"
      ]
    },
    {
      "cell_type": "markdown",
      "metadata": {
        "id": "GSmYMm3tY7vg",
        "colab_type": "text"
      },
      "source": [
        "**Ответ:**"
      ]
    },
    {
      "cell_type": "markdown",
      "metadata": {
        "id": "5Wi-qAN23kHF",
        "colab_type": "text"
      },
      "source": [
        "Лучше всего себя показала дообученная с испльзованием подхода Fine Tuning модель сети Google Net (ну как лучше, на 0.006,  по мне так разницы особой не заметно). Это может быть связано как с особенностью архитектуры исходной сети, позволяющей \"улавливать\" как большие, так и небольшие элементы изображения за счет Incepton, а также со стабильностью обучения (минимизации los) на новом датасете за счет вспомогательного классификатора, что позволило эффективно дообучить сеть.\n",
        "\n"
      ]
    },
    {
      "cell_type": "markdown",
      "metadata": {
        "id": "SdcTN_Lf1dEA",
        "colab_type": "text"
      },
      "source": [
        "---"
      ]
    },
    {
      "cell_type": "markdown",
      "metadata": {
        "id": "IHjo58NKcfEA",
        "colab_type": "text"
      },
      "source": [
        "Можно убедиться, что все модели, которые мы использовали, успешно сохранены на диск и готовы к перемещению/переиспользованию:"
      ]
    },
    {
      "cell_type": "code",
      "metadata": {
        "id": "N5HS-_mocVME",
        "colab_type": "code",
        "colab": {
          "base_uri": "https://localhost:8080/",
          "height": 67
        },
        "outputId": "72abd3c3-1bc0-4558-dfb3-7c21d6d0019d"
      },
      "source": [
        "!ls"
      ],
      "execution_count": 67,
      "outputs": [
        {
          "output_type": "stream",
          "text": [
            "AlexNet_extractor.pth  GoogleNet.pth\t     hymenoptera_data.zip.1\n",
            "AlexNet_fine_tune.pth  hymenoptera_data      sample_data\n",
            "AlexNet_mixed.pth      hymenoptera_data.zip  VGG16.pth\n"
          ],
          "name": "stdout"
        }
      ]
    },
    {
      "cell_type": "markdown",
      "metadata": {
        "id": "NV3znzPdatyZ",
        "colab_type": "text"
      },
      "source": [
        "Поздравляем!  \n",
        "Теперь вы можете решать любые задачи классификации изображений самостоятельно с помощью техники Transfer Learning."
      ]
    },
    {
      "cell_type": "markdown",
      "metadata": {
        "colab_type": "text",
        "id": "c57p6EIi6qv2"
      },
      "source": [
        "\n",
        "<h2 style=\"text-align: center;\"><b>Полезные ссылки</b></h3>"
      ]
    },
    {
      "cell_type": "markdown",
      "metadata": {
        "colab_type": "text",
        "id": "8CvOZffV6qv2"
      },
      "source": [
        "1). *Курс Стэнфордского университета по нейронным сетям: http://cs231n.github.io/transfer-learning/*\n",
        "\n",
        "2). *Туториал на PyTorch Tutorials: https://pytorch.org/tutorials/beginner/transfer_learning_tutorial*\n",
        "\n",
        "3). *Статья на Medium про Transfer Learning в PyTorch: https://medium.com/@14prakash/almost-any-image-classification-problem-using-pytorch-i-am-in-love-with-pytorch-26c7aa979ec4*  "
      ]
    }
  ]
}